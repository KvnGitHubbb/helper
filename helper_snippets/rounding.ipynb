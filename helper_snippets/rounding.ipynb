{
 "cells": [
  {
   "cell_type": "code",
   "execution_count": 75,
   "id": "2540617d-586a-4c76-ad88-0d711f457318",
   "metadata": {},
   "outputs": [],
   "source": [
    "import random\n",
    "import math\n",
    "import statistics\n",
    "import numpy as np\n",
    "import pandas as pd\n",
    "from decimal import Decimal\n",
    "\n",
    "rng = np.random.default_rng(seed=444)\n",
    "series = pd.Series(rng.normal(size=4))\n",
    "random.seed(100)"
   ]
  },
  {
   "cell_type": "code",
   "execution_count": 2,
   "id": "ace4d0f7-f9b4-4f6b-9764-100234d79379",
   "metadata": {},
   "outputs": [
    {
     "data": {
      "text/plain": [
       "2"
      ]
     },
     "execution_count": 2,
     "metadata": {},
     "output_type": "execute_result"
    }
   ],
   "source": [
    "# rounding naar boven, by ties rounding naar nearest even number\n",
    "round(2.5)"
   ]
  },
  {
   "cell_type": "code",
   "execution_count": 3,
   "id": "b0d01910-9b9f-4fcc-b132-a841d2b33bd6",
   "metadata": {},
   "outputs": [],
   "source": [
    "def truncate(n, p):\n",
    "    \"\"\"everything after the p'th decimal is gone\"\"\"\n",
    "    \n",
    "    factor = 10**p\n",
    "    return int(n * factor) / factor"
   ]
  },
  {
   "cell_type": "code",
   "execution_count": 4,
   "id": "5a0addce-adbe-427a-a39a-77e07e2b61f9",
   "metadata": {},
   "outputs": [],
   "source": [
    "def round_up(n, p):\n",
    "    \"\"\"rounds the p'th decimal up\"\"\"\n",
    "    \n",
    "    factor = 10**p\n",
    "    return math.ceil(n * factor) / factor"
   ]
  },
  {
   "cell_type": "code",
   "execution_count": 5,
   "id": "31aa90b4-addd-4bb6-9253-5d651d10497f",
   "metadata": {},
   "outputs": [],
   "source": [
    "def round_down(n, p):\n",
    "    \"\"\"rounds the p'th decimal down\"\"\"\n",
    "    \n",
    "    factor = 10**p\n",
    "    return math.floor(n * factor) / factor"
   ]
  },
  {
   "cell_type": "code",
   "execution_count": 73,
   "id": "3ffc289b-825c-4787-8d96-39dfc1852d84",
   "metadata": {},
   "outputs": [],
   "source": [
    "def rounding_half_up(n, p):\n",
    "    \"\"\"rounds >= 0.5 up, below down\"\"\"\n",
    "    \n",
    "    factor = 10**p\n",
    "    number = n * factor\n",
    "    flag = int(number * 10) % 10\n",
    "    \n",
    "    if flag >= 5:\n",
    "        return math.ceil(number) / factor\n",
    "    else:\n",
    "        return math.floor(number) / factor"
   ]
  },
  {
   "cell_type": "code",
   "execution_count": 7,
   "id": "e2eaf931-5c8c-4870-a8f8-248f6654e178",
   "metadata": {},
   "outputs": [],
   "source": [
    "def rounding_half_down(n, p):\n",
    "    \"\"\"rounds > 0.5, below down\"\"\"\n",
    "    \n",
    "    factor = 10**p\n",
    "    number = n * factor\n",
    "    flag = int(number * 10) % 10\n",
    "    \n",
    "    if flag > 5:\n",
    "        return math.ceil(number) / factor\n",
    "    else:\n",
    "        return math.floor(number) / factor"
   ]
  },
  {
   "cell_type": "code",
   "execution_count": 8,
   "id": "ae79ea15-ddad-496b-90e9-896be05f3458",
   "metadata": {},
   "outputs": [],
   "source": [
    "def round_away_from_zero(n, p):\n",
    "    \"\"\"rounds away from zero\"\"\"\n",
    "    \n",
    "    factor = 10**p\n",
    "    number = abs(n * factor)\n",
    "    flag = int(number * 10) % 10\n",
    "    \n",
    "    if flag >= 5:\n",
    "        result = math.ceil(number) / factor\n",
    "        return math.copysign(result, n)\n",
    "    else:\n",
    "        result = math.floor(number) / factor\n",
    "        return math.copysign(result, n)"
   ]
  },
  {
   "cell_type": "markdown",
   "id": "168551bc-c911-47e3-9a04-4204564ac547",
   "metadata": {},
   "source": [
    "<br>"
   ]
  },
  {
   "cell_type": "code",
   "execution_count": 19,
   "id": "71764db5-a6a1-4fce-8402-d20a301959f6",
   "metadata": {},
   "outputs": [
    {
     "data": {
      "text/plain": [
       "Context(prec=28, rounding=ROUND_HALF_EVEN, Emin=-999999, Emax=999999, capitals=1, clamp=0, flags=[], traps=[InvalidOperation, DivisionByZero, Overflow])"
      ]
     },
     "execution_count": 19,
     "metadata": {},
     "output_type": "execute_result"
    }
   ],
   "source": [
    "decimal.getcontext()"
   ]
  },
  {
   "cell_type": "code",
   "execution_count": 26,
   "id": "751b4ed1-1cf8-4903-b35d-37e0aa5f19d8",
   "metadata": {},
   "outputs": [
    {
     "data": {
      "text/plain": [
       "Decimal('0.1')"
      ]
     },
     "execution_count": 26,
     "metadata": {},
     "output_type": "execute_result"
    }
   ],
   "source": [
    "# met decimal kan je de floating point representation error voorkomen\n",
    "Decimal('0.1')"
   ]
  },
  {
   "cell_type": "code",
   "execution_count": 36,
   "id": "9c7406a7-7706-4666-b3e4-b599be6f59fd",
   "metadata": {},
   "outputs": [
    {
     "data": {
      "text/plain": [
       "Decimal('2.68')"
      ]
     },
     "execution_count": 36,
     "metadata": {},
     "output_type": "execute_result"
    }
   ],
   "source": [
    "round(Decimal('2.675'),2)"
   ]
  },
  {
   "cell_type": "code",
   "execution_count": 35,
   "id": "93195e75-20da-49df-a948-414309307bf3",
   "metadata": {},
   "outputs": [
    {
     "data": {
      "text/plain": [
       "2.67"
      ]
     },
     "execution_count": 35,
     "metadata": {},
     "output_type": "execute_result"
    }
   ],
   "source": [
    "round(2.675,2)"
   ]
  },
  {
   "cell_type": "code",
   "execution_count": 43,
   "id": "5420f8eb-1164-4570-af3d-3f8452b49d24",
   "metadata": {},
   "outputs": [
    {
     "data": {
      "text/plain": [
       "(Decimal('1.4'), Decimal('-1.1'))"
      ]
     },
     "execution_count": 43,
     "metadata": {},
     "output_type": "execute_result"
    }
   ],
   "source": [
    "decimal.getcontext().rounding = decimal.ROUND_HALF_UP\n",
    "\n",
    "round(Decimal(\"1.35\"), 1), round(Decimal(\"-1.14\"), 1)"
   ]
  },
  {
   "cell_type": "code",
   "execution_count": 45,
   "id": "5bdafd8e-f282-4100-9da8-32319cf6ead7",
   "metadata": {},
   "outputs": [
    {
     "data": {
      "text/plain": [
       "array([[-0.69011449, -2.10455459, -0.78789037,  0.93417409],\n",
       "       [ 0.58204206,  0.7022188 , -0.23768089,  0.1183704 ],\n",
       "       [-0.41049553, -0.55583871,  0.00684936, -0.50000095]])"
      ]
     },
     "execution_count": 45,
     "metadata": {},
     "output_type": "execute_result"
    }
   ],
   "source": [
    "data = rng.normal(size=(3, 4))\n",
    "data"
   ]
  },
  {
   "cell_type": "code",
   "execution_count": 46,
   "id": "17d6c467-1e78-461a-af2e-8e2d627d6006",
   "metadata": {},
   "outputs": [
    {
     "data": {
      "text/plain": [
       "array([[-0.69 , -2.105, -0.788,  0.934],\n",
       "       [ 0.582,  0.702, -0.238,  0.118],\n",
       "       [-0.41 , -0.556,  0.007, -0.5  ]])"
      ]
     },
     "execution_count": 46,
     "metadata": {},
     "output_type": "execute_result"
    }
   ],
   "source": [
    "np.round(data,3)"
   ]
  },
  {
   "cell_type": "code",
   "execution_count": null,
   "id": "839d8775-d7e3-451c-b327-cae350049512",
   "metadata": {},
   "outputs": [
    {
     "data": {
      "text/plain": [
       "2.31"
      ]
     },
     "execution_count": 65,
     "metadata": {},
     "output_type": "execute_result"
    }
   ],
   "source": [
    "truncate(2.32,2)"
   ]
  },
  {
   "cell_type": "code",
   "execution_count": 79,
   "id": "d62bc3e8-9cd6-4ee1-beed-960a2e6d5aa3",
   "metadata": {},
   "outputs": [
    {
     "data": {
      "text/plain": [
       "231.99999999999997"
      ]
     },
     "execution_count": 79,
     "metadata": {},
     "output_type": "execute_result"
    }
   ],
   "source": [
    "2.32*100"
   ]
  },
  {
   "cell_type": "code",
   "execution_count": 80,
   "id": "49dec7d6-a445-41b3-9070-33d09a6a1507",
   "metadata": {},
   "outputs": [
    {
     "data": {
      "text/plain": [
       "0   -0.690114\n",
       "1   -2.104555\n",
       "2   -0.787890\n",
       "3    0.934174\n",
       "dtype: float64"
      ]
     },
     "execution_count": 80,
     "metadata": {},
     "output_type": "execute_result"
    }
   ],
   "source": [
    "series"
   ]
  },
  {
   "cell_type": "code",
   "execution_count": 89,
   "id": "909d8253-b068-493f-83a4-695066b26f24",
   "metadata": {},
   "outputs": [
    {
     "data": {
      "text/html": [
       "<div>\n",
       "<style scoped>\n",
       "    .dataframe tbody tr th:only-of-type {\n",
       "        vertical-align: middle;\n",
       "    }\n",
       "\n",
       "    .dataframe tbody tr th {\n",
       "        vertical-align: top;\n",
       "    }\n",
       "\n",
       "    .dataframe thead th {\n",
       "        text-align: right;\n",
       "    }\n",
       "</style>\n",
       "<table border=\"1\" class=\"dataframe\">\n",
       "  <thead>\n",
       "    <tr style=\"text-align: right;\">\n",
       "      <th></th>\n",
       "      <th>A</th>\n",
       "      <th>B</th>\n",
       "      <th>C</th>\n",
       "    </tr>\n",
       "  </thead>\n",
       "  <tbody>\n",
       "    <tr>\n",
       "      <th>10</th>\n",
       "      <td>1.177081</td>\n",
       "      <td>1.236250</td>\n",
       "      <td>-0.859808</td>\n",
       "    </tr>\n",
       "    <tr>\n",
       "      <th>11</th>\n",
       "      <td>-0.979454</td>\n",
       "      <td>0.770588</td>\n",
       "      <td>-0.004166</td>\n",
       "    </tr>\n",
       "    <tr>\n",
       "      <th>12</th>\n",
       "      <td>-0.786697</td>\n",
       "      <td>0.518166</td>\n",
       "      <td>-0.432049</td>\n",
       "    </tr>\n",
       "  </tbody>\n",
       "</table>\n",
       "</div>"
      ],
      "text/plain": [
       "           A         B         C\n",
       "10  1.177081  1.236250 -0.859808\n",
       "11 -0.979454  0.770588 -0.004166\n",
       "12 -0.786697  0.518166 -0.432049"
      ]
     },
     "execution_count": 89,
     "metadata": {},
     "output_type": "execute_result"
    }
   ],
   "source": [
    "df = pd.DataFrame(rng.normal(size=(3, 3)), columns=[\"A\", \"B\", \"C\"])\n",
    "df.index = [10,11,12]\n",
    "df"
   ]
  },
  {
   "cell_type": "code",
   "execution_count": 94,
   "id": "978b3679-efbb-4dee-bf3b-91e6b61adf79",
   "metadata": {},
   "outputs": [
    {
     "data": {
      "text/plain": [
       "0.770588499097353"
      ]
     },
     "execution_count": 94,
     "metadata": {},
     "output_type": "execute_result"
    }
   ],
   "source": [
    "df.loc[11,'B']"
   ]
  },
  {
   "cell_type": "code",
   "execution_count": null,
   "id": "1c39b646-dbca-4fc8-9196-7b20b4f71993",
   "metadata": {},
   "outputs": [],
   "source": []
  },
  {
   "cell_type": "code",
   "execution_count": 17,
   "id": "c309e972-0639-493f-b863-a7bc9ff87627",
   "metadata": {},
   "outputs": [],
   "source": [
    "a = [\"jan\", \"tim\", \"kim\", \"claire\"]\n",
    "b = [f\"{x}2\" for x in a]"
   ]
  },
  {
   "cell_type": "code",
   "execution_count": 20,
   "id": "ae708d17-1094-414e-a7a7-980713754196",
   "metadata": {},
   "outputs": [
    {
     "data": {
      "text/plain": [
       "[('jan', 'jan2'), ('tim', 'tim2'), ('kim', 'kim2'), ('claire', 'claire2')]"
      ]
     },
     "execution_count": 20,
     "metadata": {},
     "output_type": "execute_result"
    }
   ],
   "source": [
    "c = [row for row in zip(a, b)]\n",
    "c"
   ]
  },
  {
   "cell_type": "code",
   "execution_count": 21,
   "id": "e9519267-2535-4948-8d95-63fde60284de",
   "metadata": {},
   "outputs": [
    {
     "name": "stdout",
     "output_type": "stream",
     "text": [
      "hello jan and hi jan2\n",
      "hello tim and hi tim2\n",
      "hello kim and hi kim2\n",
      "hello claire and hi claire2\n"
     ]
    }
   ],
   "source": [
    "for name in c:\n",
    "    print(\"hello %s and hi %s\" % name)"
   ]
  },
  {
   "cell_type": "code",
   "execution_count": null,
   "id": "942e21d2-8b51-424a-92a4-e0a0e4647fea",
   "metadata": {},
   "outputs": [],
   "source": []
  }
 ],
 "metadata": {
  "kernelspec": {
   "display_name": "Python 3 (ipykernel)",
   "language": "python",
   "name": "python3"
  },
  "language_info": {
   "codemirror_mode": {
    "name": "ipython",
    "version": 3
   },
   "file_extension": ".py",
   "mimetype": "text/x-python",
   "name": "python",
   "nbconvert_exporter": "python",
   "pygments_lexer": "ipython3",
   "version": "3.9.13"
  }
 },
 "nbformat": 4,
 "nbformat_minor": 5
}
