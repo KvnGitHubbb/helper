{
 "cells": [
  {
   "cell_type": "code",
   "execution_count": 3,
   "id": "736f703a-e1af-4283-b29b-0ba901038726",
   "metadata": {},
   "outputs": [],
   "source": [
    "def func(input: float) -> str:\n",
    "    return f\"your input is {input}!\""
   ]
  },
  {
   "cell_type": "code",
   "execution_count": 5,
   "id": "e3e1c9a4-3526-4b37-97bc-9626f4be88fb",
   "metadata": {},
   "outputs": [
    {
     "data": {
      "text/plain": [
       "'your input is Hello!'"
      ]
     },
     "execution_count": 5,
     "metadata": {},
     "output_type": "execute_result"
    }
   ],
   "source": [
    "func(\"Hello\")"
   ]
  },
  {
   "cell_type": "code",
   "execution_count": 20,
   "id": "34367d0e-37e7-467a-abf4-28997dfcd566",
   "metadata": {},
   "outputs": [],
   "source": [
    "from typing import Any\n",
    "from typing_extensions import Self\n",
    "\n",
    "\n",
    "class Stack:\n",
    "\n",
    "    def __init__(self) -> None:\n",
    "        self.items: list[Any] = []\n",
    "\n",
    "    def push(self, item: Any) -> Self:\n",
    "        self.items.append(item)\n",
    "        return self\n",
    "\n",
    "    def pop(self) -> Any:\n",
    "        if self.__bool__():\n",
    "            return self.items.pop()\n",
    "        else:\n",
    "            raise ValueError(\"Stack is empty\")\n",
    "\n",
    "    def __bool__(self) -> bool:\n",
    "        return len(self.items) > 0"
   ]
  },
  {
   "cell_type": "code",
   "execution_count": 21,
   "id": "8616a011-77e9-468d-aeac-ea45a742e350",
   "metadata": {},
   "outputs": [],
   "source": [
    "s = Stack()"
   ]
  },
  {
   "cell_type": "code",
   "execution_count": 22,
   "id": "919712a5-f9e7-417e-990e-0f3911bfdbb8",
   "metadata": {},
   "outputs": [
    {
     "data": {
      "text/plain": [
       "<__main__.Stack at 0x1cc3515f2b0>"
      ]
     },
     "execution_count": 22,
     "metadata": {},
     "output_type": "execute_result"
    }
   ],
   "source": [
    "s.push(1)"
   ]
  },
  {
   "cell_type": "code",
   "execution_count": 23,
   "id": "62054374-32d3-4bfb-9424-f635cceff3ad",
   "metadata": {},
   "outputs": [
    {
     "data": {
      "text/plain": [
       "<__main__.Stack at 0x1cc3515f2b0>"
      ]
     },
     "execution_count": 23,
     "metadata": {},
     "output_type": "execute_result"
    }
   ],
   "source": [
    "s.push(2)"
   ]
  },
  {
   "cell_type": "code",
   "execution_count": 24,
   "id": "76cad954-adc5-413c-bce3-43b9e2eab410",
   "metadata": {},
   "outputs": [
    {
     "data": {
      "text/plain": [
       "[1, 2]"
      ]
     },
     "execution_count": 24,
     "metadata": {},
     "output_type": "execute_result"
    }
   ],
   "source": [
    "s.items"
   ]
  },
  {
   "cell_type": "markdown",
   "id": "053c12c2-1cfe-4c29-bbe6-cf9eea7c8ef0",
   "metadata": {},
   "source": [
    "<br>"
   ]
  },
  {
   "cell_type": "code",
   "execution_count": 32,
   "id": "e33be55d-b12e-44eb-b849-d62b00f48a80",
   "metadata": {},
   "outputs": [],
   "source": [
    "from dataclasses import dataclass\n",
    "from typing_extensions import Self\n",
    "\n",
    "@dataclass\n",
    "class BankAccount:\n",
    "    account_number: int\n",
    "    balance: float\n",
    "\n",
    "    def display_balance(self) -> Self:\n",
    "        print(f\"Account Number: {self.account_number}\")\n",
    "        print(f\"Balance: ${self.balance:,.2f}\\n\")\n",
    "        return self\n",
    "\n",
    "    def deposit(self, amount: float) -> Self:\n",
    "        self.balance += amount\n",
    "        return self\n",
    "\n",
    "    def withdraw(self, amount: float) -> Self:\n",
    "        if self.balance >= amount:\n",
    "            self.balance -= amount\n",
    "        else:\n",
    "            print(\"Insufficient balance\")\n",
    "        return self"
   ]
  },
  {
   "cell_type": "code",
   "execution_count": 34,
   "id": "0ae9939b-9644-4c54-b4c4-24da4bed79ea",
   "metadata": {},
   "outputs": [],
   "source": [
    "my_account = BankAccount(account_number=1, balance=100)"
   ]
  },
  {
   "cell_type": "code",
   "execution_count": 38,
   "id": "76478275-2b0e-47af-a5eb-843992b4fe7d",
   "metadata": {},
   "outputs": [
    {
     "data": {
      "text/plain": [
       "BankAccount(account_number=1, balance=103.80343)"
      ]
     },
     "execution_count": 38,
     "metadata": {},
     "output_type": "execute_result"
    }
   ],
   "source": [
    "my_account.deposit(1.90343)"
   ]
  },
  {
   "cell_type": "code",
   "execution_count": 46,
   "id": "1b25aa64-584d-4ffd-860d-7077c05a5c5c",
   "metadata": {},
   "outputs": [],
   "source": [
    "import random\n",
    "from dataclasses import dataclass\n",
    "\n",
    "@dataclass\n",
    "class SavingsAccount(BankAccount):\n",
    "    interest_rate: float\n",
    "\n",
    "    @classmethod\n",
    "    def from_application(cls, deposit: float = 0, interest_rate: float = 1) -> Self:\n",
    "        # Generate a random seven-digit bank account number\n",
    "        account_number = random.randint(1000000, 9999999)\n",
    "        return cls(account_number, deposit, interest_rate)\n",
    "\n",
    "    def calculate_interest(self) -> float:\n",
    "        return self.balance * self.interest_rate / 100\n",
    "\n",
    "    def add_interest(self) -> Self:\n",
    "        self.deposit(self.calculate_interest())\n",
    "        return self"
   ]
  },
  {
   "cell_type": "code",
   "execution_count": 47,
   "id": "7157a414-9833-41e3-bf68-9809a667d094",
   "metadata": {},
   "outputs": [],
   "source": [
    "savings = SavingsAccount.from_application(deposit=100, interest_rate=5)"
   ]
  },
  {
   "cell_type": "code",
   "execution_count": 52,
   "id": "27c58547-70c5-4826-bfda-c7b96ff481f7",
   "metadata": {},
   "outputs": [
    {
     "name": "stdout",
     "output_type": "stream",
     "text": [
      "Account Number: 4916499\n",
      "Balance: $100.00\n",
      "\n",
      "Account Number: 4916499\n",
      "Balance: $105.00\n",
      "\n"
     ]
    },
    {
     "data": {
      "text/plain": [
       "SavingsAccount(account_number=4916499, balance=105.0, interest_rate=5)"
      ]
     },
     "execution_count": 52,
     "metadata": {},
     "output_type": "execute_result"
    }
   ],
   "source": [
    "(savings.display_balance().add_interest().display_balance())"
   ]
  },
  {
   "cell_type": "code",
   "execution_count": 54,
   "id": "e77cf3f3-6148-4f18-89fb-c6122ab5cc07",
   "metadata": {},
   "outputs": [
    {
     "name": "stdout",
     "output_type": "stream",
     "text": [
      "3.9.13\n"
     ]
    }
   ],
   "source": [
    "from platform import python_version\n",
    "print(python_version())"
   ]
  },
  {
   "cell_type": "code",
   "execution_count": null,
   "id": "c995ed41-277b-49f4-953f-f7d2bcb09b76",
   "metadata": {},
   "outputs": [],
   "source": []
  }
 ],
 "metadata": {
  "kernelspec": {
   "display_name": "Python 3 (ipykernel)",
   "language": "python",
   "name": "python3"
  },
  "language_info": {
   "codemirror_mode": {
    "name": "ipython",
    "version": 3
   },
   "file_extension": ".py",
   "mimetype": "text/x-python",
   "name": "python",
   "nbconvert_exporter": "python",
   "pygments_lexer": "ipython3",
   "version": "3.9.13"
  }
 },
 "nbformat": 4,
 "nbformat_minor": 5
}
