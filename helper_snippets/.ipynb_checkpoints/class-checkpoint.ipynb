{
 "cells": [
  {
   "cell_type": "code",
   "execution_count": 6,
   "id": "e18d873a-11f0-43cc-88a5-dd4893c7820a",
   "metadata": {},
   "outputs": [],
   "source": [
    "class car:\n",
    "    def __init__(self, *, brand):\n",
    "        self.brand = brand"
   ]
  },
  {
   "cell_type": "code",
   "execution_count": 7,
   "id": "b174c635-add2-4580-8ca3-856e2d82e30a",
   "metadata": {},
   "outputs": [],
   "source": [
    "x = car(brand=\"audi\")"
   ]
  },
  {
   "cell_type": "code",
   "execution_count": 8,
   "id": "bf508fa0-760e-42f8-a6a3-c343e16fe5de",
   "metadata": {},
   "outputs": [
    {
     "data": {
      "text/plain": [
       "'audi'"
      ]
     },
     "execution_count": 8,
     "metadata": {},
     "output_type": "execute_result"
    }
   ],
   "source": [
    "x.brand"
   ]
  },
  {
   "cell_type": "code",
   "execution_count": null,
   "id": "da6765fe-b0c2-4a59-80c1-05e301bf5b90",
   "metadata": {},
   "outputs": [],
   "source": [
    "def qwerty():\n",
    "    return \"asasasasasas\""
   ]
  }
 ],
 "metadata": {
  "kernelspec": {
   "display_name": "Python 3 (ipykernel)",
   "language": "python",
   "name": "python3"
  },
  "language_info": {
   "codemirror_mode": {
    "name": "ipython",
    "version": 3
   },
   "file_extension": ".py",
   "mimetype": "text/x-python",
   "name": "python",
   "nbconvert_exporter": "python",
   "pygments_lexer": "ipython3",
   "version": "3.9.13"
  }
 },
 "nbformat": 4,
 "nbformat_minor": 5
}
