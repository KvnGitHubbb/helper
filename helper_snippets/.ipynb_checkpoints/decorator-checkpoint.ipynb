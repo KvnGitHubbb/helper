{
 "cells": [
  {
   "cell_type": "code",
   "execution_count": 1,
   "id": "4843ed98-29be-457a-9970-85297d2aa0d4",
   "metadata": {},
   "outputs": [],
   "source": [
    "import functools\n",
    "import time\n",
    "import random\n",
    "\n",
    "PLUGINS = dict()"
   ]
  },
  {
   "cell_type": "code",
   "execution_count": 23,
   "id": "178ed360-71c2-4757-8a92-acbc8a9820c5",
   "metadata": {},
   "outputs": [],
   "source": [
    "# general decorator structure\n",
    "def decorator(func):\n",
    "    \n",
    "    @functools.wraps(func)\n",
    "    def wrapper_decorator(*args, **kwargs):\n",
    "        # Do something before\n",
    "        value = func(*args, **kwargs)\n",
    "        # Do something after\n",
    "        return value\n",
    "    \n",
    "    return wrapper_decorator\n"
   ]
  },
  {
   "cell_type": "code",
   "execution_count": 24,
   "id": "3bb1da60-1fa7-41b1-90c4-fd8dabfcbc86",
   "metadata": {},
   "outputs": [],
   "source": [
    "def timer(func):\n",
    "    \n",
    "    \"\"\"Print the runtime of the decorated function\"\"\"\n",
    "    @functools.wraps(func)\n",
    "    def wrapper_timer(*args, **kwargs):\n",
    "        start_time = time.perf_counter()    # 1\n",
    "        value = func(*args, **kwargs)\n",
    "        end_time = time.perf_counter()      # 2\n",
    "        run_time = end_time - start_time    # 3\n",
    "        print(f\"Finished {func.__name__!r} in {run_time:.4f} secs\")\n",
    "        return value\n",
    "    return wrapper_timer"
   ]
  },
  {
   "cell_type": "code",
   "execution_count": 25,
   "id": "cc3e6a10-9ddf-4e2f-b50f-e52708392dd2",
   "metadata": {},
   "outputs": [],
   "source": [
    "def debug(func):\n",
    "    \n",
    "    \"\"\"Print the function signature and return value\"\"\"\n",
    "    @functools.wraps(func)\n",
    "    def wrapper_debug(*args, **kwargs):\n",
    "        args_repr = [repr(a) for a in args]                      # 1\n",
    "        kwargs_repr = [f\"{k}={v!r}\" for k, v in kwargs.items()]  # 2\n",
    "        signature = \", \".join(args_repr + kwargs_repr)           # 3\n",
    "        print(f\"Calling {func.__name__}({signature})\")\n",
    "        value = func(*args, **kwargs)\n",
    "        print(f\"{func.__name__!r} returned {value!r}\")           # 4\n",
    "        return value\n",
    "    return wrapper_debug"
   ]
  },
  {
   "cell_type": "code",
   "execution_count": 26,
   "id": "f1ae2e7f-b91f-4721-acc9-afc70cd6720f",
   "metadata": {},
   "outputs": [],
   "source": [
    "def slow_down(func):\n",
    "    \n",
    "    \"\"\"Sleep 1 second before calling the function\"\"\"\n",
    "    @functools.wraps(func)\n",
    "    def wrapper_slow_down(*args, **kwargs):\n",
    "        time.sleep(1)\n",
    "        return func(*args, **kwargs)\n",
    "    return wrapper_slow_down"
   ]
  },
  {
   "cell_type": "code",
   "execution_count": 27,
   "id": "a0b92aec-7905-4099-922b-161f0361e196",
   "metadata": {},
   "outputs": [],
   "source": [
    "def register(func):\n",
    "    \"\"\"Register a function as a plug-in\"\"\"\n",
    "    PLUGINS[func.__name__] = func\n",
    "    return func"
   ]
  },
  {
   "cell_type": "code",
   "execution_count": 30,
   "id": "f4d321b5-64f8-4c2f-93f7-58a1d7d09c27",
   "metadata": {},
   "outputs": [],
   "source": [
    "# by extra parameters heb je twee lagen nodig!\n",
    "def parrot(name='', times=''):\n",
    "    \"\"\"A parrot that repeats the function output\"\"\"\n",
    "    \n",
    "    if name and times:\n",
    "        def decorator(func):\n",
    "            @functools.wraps(func)\n",
    "            def wrapper(*args, **kwargs):\n",
    "                for i in range(times):\n",
    "                    print(f\"{name} said {func(*args, **kwargs)}\")\n",
    "            return wrapper\n",
    "    else:\n",
    "        def decorator(func):\n",
    "            @functools.wraps(func)\n",
    "            def wrapper(*args, **kwargs):\n",
    "                for i in range(2):\n",
    "                    print(f\"Two times default said {func(*args, **kwargs)}\")\n",
    "            return wrapper\n",
    "        \n",
    "    return decorator"
   ]
  },
  {
   "cell_type": "code",
   "execution_count": 16,
   "id": "96e5de7f-3540-45fc-a253-d33a6d6dc08f",
   "metadata": {},
   "outputs": [],
   "source": [
    "def count_calls(func):\n",
    "    \n",
    "    @functools.wraps(func)\n",
    "    def wrapper_count_calls(*args, **kwargs):\n",
    "        wrapper_count_calls.num_calls += 1\n",
    "        print(f\"Call {wrapper_count_calls.num_calls} of {func.__name__!r}\")\n",
    "        return func(*args, **kwargs)\n",
    "    \n",
    "    wrapper_count_calls.num_calls = 0\n",
    "    return wrapper_count_calls"
   ]
  },
  {
   "cell_type": "code",
   "execution_count": 17,
   "id": "4d4d5abf-11d3-48a0-b9d3-e92f7868b5ea",
   "metadata": {},
   "outputs": [],
   "source": [
    "def slow_down(_func=None, *, rate=1):\n",
    "    \"\"\"Sleep given amount of seconds before calling the function\"\"\"\n",
    "    def decorator_slow_down(func):\n",
    "        @functools.wraps(func)\n",
    "        def wrapper_slow_down(*args, **kwargs):\n",
    "            time.sleep(rate)\n",
    "            return func(*args, **kwargs)\n",
    "        return wrapper_slow_down\n",
    "\n",
    "    if _func is None:\n",
    "        return decorator_slow_down\n",
    "    else:\n",
    "        return decorator_slow_down(_func)"
   ]
  },
  {
   "cell_type": "code",
   "execution_count": null,
   "id": "2eaec142-5c2d-49ae-a4aa-cf826e5059c2",
   "metadata": {},
   "outputs": [],
   "source": [
    "# een singleton, een class met maar 1 instance/object\n",
    "def singleton(cls):\n",
    "    \"\"\"Make a class a Singleton class (only one instance)\"\"\"\n",
    "    @functools.wraps(cls)\n",
    "    def wrapper_singleton(*args, **kwargs):\n",
    "        if not wrapper_singleton.instance:\n",
    "            wrapper_singleton.instance = cls(*args, **kwargs)\n",
    "        return wrapper_singleton.instance\n",
    "    wrapper_singleton.instance = None\n",
    "    return wrapper_singleton\n",
    "\n",
    "@singleton\n",
    "class TheOne:\n",
    "    pass"
   ]
  },
  {
   "cell_type": "code",
   "execution_count": null,
   "id": "fb50e4ab-8b10-4367-b2d6-ce028a5291cd",
   "metadata": {},
   "outputs": [],
   "source": []
  },
  {
   "cell_type": "code",
   "execution_count": 31,
   "id": "29ce6cff-13bc-4970-a826-f4b7f89a3464",
   "metadata": {},
   "outputs": [],
   "source": [
    "@parrot()\n",
    "def say_whee():\n",
    "    return \"Whee\"\n"
   ]
  },
  {
   "cell_type": "code",
   "execution_count": 32,
   "id": "aa4cf48d-ac8b-4c52-bb56-16fdb11acb29",
   "metadata": {},
   "outputs": [
    {
     "name": "stdout",
     "output_type": "stream",
     "text": [
      "Two times default said Whee\n",
      "Two times default said Whee\n"
     ]
    }
   ],
   "source": [
    "say_whee()"
   ]
  },
  {
   "cell_type": "code",
   "execution_count": null,
   "id": "0c844726-29f9-49f4-a9d9-75d060ef31dc",
   "metadata": {},
   "outputs": [],
   "source": []
  },
  {
   "cell_type": "code",
   "execution_count": 36,
   "id": "48ac6579-5ce1-4a4f-a9a4-086d1d1090f3",
   "metadata": {},
   "outputs": [
    {
     "data": {
      "text/plain": [
       "NoneType"
      ]
     },
     "execution_count": 36,
     "metadata": {},
     "output_type": "execute_result"
    }
   ],
   "source": [
    "type(None)"
   ]
  },
  {
   "cell_type": "code",
   "execution_count": null,
   "id": "9c8c9624-c1b5-42ea-b812-04d72b84c7af",
   "metadata": {},
   "outputs": [],
   "source": []
  },
  {
   "cell_type": "code",
   "execution_count": null,
   "id": "986a8e57-5d68-4a64-bc4b-618c91c0167d",
   "metadata": {},
   "outputs": [],
   "source": []
  },
  {
   "cell_type": "code",
   "execution_count": 16,
   "id": "62a45073-4c7c-4f63-9736-66105e9d8749",
   "metadata": {},
   "outputs": [],
   "source": [
    "def old_deco(*, name, surname=''):\n",
    "    \n",
    "    if surname:\n",
    "        def wrapper_1(func):\n",
    "            \n",
    "            @functools.wraps(func)\n",
    "            def wrapper_2(*args, **kwargs):\n",
    "                return f\"{name} {surname} {func(*args, **kwargs)}, Houray!\"\n",
    "            \n",
    "            return wrapper_2\n",
    "    else:\n",
    "         def wrapper_1(func):\n",
    "            @functools.wraps(func)\n",
    "            def wrapper_2(*args, **kwargs):\n",
    "                return f\"{name} {func(*args, **kwargs)}, Houray! no surname?\"\n",
    "            \n",
    "            return wrapper_2\n",
    "        \n",
    "    return wrapper_1"
   ]
  },
  {
   "cell_type": "code",
   "execution_count": 17,
   "id": "c7805dec-99ab-4f03-9d21-48be18a96428",
   "metadata": {},
   "outputs": [],
   "source": [
    "@old_deco(name=\"Jan\", surname=\"van Bommel\")\n",
    "def old(age):\n",
    "    return f\"is {age} years old\""
   ]
  },
  {
   "cell_type": "code",
   "execution_count": 18,
   "id": "865b6a41-525a-442b-b083-a369c10358af",
   "metadata": {},
   "outputs": [
    {
     "data": {
      "text/plain": [
       "'Jan van Bommel is 10 years old, Houray!'"
      ]
     },
     "execution_count": 18,
     "metadata": {},
     "output_type": "execute_result"
    }
   ],
   "source": [
    "old(10)"
   ]
  },
  {
   "cell_type": "code",
   "execution_count": null,
   "id": "384ab3a5-631b-453a-825d-245985f20376",
   "metadata": {},
   "outputs": [],
   "source": []
  }
 ],
 "metadata": {
  "kernelspec": {
   "display_name": "Python 3 (ipykernel)",
   "language": "python",
   "name": "python3"
  },
  "language_info": {
   "codemirror_mode": {
    "name": "ipython",
    "version": 3
   },
   "file_extension": ".py",
   "mimetype": "text/x-python",
   "name": "python",
   "nbconvert_exporter": "python",
   "pygments_lexer": "ipython3",
   "version": "3.9.13"
  }
 },
 "nbformat": 4,
 "nbformat_minor": 5
}
