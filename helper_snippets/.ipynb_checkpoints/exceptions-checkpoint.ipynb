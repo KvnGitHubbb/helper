{
 "cells": [
  {
   "cell_type": "code",
   "execution_count": 59,
   "id": "faa63661-6865-4a2f-be73-e692dd92a686",
   "metadata": {},
   "outputs": [],
   "source": [
    "from operator import mul, truediv\n",
    "from os import strerror\n",
    "from pprint import pprint\n",
    "from contextlib import suppress"
   ]
  },
  {
   "cell_type": "code",
   "execution_count": 24,
   "id": "22d064d3-8fa8-4cee-937b-c8ffddfc65be",
   "metadata": {},
   "outputs": [
    {
     "name": "stdin",
     "output_type": "stream",
     "text": [
      "What is your first number?  10\n",
      "What is your second number?  5\n"
     ]
    },
    {
     "name": "stdout",
     "output_type": "stream",
     "text": [
      "10.0 divided by 5.0 is 2.0\n"
     ]
    }
   ],
   "source": [
    "# de standaard manier \n",
    "# door gebruik van exceptions, kan je de code ernaa gewoon runnen ipv een crash\n",
    "\n",
    "try:\n",
    "    first = float(input(\"What is your first number? \"))\n",
    "    second = float(input(\"What is your second number? \"))\n",
    "    print(f\"{first} divided by {second} is {first / second}\")\n",
    "except ValueError:\n",
    "    print(\"You must enter a number\")\n",
    "except ZeroDivisionError:\n",
    "    print(\"You can't divide by zero\")\n",
    "    \n",
    "    \n",
    "    "
   ]
  },
  {
   "cell_type": "code",
   "execution_count": 32,
   "id": "8be0c85f-072f-4da0-bd7a-05f721e5d3ae",
   "metadata": {},
   "outputs": [
    {
     "name": "stdin",
     "output_type": "stream",
     "text": [
      "What is your first number?  qw\n"
     ]
    },
    {
     "name": "stdout",
     "output_type": "stream",
     "text": [
      "ValueError has occured\n"
     ]
    }
   ],
   "source": [
    "# Handling multiple exceptions at once\n",
    "\n",
    "try:\n",
    "    first = float(input(\"What is your first number? \"))\n",
    "    second = float(input(\"What is your second number? \"))\n",
    "    print(f\"{first} divided by {second} is {first / second}\")\n",
    "except (ValueError, ZeroDivisionError) as error:\n",
    "    print(f\"{type(error).__name__} has occured\")"
   ]
  },
  {
   "cell_type": "code",
   "execution_count": 38,
   "id": "d23024a0-3224-4c4b-840f-d044a248cf9e",
   "metadata": {
    "collapsed": true,
    "jupyter": {
     "outputs_hidden": true
    },
    "tags": []
   },
   "outputs": [
    {
     "name": "stdin",
     "output_type": "stream",
     "text": [
      "What is your first number?  21\n",
      "What is your second number?  2\n",
      "Enter either * or /:  +\n"
     ]
    },
    {
     "name": "stdout",
     "output_type": "stream",
     "text": [
      "A RuntimeError has occurred\n",
      "You have entered an invalid symbol: '+' is an unsupported operation\n"
     ]
    }
   ],
   "source": [
    "def calculate(operator, operand1, operand2):\n",
    "    return operator(operand1, operand2)\n",
    "\n",
    "try:\n",
    "    first = float(input(\"What is your first number? \"))\n",
    "    second = float(input(\"What is your second number? \"))\n",
    "    operation = input(\"Enter either * or /: \")\n",
    "    if operation == \"*\":\n",
    "        answer = calculate(mul, first, second)\n",
    "    elif operation == \"/\":\n",
    "        answer = calculate(truediv, first, second)\n",
    "    else:\n",
    "        raise RuntimeError(f\"'{operation}' is an unsupported operation\")\n",
    "except (RuntimeError, ValueError, ZeroDivisionError) as error:\n",
    "    error_type = type(error).__name__\n",
    "    print(f\"A {error_type} has occurred\")\n",
    "    if error_type == \"RuntimeError\":\n",
    "        print(f\"You have entered an invalid symbol: {error}\")\n",
    "    elif error_type == \"ValueError\":\n",
    "        print(f\"You have not entered a number: {error}\")\n",
    "    elif error_type == \"ZeroDivisionError\":\n",
    "        print(f\"You can't divide by zero: {error}\")\n",
    "else:\n",
    "    print(f\"{first} {operation} {second} = {answer}\")"
   ]
  },
  {
   "cell_type": "markdown",
   "id": "1d46ecdd-cfc8-4453-9304-9813ef0e9d1c",
   "metadata": {},
   "source": [
    "<br>"
   ]
  },
  {
   "cell_type": "code",
   "execution_count": 62,
   "id": "f80befa4-c691-419b-91b5-6ab3784b30a2",
   "metadata": {},
   "outputs": [
    {
     "name": "stdout",
     "output_type": "stream",
     "text": [
      "'No such file or directory'\n"
     ]
    }
   ],
   "source": [
    "# handling exceptions with superclasses\n",
    "\n",
    "try:\n",
    "    with open(\"101 testfile.txt\", mode=\"rt\") as f:\n",
    "        print(f.readlines())\n",
    "except OSError as error:\n",
    "    pprint(strerror(error.errno))"
   ]
  },
  {
   "cell_type": "code",
   "execution_count": 65,
   "id": "e7293b80-d29f-4a04-b63f-2ede08a9e53a",
   "metadata": {},
   "outputs": [
    {
     "name": "stdout",
     "output_type": "stream",
     "text": [
      "['Hello World!\\n', '\\n', 'How are you doing?\\n', '\\n', 'We fine ;)']\n"
     ]
    }
   ],
   "source": [
    "# exception suppression\n",
    "\n",
    "with suppress(FileNotFoundError, PermissionError):\n",
    "    with open(\"101 testfile.txt\", mode=\"rt\") as f:\n",
    "        print(f.readlines())"
   ]
  },
  {
   "cell_type": "code",
   "execution_count": 75,
   "id": "0fb75a61-9c43-40a3-988e-dc995ee697f4",
   "metadata": {},
   "outputs": [
    {
     "name": "stdin",
     "output_type": "stream",
     "text": [
      "What is your first number?  12\n",
      "What is your second number?  2\n"
     ]
    },
    {
     "name": "stdout",
     "output_type": "stream",
     "text": [
      "12.0 divided by 2.0 is 6.0\n",
      "UwU!\n"
     ]
    }
   ],
   "source": [
    "\n",
    "try:\n",
    "    first = float(input(\"What is your first number? \"))\n",
    "    second = float(input(\"What is your second number? \"))\n",
    "    print(f\"{first} divided by {second} is {first / second}\")\n",
    "except ZeroDivisionError:\n",
    "    print(\"You can't divide by zero\")\n",
    "finally:\n",
    "    print(\"UwU!\")\n",
    "\n"
   ]
  },
  {
   "cell_type": "code",
   "execution_count": 76,
   "id": "07df6932-f3b2-4bd8-9dd9-b95c1dcd3240",
   "metadata": {},
   "outputs": [
    {
     "ename": "SyntaxError",
     "evalue": "invalid syntax (407309854.py, line 6)",
     "output_type": "error",
     "traceback": [
      "\u001b[1;36m  File \u001b[1;32m\"C:\\Users\\kzhg1\\AppData\\Local\\Temp\\ipykernel_17996\\407309854.py\"\u001b[1;36m, line \u001b[1;32m6\u001b[0m\n\u001b[1;33m    except* ZeroDivisionError:\u001b[0m\n\u001b[1;37m          ^\u001b[0m\n\u001b[1;31mSyntaxError\u001b[0m\u001b[1;31m:\u001b[0m invalid syntax\n"
     ]
    }
   ],
   "source": [
    "exceptions = [ZeroDivisionError(), FileNotFoundError(), NameError()]\n",
    "num_zd_errors = num_fnf_errors = num_name_errors = 0\n",
    "\n",
    "try:\n",
    "    raise ExceptionGroup(\"Errors Occurred\", exceptions)\n",
    "except* ZeroDivisionError:\n",
    "    num_zd_errors += 1\n",
    "except* FileNotFoundError:\n",
    "    num_fnf_errors += 1\n",
    "except* NameError:\n",
    "    num_name_errors += 1\n",
    "finally:\n",
    "    print(f\"ZeroDivisionError was raised {num_zd_errors} times.\")\n",
    "    print(f\"FileNotFoundError was raised {num_fnf_errors} times.\")\n",
    "    print(f\"NameError was raised {num_name_errors} times.\")"
   ]
  },
  {
   "cell_type": "markdown",
   "id": "065f96f9-8e26-436d-aaa6-db600df6d389",
   "metadata": {},
   "source": [
    "<br>"
   ]
  },
  {
   "cell_type": "code",
   "execution_count": null,
   "id": "6572b4a0-2be0-41de-83b9-2dff8213646e",
   "metadata": {},
   "outputs": [
    {
     "name": "stdout",
     "output_type": "stream",
     "text": [
      "{'address': {'city': 'Anytown', 'state': 'CA', 'street': '123 Main St'},\n",
      " 'age': 30,\n",
      " 'name': 'John'}\n"
     ]
    }
   ],
   "source": [
    "# pretty print!\n",
    "\n",
    "pprint(data)"
   ]
  },
  {
   "cell_type": "code",
   "execution_count": null,
   "id": "302b0b0f-4566-4994-b027-4e5960991aff",
   "metadata": {},
   "outputs": [],
   "source": [
    "import json\n",
    "import pprint\n",
    "from urllib.request import urlopen\n",
    "with urlopen('https://pypi.org/pypi/sampleproject/json') as resp:\n",
    "    project_info = json.load(resp)['info']"
   ]
  },
  {
   "cell_type": "code",
   "execution_count": 58,
   "id": "de0dd8f1-9118-4ba5-8c5d-f41bcefcf45f",
   "metadata": {
    "collapsed": true,
    "jupyter": {
     "outputs_hidden": true
    },
    "tags": []
   },
   "outputs": [
    {
     "name": "stdout",
     "output_type": "stream",
     "text": [
      "{'author': '',\n",
      " 'author_email': '\"A. Random Developer\" <author@example.com>',\n",
      " 'bugtrack_url': None,\n",
      " 'classifiers': ['Development Status :: 3 - Alpha',\n",
      "                 'Intended Audience :: Developers',\n",
      "                 'License :: OSI Approved :: MIT License',\n",
      "                 'Programming Language :: Python :: 3',\n",
      "                 'Programming Language :: Python :: 3 :: Only',\n",
      "                 'Programming Language :: Python :: 3.10',\n",
      "                 'Programming Language :: Python :: 3.11',\n",
      "                 'Programming Language :: Python :: 3.7',\n",
      "                 'Programming Language :: Python :: 3.8',\n",
      "                 'Programming Language :: Python :: 3.9',\n",
      "                 'Topic :: Software Development :: Build Tools'],\n",
      " 'description': '# A sample Python project\\n'\n",
      "                '\\n'\n",
      "                '![Python '\n",
      "                'Logo](https://www.python.org/static/community_logos/python-logo.png '\n",
      "                '\"Sample inline image\")\\n'\n",
      "                '\\n'\n",
      "                'A sample project that exists as an aid to the [Python '\n",
      "                'Packaging User\\n'\n",
      "                \"Guide][packaging guide]'s [Tutorial on Packaging and \"\n",
      "                'Distributing\\n'\n",
      "                'Projects][distribution tutorial].\\n'\n",
      "                '\\n'\n",
      "                'This project does not aim to cover best practices for Python '\n",
      "                'project\\n'\n",
      "                'development as a whole. For example, it does not provide '\n",
      "                'guidance or tool\\n'\n",
      "                'recommendations for version control, documentation, or '\n",
      "                'testing.\\n'\n",
      "                '\\n'\n",
      "                '[The source for this project is available here][src].\\n'\n",
      "                '\\n'\n",
      "                'The metadata for a Python project is defined in the '\n",
      "                '`pyproject.toml` file,\\n'\n",
      "                'an example of which is included in this project. You should '\n",
      "                'edit this file\\n'\n",
      "                'accordingly to adapt this sample project to your needs.\\n'\n",
      "                '\\n'\n",
      "                '----\\n'\n",
      "                '\\n'\n",
      "                'This is the README file for the project.\\n'\n",
      "                '\\n'\n",
      "                'The file should use UTF-8 encoding and can be written using\\n'\n",
      "                '[reStructuredText][rst] or [markdown][md use] with the '\n",
      "                'appropriate [key set][md\\n'\n",
      "                'use]. It will be used to generate the project webpage on PyPI '\n",
      "                'and will be\\n'\n",
      "                'displayed as the project homepage on common code-hosting '\n",
      "                'services, and should be\\n'\n",
      "                'written for that purpose.\\n'\n",
      "                '\\n'\n",
      "                'Typical contents for this file would include an overview of '\n",
      "                'the project, basic\\n'\n",
      "                'usage examples, etc. Generally, including the project '\n",
      "                'changelog in here is not a\\n'\n",
      "                \"good idea, although a simple “What's New” section for the \"\n",
      "                'most recent version\\n'\n",
      "                'may be appropriate.\\n'\n",
      "                '\\n'\n",
      "                '[packaging guide]: https://packaging.python.org\\n'\n",
      "                '[distribution tutorial]: '\n",
      "                'https://packaging.python.org/tutorials/packaging-projects/\\n'\n",
      "                '[src]: https://github.com/pypa/sampleproject\\n'\n",
      "                '[rst]: http://docutils.sourceforge.net/rst.html\\n'\n",
      "                '[md]: https://tools.ietf.org/html/rfc7764#section-3.5 '\n",
      "                '\"CommonMark variant\"\\n'\n",
      "                '[md use]: '\n",
      "                'https://packaging.python.org/specifications/core-metadata/#description-content-type-optional\\n',\n",
      " 'description_content_type': 'text/markdown',\n",
      " 'docs_url': None,\n",
      " 'download_url': '',\n",
      " 'downloads': {'last_day': -1, 'last_month': -1, 'last_week': -1},\n",
      " 'home_page': '',\n",
      " 'keywords': 'sample,setuptools,development',\n",
      " 'license': 'Copyright (c) 2016 The Python Packaging Authority (PyPA)  '\n",
      "            'Permission is hereby granted, free of charge, to any person '\n",
      "            'obtaining a copy of this software and associated documentation '\n",
      "            'files (the \"Software\"), to deal in the Software without '\n",
      "            'restriction, including without limitation the rights to use, '\n",
      "            'copy, modify, merge, publish, distribute, sublicense, and/or sell '\n",
      "            'copies of the Software, and to permit persons to whom the '\n",
      "            'Software is furnished to do so, subject to the following '\n",
      "            'conditions:  The above copyright notice and this permission '\n",
      "            'notice shall be included in all copies or substantial portions of '\n",
      "            'the Software.  THE SOFTWARE IS PROVIDED \"AS IS\", WITHOUT WARRANTY '\n",
      "            'OF ANY KIND, EXPRESS OR IMPLIED, INCLUDING BUT NOT LIMITED TO THE '\n",
      "            'WARRANTIES OF MERCHANTABILITY, FITNESS FOR A PARTICULAR PURPOSE '\n",
      "            'AND NONINFRINGEMENT. IN NO EVENT SHALL THE AUTHORS OR COPYRIGHT '\n",
      "            'HOLDERS BE LIABLE FOR ANY CLAIM, DAMAGES OR OTHER LIABILITY, '\n",
      "            'WHETHER IN AN ACTION OF CONTRACT, TORT OR OTHERWISE, ARISING '\n",
      "            'FROM, OUT OF OR IN CONNECTION WITH THE SOFTWARE OR THE USE OR '\n",
      "            'OTHER DEALINGS IN THE SOFTWARE. ',\n",
      " 'maintainer': '',\n",
      " 'maintainer_email': '\"A. Great Maintainer\" <maintainer@example.com>',\n",
      " 'name': 'sampleproject',\n",
      " 'package_url': 'https://pypi.org/project/sampleproject/',\n",
      " 'platform': None,\n",
      " 'project_url': 'https://pypi.org/project/sampleproject/',\n",
      " 'project_urls': {'Bug Reports': 'https://github.com/pypa/sampleproject/issues',\n",
      "                  'Funding': 'https://donate.pypi.org',\n",
      "                  'Homepage': 'https://github.com/pypa/sampleproject',\n",
      "                  'Say Thanks!': 'http://saythanks.io/to/example',\n",
      "                  'Source': 'https://github.com/pypa/sampleproject/'},\n",
      " 'release_url': 'https://pypi.org/project/sampleproject/3.0.0/',\n",
      " 'requires_dist': ['peppercorn',\n",
      "                   \"check-manifest ; extra == 'dev'\",\n",
      "                   \"coverage ; extra == 'test'\"],\n",
      " 'requires_python': '>=3.7',\n",
      " 'summary': 'A sample Python project',\n",
      " 'version': '3.0.0',\n",
      " 'yanked': False,\n",
      " 'yanked_reason': None}\n"
     ]
    }
   ],
   "source": [
    "pprint.pprint(project_info)"
   ]
  },
  {
   "cell_type": "code",
   "execution_count": null,
   "id": "2475ab90-fac1-413d-8704-426aa575ae5a",
   "metadata": {},
   "outputs": [],
   "source": []
  }
 ],
 "metadata": {
  "kernelspec": {
   "display_name": "Python 3 (ipykernel)",
   "language": "python",
   "name": "python3"
  },
  "language_info": {
   "codemirror_mode": {
    "name": "ipython",
    "version": 3
   },
   "file_extension": ".py",
   "mimetype": "text/x-python",
   "name": "python",
   "nbconvert_exporter": "python",
   "pygments_lexer": "ipython3",
   "version": "3.11.5"
  }
 },
 "nbformat": 4,
 "nbformat_minor": 5
}
