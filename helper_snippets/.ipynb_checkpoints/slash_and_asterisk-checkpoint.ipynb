{
 "cells": [
  {
   "cell_type": "code",
   "execution_count": 31,
   "id": "abe64d23-41d1-4708-87c9-69173fb79401",
   "metadata": {},
   "outputs": [],
   "source": [
    "import os"
   ]
  },
  {
   "cell_type": "code",
   "execution_count": 1,
   "id": "bdcccbaa-a311-49bf-8108-82c2290ac99e",
   "metadata": {},
   "outputs": [],
   "source": [
    "# in kort:\n",
    "# \n",
    "# positional / both\n",
    "# both * key-word"
   ]
  },
  {
   "cell_type": "code",
   "execution_count": 6,
   "id": "353f4b39-57a5-484f-a688-48cd1cd9c58a",
   "metadata": {},
   "outputs": [],
   "source": [
    "def asterisk(both, *, keyword):\n",
    "    print(both, keyword)"
   ]
  },
  {
   "cell_type": "code",
   "execution_count": 8,
   "id": "6db68765-ccea-4edd-8340-82143972e68f",
   "metadata": {},
   "outputs": [
    {
     "name": "stdout",
     "output_type": "stream",
     "text": [
      "1 2\n"
     ]
    }
   ],
   "source": [
    "asterisk(1,keyword=2)"
   ]
  },
  {
   "cell_type": "code",
   "execution_count": 11,
   "id": "551f433f-cf26-4578-b836-702841f46d12",
   "metadata": {},
   "outputs": [],
   "source": [
    "def slash(positional, / , both):\n",
    "    print(positional, both)"
   ]
  },
  {
   "cell_type": "code",
   "execution_count": 40,
   "id": "737becf8-925a-4894-a0ec-abf826f5fb1f",
   "metadata": {},
   "outputs": [
    {
     "name": "stdout",
     "output_type": "stream",
     "text": [
      "1 2\n"
     ]
    }
   ],
   "source": [
    "slash(1,2)"
   ]
  },
  {
   "cell_type": "code",
   "execution_count": 34,
   "id": "5082daa5-a56d-4ce2-8eee-a7248fa976cc",
   "metadata": {},
   "outputs": [],
   "source": [
    "def forced_key(*, key1, key2):\n",
    "    print(key1)\n",
    "    print(key2)"
   ]
  },
  {
   "cell_type": "code",
   "execution_count": 38,
   "id": "3bc301c8-850b-4438-ad98-308a941015f9",
   "metadata": {},
   "outputs": [
    {
     "name": "stdout",
     "output_type": "stream",
     "text": [
      "hello\n",
      "world!\n"
     ]
    }
   ],
   "source": [
    "forced_key(key1='hello', key2=\"world!\")"
   ]
  },
  {
   "cell_type": "code",
   "execution_count": 61,
   "id": "1d60f85b-3902-4544-a2fd-0a0e1b97975c",
   "metadata": {},
   "outputs": [],
   "source": [
    "# * voor tuple, ** voor dictionairy\n",
    "def args(*args):\n",
    "    return args"
   ]
  },
  {
   "cell_type": "code",
   "execution_count": 62,
   "id": "670ac85a-379e-415a-9be1-6eed5f96b32f",
   "metadata": {},
   "outputs": [
    {
     "data": {
      "text/plain": [
       "(1, 2, 3)"
      ]
     },
     "execution_count": 62,
     "metadata": {},
     "output_type": "execute_result"
    }
   ],
   "source": [
    "\n",
    "args(1,2,3)"
   ]
  },
  {
   "cell_type": "code",
   "execution_count": 63,
   "id": "ec6b3cd5-e0d7-4060-bd58-2ad7a51f61d9",
   "metadata": {},
   "outputs": [],
   "source": [
    "def kwargs_function(**kwargs):\n",
    "    return kwargs"
   ]
  },
  {
   "cell_type": "code",
   "execution_count": 65,
   "id": "b881667d-8a2d-41db-a2cb-46a122cc787b",
   "metadata": {},
   "outputs": [
    {
     "data": {
      "text/plain": [
       "{'a': 1, 'b': 2, 'c': 3}"
      ]
     },
     "execution_count": 65,
     "metadata": {},
     "output_type": "execute_result"
    }
   ],
   "source": [
    "kwargs_function(a=1,b=2,c=3)"
   ]
  },
  {
   "cell_type": "code",
   "execution_count": 68,
   "id": "82882870-db48-4295-8f29-add070f172e6",
   "metadata": {},
   "outputs": [],
   "source": [
    "def func():\n",
    "    return \"Hello\""
   ]
  },
  {
   "cell_type": "code",
   "execution_count": 69,
   "id": "e1d7332c-8400-452d-8196-6fa8cac7caf9",
   "metadata": {},
   "outputs": [
    {
     "data": {
      "text/plain": [
       "'Hello'"
      ]
     },
     "execution_count": 69,
     "metadata": {},
     "output_type": "execute_result"
    }
   ],
   "source": [
    "func()"
   ]
  },
  {
   "cell_type": "code",
   "execution_count": 76,
   "id": "4bbc0b0a-c391-40b5-82b3-d7a32ee051cc",
   "metadata": {},
   "outputs": [],
   "source": [
    "def print_four_members(member1, member2, /, member3, *, member4):\n",
    "    print(f\"member1 is {member1}\")\n",
    "    print(f\"member2 is {member2}\")\n",
    "    print(f\"member3 is {member3}\")\n",
    "    print(f\"member4 is {member4}\")"
   ]
  },
  {
   "cell_type": "code",
   "execution_count": 74,
   "id": "73c4bbdd-a448-4bbf-9a1f-d2b43fdc953a",
   "metadata": {},
   "outputs": [
    {
     "name": "stdout",
     "output_type": "stream",
     "text": [
      "member1 is 1\n",
      "member2 is 2\n",
      "member3 is 3\n",
      "member4 is 4\n"
     ]
    }
   ],
   "source": [
    "print_four_members(1,2,member3=3,member4=4)"
   ]
  },
  {
   "cell_type": "code",
   "execution_count": null,
   "id": "be54cf3c-da57-4733-a9eb-92c290c46c65",
   "metadata": {},
   "outputs": [],
   "source": []
  }
 ],
 "metadata": {
  "kernelspec": {
   "display_name": "Python 3 (ipykernel)",
   "language": "python",
   "name": "python3"
  },
  "language_info": {
   "codemirror_mode": {
    "name": "ipython",
    "version": 3
   },
   "file_extension": ".py",
   "mimetype": "text/x-python",
   "name": "python",
   "nbconvert_exporter": "python",
   "pygments_lexer": "ipython3",
   "version": "3.9.13"
  }
 },
 "nbformat": 4,
 "nbformat_minor": 5
}
