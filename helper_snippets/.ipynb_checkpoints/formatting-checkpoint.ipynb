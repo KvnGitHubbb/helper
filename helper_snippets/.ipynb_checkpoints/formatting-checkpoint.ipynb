{
 "cells": [
  {
   "cell_type": "code",
   "execution_count": 7,
   "id": "31abbb55-4b2a-413d-8b56-10bb44f188ea",
   "metadata": {},
   "outputs": [],
   "source": [
    "s = \"Hello\"\n",
    "t = \"World\""
   ]
  },
  {
   "cell_type": "code",
   "execution_count": 8,
   "id": "0ca6dd14-17af-43a3-87db-27839e8307fa",
   "metadata": {},
   "outputs": [
    {
     "data": {
      "text/plain": [
       "'Hello World'"
      ]
     },
     "execution_count": 8,
     "metadata": {},
     "output_type": "execute_result"
    }
   ],
   "source": [
    "f'{s} {t}'  # fastest"
   ]
  },
  {
   "cell_type": "code",
   "execution_count": 9,
   "id": "fd94a878-f819-489f-841e-9693b15341e8",
   "metadata": {},
   "outputs": [
    {
     "data": {
      "text/plain": [
       "'Hello World'"
      ]
     },
     "execution_count": 9,
     "metadata": {},
     "output_type": "execute_result"
    }
   ],
   "source": [
    "s + ' ' + t"
   ]
  },
  {
   "cell_type": "code",
   "execution_count": 11,
   "id": "408f473b-af4b-441a-87ef-6e5ae81ad19b",
   "metadata": {},
   "outputs": [
    {
     "data": {
      "text/plain": [
       "'Hello aka World'"
      ]
     },
     "execution_count": 11,
     "metadata": {},
     "output_type": "execute_result"
    }
   ],
   "source": [
    "' '.join((s, t))"
   ]
  },
  {
   "cell_type": "code",
   "execution_count": 13,
   "id": "ffd7bb8b-a5b8-4fd9-bb12-9792be525113",
   "metadata": {},
   "outputs": [
    {
     "data": {
      "text/plain": [
       "'hey your text is Hello World haha'"
      ]
     },
     "execution_count": 13,
     "metadata": {},
     "output_type": "execute_result"
    }
   ],
   "source": [
    "f'hey your text is %s %s haha' % (s, t)"
   ]
  },
  {
   "cell_type": "code",
   "execution_count": 18,
   "id": "ec4dc85f-86fa-4d4f-9a1b-b8ae987493c7",
   "metadata": {},
   "outputs": [
    {
     "data": {
      "text/plain": [
       "'oke then Hello World'"
      ]
     },
     "execution_count": 18,
     "metadata": {},
     "output_type": "execute_result"
    }
   ],
   "source": [
    "'oke then {} {}'.format(s, t)"
   ]
  },
  {
   "cell_type": "code",
   "execution_count": 4,
   "id": "ed9acd34-8d4a-415f-ba3e-1c64751b0c9c",
   "metadata": {},
   "outputs": [
    {
     "name": "stdin",
     "output_type": "stream",
     "text": [
      "What is your age? 12121221\n"
     ]
    },
    {
     "name": "stdout",
     "output_type": "stream",
     "text": [
      "You are a kid!\n"
     ]
    }
   ],
   "source": [
    "while (x := int(input(\"What is your age?\"))) > 18:\n",
    "    print(\"You are a grown-up!\")\n",
    "else:\n",
    "    print(\"You are a kid!\")"
   ]
  },
  {
   "cell_type": "code",
   "execution_count": 10,
   "id": "15d84c74-fdbe-4085-aae3-bc0122e521a6",
   "metadata": {},
   "outputs": [],
   "source": [
    "walrus = False"
   ]
  },
  {
   "cell_type": "code",
   "execution_count": 11,
   "id": "d29c4891-3d97-4bed-aa76-c7a45a1efd30",
   "metadata": {},
   "outputs": [
    {
     "data": {
      "text/plain": [
       "False"
      ]
     },
     "execution_count": 11,
     "metadata": {},
     "output_type": "execute_result"
    }
   ],
   "source": [
    "walrus"
   ]
  },
  {
   "cell_type": "code",
   "execution_count": 12,
   "id": "aac05147-0fe1-43c0-a881-9d9241386c09",
   "metadata": {},
   "outputs": [
    {
     "ename": "SyntaxError",
     "evalue": "invalid syntax (2290787744.py, line 1)",
     "output_type": "error",
     "traceback": [
      "\u001b[1;36m  File \u001b[1;32m\"C:\\Users\\kzhg1\\AppData\\Local\\Temp\\ipykernel_54608\\2290787744.py\"\u001b[1;36m, line \u001b[1;32m1\u001b[0m\n\u001b[1;33m    walrus := True\u001b[0m\n\u001b[1;37m                  ^\u001b[0m\n\u001b[1;31mSyntaxError\u001b[0m\u001b[1;31m:\u001b[0m invalid syntax\n"
     ]
    }
   ],
   "source": [
    "walrus := True"
   ]
  },
  {
   "cell_type": "code",
   "execution_count": 9,
   "id": "121d37c9-376a-484c-aa9b-43998ff7b0ab",
   "metadata": {},
   "outputs": [
    {
     "data": {
      "text/plain": [
       "True"
      ]
     },
     "execution_count": 9,
     "metadata": {},
     "output_type": "execute_result"
    }
   ],
   "source": [
    "walrus"
   ]
  },
  {
   "cell_type": "code",
   "execution_count": 10,
   "id": "70367fd8-e3b1-44a0-9d2e-8f9dac63aea1",
   "metadata": {},
   "outputs": [
    {
     "data": {
      "text/plain": [
       "110"
      ]
     },
     "execution_count": 10,
     "metadata": {},
     "output_type": "execute_result"
    }
   ],
   "source": [
    "func.var"
   ]
  },
  {
   "cell_type": "code",
   "execution_count": 11,
   "id": "8f9840ed-1a3c-4fb3-afb7-c5a927a3534b",
   "metadata": {},
   "outputs": [],
   "source": [
    "def func(adding):\n",
    "    try:\n",
    "        func.number_of_times_called += adding\n",
    "    except:\n",
    "        func.number_of_times_called = 1\n",
    "    # some really interesting code"
   ]
  },
  {
   "cell_type": "code",
   "execution_count": 12,
   "id": "10a7de51-562c-4689-be64-dbac478e17d8",
   "metadata": {},
   "outputs": [],
   "source": [
    "func(9)"
   ]
  },
  {
   "cell_type": "code",
   "execution_count": null,
   "id": "f05f852a-a9c2-4241-a7f2-969496cce267",
   "metadata": {},
   "outputs": [],
   "source": [
    "func.number_of_times_called"
   ]
  }
 ],
 "metadata": {
  "kernelspec": {
   "display_name": "Python 3 (ipykernel)",
   "language": "python",
   "name": "python3"
  },
  "language_info": {
   "codemirror_mode": {
    "name": "ipython",
    "version": 3
   },
   "file_extension": ".py",
   "mimetype": "text/x-python",
   "name": "python",
   "nbconvert_exporter": "python",
   "pygments_lexer": "ipython3",
   "version": "3.9.13"
  }
 },
 "nbformat": 4,
 "nbformat_minor": 5
}
