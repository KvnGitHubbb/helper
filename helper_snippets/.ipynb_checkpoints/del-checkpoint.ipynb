{
 "cells": [
  {
   "cell_type": "code",
   "execution_count": 79,
   "id": "f16ad46d-3c77-4d78-861d-1b5b4f1a051a",
   "metadata": {},
   "outputs": [],
   "source": [
    "a = [1,2,3,4,5,6]"
   ]
  },
  {
   "cell_type": "code",
   "execution_count": 80,
   "id": "080b2a09-cef7-4193-a467-c858208f6d6f",
   "metadata": {},
   "outputs": [
    {
     "data": {
      "text/plain": [
       "1"
      ]
     },
     "execution_count": 80,
     "metadata": {},
     "output_type": "execute_result"
    }
   ],
   "source": [
    "a[0]"
   ]
  },
  {
   "cell_type": "code",
   "execution_count": 87,
   "id": "7a365d1d-6d47-483c-8095-0abeda1e6914",
   "metadata": {},
   "outputs": [
    {
     "data": {
      "text/plain": [
       "[3, 2, 4, 5, 2]"
      ]
     },
     "execution_count": 87,
     "metadata": {},
     "output_type": "execute_result"
    }
   ],
   "source": [
    "# smart trick, want del werkt van links naar rechts\n",
    "sample = [3, None, 2, 4, None, 5, 2]\n",
    "\n",
    "del sample[4], sample[1]\n",
    "sample"
   ]
  },
  {
   "cell_type": "code",
   "execution_count": 117,
   "id": "ca59bde8-31d7-4aca-af63-b6cdcdaa4f0b",
   "metadata": {},
   "outputs": [
    {
     "data": {
      "text/plain": [
       "{'carrots': [0.99, 0.9], 'peppers': 1.25}"
      ]
     },
     "execution_count": 117,
     "metadata": {},
     "output_type": "execute_result"
    }
   ],
   "source": [
    "vegetable_prices = {\n",
    "    \"carrots\": [0.99,0.90],\n",
    "    \"spinach\": 1.50,\n",
    "    \"onions\": 0.50,\n",
    "    \"cucumbers\": 0.75,\n",
    "    \"peppers\": 1.25}\n",
    "\n",
    "del vegetable_prices[\"spinach\"]\n",
    "del vegetable_prices[\"onions\"], vegetable_prices[\"cucumbers\"]\n",
    "\n",
    "vegetable_prices"
   ]
  },
  {
   "cell_type": "code",
   "execution_count": 119,
   "id": "c9095a82-582d-4857-9b06-0c6eb7e4b441",
   "metadata": {},
   "outputs": [
    {
     "data": {
      "text/plain": [
       "{'pencil': 0.99, 'pen': 1.49}"
      ]
     },
     "execution_count": 119,
     "metadata": {},
     "output_type": "execute_result"
    }
   ],
   "source": [
    "school_supplies = {\n",
    "    \"pencil\": 0.99,\n",
    "    \"pen\": 1.49,\n",
    "    \"notebook\": 2.99,\n",
    "    \"highlighter\": 0.79,\n",
    "    \"ruler\": 1.29}\n",
    "\n",
    "school_supplies.pop(\"notebook\")\n",
    "\n",
    "a = school_supplies.popitem()\n",
    "school_supplies.popitem()\n",
    "\n",
    "school_supplies"
   ]
  },
  {
   "cell_type": "code",
   "execution_count": 121,
   "id": "6895db7d-f8ba-4849-b71b-920982a9ea7d",
   "metadata": {},
   "outputs": [
    {
     "data": {
      "text/plain": [
       "tuple"
      ]
     },
     "execution_count": 121,
     "metadata": {},
     "output_type": "execute_result"
    }
   ],
   "source": [
    "type(a)"
   ]
  },
  {
   "cell_type": "code",
   "execution_count": 127,
   "id": "4f639478-243a-4dfd-a412-a6e6aecb1776",
   "metadata": {},
   "outputs": [],
   "source": [
    "# je kunt ook del gebruiken in nested structures\n",
    "nested = [[1],[2],[3]]\n",
    "del nested[1]\n",
    "nested"
   ]
  },
  {
   "cell_type": "code",
   "execution_count": 138,
   "id": "1acfc2ef-6d26-4243-974f-7b956a942229",
   "metadata": {},
   "outputs": [],
   "source": [
    "red = (\"RED\", [255, 0, 0])\n",
    "blue = (\"BLUE\", [0, 0, 255])"
   ]
  },
  {
   "cell_type": "code",
   "execution_count": 140,
   "id": "f08a5294-664d-4bc1-b6dd-5ec93593df4d",
   "metadata": {},
   "outputs": [
    {
     "data": {
      "text/plain": [
       "('RED', [0, 0])"
      ]
     },
     "execution_count": 140,
     "metadata": {},
     "output_type": "execute_result"
    }
   ],
   "source": [
    "del red[1][0]\n",
    "red"
   ]
  },
  {
   "cell_type": "code",
   "execution_count": 146,
   "id": "561b9e81-fe89-43ce-a41a-5eea16d59b92",
   "metadata": {},
   "outputs": [
    {
     "data": {
      "text/plain": [
       "[{}, {'veggies': {'tomato': 2.1, 'avocado': 3.2, 'pepper': 1.8}}]"
      ]
     },
     "execution_count": 146,
     "metadata": {},
     "output_type": "execute_result"
    }
   ],
   "source": [
    "prices = [\n",
    "    {\"fruits\": {\"apple\": 1.2, \"banana\": 1.3, \"orange\": 1.5}},\n",
    "    {\"veggies\": {\"tomato\": 2.1, \"avocado\": 3.2, \"pepper\": 1.8}}]\n",
    "\n",
    "# del prices[0][\"fruits\"][\"banana\"]\n",
    "# prices\n",
    "\n",
    "\n",
    "del prices[0][\"fruits\"]\n",
    "prices"
   ]
  },
  {
   "cell_type": "code",
   "execution_count": 22,
   "id": "6859e393-011f-483e-885b-70156614dcfc",
   "metadata": {},
   "outputs": [],
   "source": [
    "# je kunt zelfs del gebruiken in classes\n",
    "class SampleClass:\n",
    "    \"\"\"hello there\"\"\"\n",
    "    class_attribute = 0\n",
    "    def __init__(self, arg):\n",
    "        self.instance_attribute = arg\n",
    "    def method(self):\n",
    "        print(self.instance_attribute)"
   ]
  },
  {
   "cell_type": "code",
   "execution_count": 14,
   "id": "e76c5dc4-4570-464a-b02c-672d780c11c9",
   "metadata": {},
   "outputs": [
    {
     "data": {
      "text/plain": [
       "mappingproxy({'__module__': '__main__',\n",
       "              '__doc__': 'hello there',\n",
       "              'class_attribute': 0,\n",
       "              '__init__': <function __main__.SampleClass.__init__(self, arg)>,\n",
       "              'method': <function __main__.SampleClass.method(self)>,\n",
       "              '__dict__': <attribute '__dict__' of 'SampleClass' objects>,\n",
       "              '__weakref__': <attribute '__weakref__' of 'SampleClass' objects>})"
      ]
     },
     "execution_count": 14,
     "metadata": {},
     "output_type": "execute_result"
    }
   ],
   "source": [
    "SampleClass.__dict__"
   ]
  },
  {
   "cell_type": "code",
   "execution_count": 5,
   "id": "d681a744-0d7b-4a85-bee1-8ad0f37e79a5",
   "metadata": {},
   "outputs": [
    {
     "data": {
      "text/plain": [
       "{'instance_attribute': 'Value'}"
      ]
     },
     "execution_count": 5,
     "metadata": {},
     "output_type": "execute_result"
    }
   ],
   "source": [
    "sample_instance = SampleClass(\"Value\")\n",
    "sample_instance.__dict__"
   ]
  },
  {
   "cell_type": "code",
   "execution_count": 6,
   "id": "0ac7a22a-7a97-46b2-bdff-10451da6a99c",
   "metadata": {},
   "outputs": [],
   "source": [
    "del sample_instance.instance_attribute"
   ]
  },
  {
   "cell_type": "code",
   "execution_count": 8,
   "id": "856f3b06-a0ae-46c1-afe0-6090c54bb380",
   "metadata": {},
   "outputs": [
    {
     "data": {
      "text/plain": [
       "0"
      ]
     },
     "execution_count": 8,
     "metadata": {},
     "output_type": "execute_result"
    }
   ],
   "source": [
    "sample_instance.class_attribute"
   ]
  },
  {
   "cell_type": "code",
   "execution_count": 19,
   "id": "246b803c-057a-450b-8653-78e252b3a2a9",
   "metadata": {},
   "outputs": [],
   "source": [
    "del SampleClass.method"
   ]
  },
  {
   "cell_type": "code",
   "execution_count": 23,
   "id": "e37dd999-cb04-4268-babc-f0f4dd18682c",
   "metadata": {},
   "outputs": [],
   "source": [
    "new = SampleClass(\"he\")"
   ]
  },
  {
   "cell_type": "code",
   "execution_count": 28,
   "id": "2983ab12-76d0-4245-abd3-a2521bc376f9",
   "metadata": {},
   "outputs": [
    {
     "ename": "AttributeError",
     "evalue": "'SampleClass' object has no attribute 'method'",
     "output_type": "error",
     "traceback": [
      "\u001b[1;31m---------------------------------------------------------------------------\u001b[0m",
      "\u001b[1;31mAttributeError\u001b[0m                            Traceback (most recent call last)",
      "\u001b[1;32m~\\AppData\\Local\\Temp\\ipykernel_28144\\435505415.py\u001b[0m in \u001b[0;36m<module>\u001b[1;34m\u001b[0m\n\u001b[1;32m----> 1\u001b[1;33m \u001b[0mnew\u001b[0m\u001b[1;33m.\u001b[0m\u001b[0mmethod\u001b[0m\u001b[1;33m(\u001b[0m\u001b[1;33m)\u001b[0m\u001b[1;33m\u001b[0m\u001b[1;33m\u001b[0m\u001b[0m\n\u001b[0m",
      "\u001b[1;31mAttributeError\u001b[0m: 'SampleClass' object has no attribute 'method'"
     ]
    }
   ],
   "source": [
    "new.method()"
   ]
  },
  {
   "cell_type": "code",
   "execution_count": 26,
   "id": "c1d4b95c-5389-41a0-aa20-e905d5a7714a",
   "metadata": {},
   "outputs": [],
   "source": [
    "del SampleClass.method"
   ]
  },
  {
   "cell_type": "code",
   "execution_count": 27,
   "id": "8bbe11df-fd1d-4bfa-8b13-5ee2c0b7ff9d",
   "metadata": {},
   "outputs": [],
   "source": [
    "a = SampleClass(\"asa\")"
   ]
  },
  {
   "cell_type": "code",
   "execution_count": 36,
   "id": "f3cf198a-8ee6-4ef3-ac91-eb9e5bfc5ecc",
   "metadata": {},
   "outputs": [],
   "source": [
    "class car:\n",
    "    greating = \"Hello\"\n",
    "    \n",
    "    def __init__(self, brand):\n",
    "        self.brand = brand\n",
    "    \n",
    "    def __str__(self):\n",
    "        return self.greating + \" \" + self.brand"
   ]
  },
  {
   "cell_type": "code",
   "execution_count": 37,
   "id": "0fb31ed7-2f9d-4c9a-b41b-1078c3e85039",
   "metadata": {},
   "outputs": [],
   "source": [
    "a = car(\"Audi\")"
   ]
  },
  {
   "cell_type": "code",
   "execution_count": 38,
   "id": "b366de92-240c-480d-a5a0-28c800bc6476",
   "metadata": {},
   "outputs": [
    {
     "name": "stdout",
     "output_type": "stream",
     "text": [
      "Hello Audi\n"
     ]
    }
   ],
   "source": [
    "print(a)"
   ]
  },
  {
   "cell_type": "code",
   "execution_count": 51,
   "id": "9ca1e1c0-bf1e-4851-b5cd-cd8d26fa0392",
   "metadata": {},
   "outputs": [],
   "source": [
    "class NonDeletable:\n",
    "    def __init__(self, value):\n",
    "        self.value = value\n",
    "\n",
    "    def __delattr__(self, name):\n",
    "        raise AttributeError(f\"{type(self).__name__} object doesn't support attribute deletion!\")"
   ]
  },
  {
   "cell_type": "code",
   "execution_count": 52,
   "id": "c4a5a9c2-bb10-4104-b9d4-411bd8b073f6",
   "metadata": {},
   "outputs": [],
   "source": [
    "n = NonDeletable(\"as\")"
   ]
  },
  {
   "cell_type": "code",
   "execution_count": 53,
   "id": "69609797-430e-43c9-8260-c56454de7e2a",
   "metadata": {},
   "outputs": [
    {
     "data": {
      "text/plain": [
       "'as'"
      ]
     },
     "execution_count": 53,
     "metadata": {},
     "output_type": "execute_result"
    }
   ],
   "source": [
    "n.value"
   ]
  },
  {
   "cell_type": "code",
   "execution_count": 54,
   "id": "1c83e324-63a7-46b3-889d-18ac7629b43d",
   "metadata": {
    "collapsed": true,
    "jupyter": {
     "outputs_hidden": true
    },
    "tags": []
   },
   "outputs": [
    {
     "ename": "AttributeError",
     "evalue": "NonDeletable object doesn't support attribute deletion!",
     "output_type": "error",
     "traceback": [
      "\u001b[1;31m---------------------------------------------------------------------------\u001b[0m",
      "\u001b[1;31mAttributeError\u001b[0m                            Traceback (most recent call last)",
      "\u001b[1;32m~\\AppData\\Local\\Temp\\ipykernel_28144\\1553512114.py\u001b[0m in \u001b[0;36m<module>\u001b[1;34m\u001b[0m\n\u001b[1;32m----> 1\u001b[1;33m \u001b[1;32mdel\u001b[0m \u001b[0mn\u001b[0m\u001b[1;33m.\u001b[0m\u001b[0mvalue\u001b[0m\u001b[1;33m\u001b[0m\u001b[1;33m\u001b[0m\u001b[0m\n\u001b[0m",
      "\u001b[1;32m~\\AppData\\Local\\Temp\\ipykernel_28144\\2302147845.py\u001b[0m in \u001b[0;36m__delattr__\u001b[1;34m(self, name)\u001b[0m\n\u001b[0;32m      4\u001b[0m \u001b[1;33m\u001b[0m\u001b[0m\n\u001b[0;32m      5\u001b[0m     \u001b[1;32mdef\u001b[0m \u001b[0m__delattr__\u001b[0m\u001b[1;33m(\u001b[0m\u001b[0mself\u001b[0m\u001b[1;33m,\u001b[0m \u001b[0mname\u001b[0m\u001b[1;33m)\u001b[0m\u001b[1;33m:\u001b[0m\u001b[1;33m\u001b[0m\u001b[1;33m\u001b[0m\u001b[0m\n\u001b[1;32m----> 6\u001b[1;33m         \u001b[1;32mraise\u001b[0m \u001b[0mAttributeError\u001b[0m\u001b[1;33m(\u001b[0m\u001b[1;34mf\"{type(self).__name__} object doesn't support attribute deletion!\"\u001b[0m\u001b[1;33m)\u001b[0m\u001b[1;33m\u001b[0m\u001b[1;33m\u001b[0m\u001b[0m\n\u001b[0m",
      "\u001b[1;31mAttributeError\u001b[0m: NonDeletable object doesn't support attribute deletion!"
     ]
    }
   ],
   "source": [
    "del n.value"
   ]
  },
  {
   "cell_type": "code",
   "execution_count": 66,
   "id": "59cd0d8b-0f67-4da7-8103-1ad501f5188c",
   "metadata": {},
   "outputs": [],
   "source": [
    "class Person:\n",
    "    def __init__(self, name):\n",
    "        self.name = name\n",
    "\n",
    "    @property\n",
    "    def name(self):\n",
    "        return self._named\n",
    "    \n",
    "    @name.setter\n",
    "    def name(self, value):\n",
    "        self._name = str(value).upper()\n",
    "\n",
    "    @name.deleter\n",
    "    def name(self):\n",
    "        raise AttributeError(\"can't delete attribute 'name'\")"
   ]
  },
  {
   "cell_type": "code",
   "execution_count": 67,
   "id": "59465034-53f2-4915-8045-839d8f82ad75",
   "metadata": {},
   "outputs": [],
   "source": [
    "jan = Person(\"Jan\")"
   ]
  },
  {
   "cell_type": "code",
   "execution_count": 68,
   "id": "16c1741d-5ec1-40df-89c6-7ab7023b7f4b",
   "metadata": {},
   "outputs": [
    {
     "data": {
      "text/plain": [
       "'Jan'"
      ]
     },
     "execution_count": 68,
     "metadata": {},
     "output_type": "execute_result"
    }
   ],
   "source": [
    "jan.named"
   ]
  },
  {
   "cell_type": "code",
   "execution_count": 70,
   "id": "4298ea72-7022-4826-bc7f-5f61e67440a9",
   "metadata": {},
   "outputs": [],
   "source": [
    "del jan.named"
   ]
  },
  {
   "cell_type": "code",
   "execution_count": 7,
   "id": "d69f7c1b-2e02-456b-b00f-95507f72e672",
   "metadata": {},
   "outputs": [
    {
     "ename": "ModuleNotFoundError",
     "evalue": "No module named 'helper'",
     "output_type": "error",
     "traceback": [
      "\u001b[1;31m---------------------------------------------------------------------------\u001b[0m",
      "\u001b[1;31mModuleNotFoundError\u001b[0m                       Traceback (most recent call last)",
      "\u001b[1;32m~\\AppData\\Local\\Temp\\ipykernel_23120\\1602859157.py\u001b[0m in \u001b[0;36m<module>\u001b[1;34m\u001b[0m\n\u001b[1;32m----> 1\u001b[1;33m \u001b[1;32mfrom\u001b[0m \u001b[0mhelper\u001b[0m \u001b[1;32mimport\u001b[0m \u001b[1;33m*\u001b[0m\u001b[1;33m\u001b[0m\u001b[1;33m\u001b[0m\u001b[0m\n\u001b[0m\u001b[0;32m      2\u001b[0m \u001b[0mhelper\u001b[0m\u001b[1;33m.\u001b[0m\u001b[0mgreet\u001b[0m\u001b[1;33m(\u001b[0m\u001b[1;33m)\u001b[0m\u001b[1;33m\u001b[0m\u001b[1;33m\u001b[0m\u001b[0m\n",
      "\u001b[1;31mModuleNotFoundError\u001b[0m: No module named 'helper'"
     ]
    }
   ],
   "source": [
    "\n",
    "\n",
    "from _PythonProject.helper import *\n",
    "helper.greet()"
   ]
  },
  {
   "cell_type": "code",
   "execution_count": null,
   "id": "1e42e3dd-b457-494f-95c5-81cdf7f0cab6",
   "metadata": {},
   "outputs": [],
   "source": []
  }
 ],
 "metadata": {
  "kernelspec": {
   "display_name": "Python 3 (ipykernel)",
   "language": "python",
   "name": "python3"
  },
  "language_info": {
   "codemirror_mode": {
    "name": "ipython",
    "version": 3
   },
   "file_extension": ".py",
   "mimetype": "text/x-python",
   "name": "python",
   "nbconvert_exporter": "python",
   "pygments_lexer": "ipython3",
   "version": "3.9.13"
  }
 },
 "nbformat": 4,
 "nbformat_minor": 5
}
