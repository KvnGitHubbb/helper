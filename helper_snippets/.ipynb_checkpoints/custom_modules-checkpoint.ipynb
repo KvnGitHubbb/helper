{
 "cells": [
  {
   "cell_type": "code",
   "execution_count": 8,
   "id": "6599ffde-af82-45e7-ac05-33377c027eaa",
   "metadata": {},
   "outputs": [],
   "source": [
    "def greet():\n",
    "    print(\"Contact mades!\")"
   ]
  },
  {
   "cell_type": "code",
   "execution_count": 9,
   "id": "b08a751f-b808-4dfc-8ae7-267a853faae2",
   "metadata": {},
   "outputs": [
    {
     "name": "stdout",
     "output_type": "stream",
     "text": [
      "Contact mades!\n"
     ]
    }
   ],
   "source": [
    "# first greet\n",
    "greet()"
   ]
  },
  {
   "cell_type": "code",
   "execution_count": 10,
   "id": "e556d58f-6f6d-40ac-a130-ada3f314b4d0",
   "metadata": {},
   "outputs": [],
   "source": [
    "import helper as h"
   ]
  },
  {
   "cell_type": "code",
   "execution_count": 11,
   "id": "e64680f8-ed17-46bd-a8ea-26167299dd99",
   "metadata": {},
   "outputs": [
    {
     "name": "stdout",
     "output_type": "stream",
     "text": [
      "Hi! Helpers readyssss\n"
     ]
    }
   ],
   "source": [
    "# second greet\n",
    "h.greet()"
   ]
  },
  {
   "cell_type": "code",
   "execution_count": null,
   "id": "308610cd-6d44-4520-92dc-8c7208bb04ea",
   "metadata": {},
   "outputs": [],
   "source": []
  },
  {
   "cell_type": "code",
   "execution_count": null,
   "id": "b983734f-60d8-4ce4-8978-ce32071f23ea",
   "metadata": {},
   "outputs": [],
   "source": []
  }
 ],
 "metadata": {
  "kernelspec": {
   "display_name": "Python 3 (ipykernel)",
   "language": "python",
   "name": "python3"
  },
  "language_info": {
   "codemirror_mode": {
    "name": "ipython",
    "version": 3
   },
   "file_extension": ".py",
   "mimetype": "text/x-python",
   "name": "python",
   "nbconvert_exporter": "python",
   "pygments_lexer": "ipython3",
   "version": "3.9.13"
  }
 },
 "nbformat": 4,
 "nbformat_minor": 5
}
