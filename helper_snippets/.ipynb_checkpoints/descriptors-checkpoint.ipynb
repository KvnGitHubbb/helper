{
 "cells": [
  {
   "cell_type": "code",
   "execution_count": null,
   "id": "2e8daa4a-f0c1-448d-b9c9-902916e3aabe",
   "metadata": {},
   "outputs": [],
   "source": [
    "# een descriptor is een object die speciale properties heeft als deze als attribute gebruikt wordt"
   ]
  },
  {
   "cell_type": "code",
   "execution_count": 13,
   "id": "14d7df43-7eba-4c3f-b71c-ca95679dc2b6",
   "metadata": {},
   "outputs": [],
   "source": [
    "class Verbose_attribute():\n",
    "    def __get__(self, obj, type=None) -> object:\n",
    "        print(\"accessing the attribute to get the value\")\n",
    "        return 42\n",
    "    \n",
    "    def __set__(self, obj, value) -> None:\n",
    "        print(\"accessing the attribute to set the value\")\n",
    "        raise AttributeError(\"Cannot change the value\")\n",
    "\n",
    "class Foo():\n",
    "    attribute1 = Verbose_attribute()\n",
    "    attribute2 = 100"
   ]
  },
  {
   "cell_type": "code",
   "execution_count": 14,
   "id": "0081156f-5f8c-4bcb-a755-a1454bc52fc6",
   "metadata": {},
   "outputs": [
    {
     "name": "stdout",
     "output_type": "stream",
     "text": [
      "accessing the attribute to get the value\n",
      "42\n"
     ]
    }
   ],
   "source": [
    "my_foo_object = Foo()\n",
    "x = my_foo_object.attribute1\n",
    "print(x)"
   ]
  },
  {
   "cell_type": "code",
   "execution_count": 15,
   "id": "922b9e5c-b754-4d03-b52b-2202e58aea0c",
   "metadata": {},
   "outputs": [
    {
     "data": {
      "text/plain": [
       "100"
      ]
     },
     "execution_count": 15,
     "metadata": {},
     "output_type": "execute_result"
    }
   ],
   "source": [
    "my_foo_object.attribute2"
   ]
  },
  {
   "cell_type": "code",
   "execution_count": 8,
   "id": "f9fe0217-c5e2-4bfc-bfad-319f8d5e84cc",
   "metadata": {},
   "outputs": [],
   "source": [
    "class Foo():\n",
    "    \n",
    "    def __init__(self, value):\n",
    "        self._attribute1 = value\n",
    "    \n",
    "    @property\n",
    "    def attribute1(self):\n",
    "        return self._attribute1\n",
    "    \n",
    "    @attribute1.setter\n",
    "    def attribute1(self, value):\n",
    "        print(\"Cannot set value\")"
   ]
  },
  {
   "cell_type": "code",
   "execution_count": 10,
   "id": "f1e04a69-cc85-4af2-bd97-83822aafeb56",
   "metadata": {},
   "outputs": [],
   "source": [
    "y = Foo(3)"
   ]
  },
  {
   "cell_type": "code",
   "execution_count": 12,
   "id": "01fef802-ac32-41a8-bea8-86c264fdd4a9",
   "metadata": {},
   "outputs": [
    {
     "data": {
      "text/plain": [
       "3"
      ]
     },
     "execution_count": 12,
     "metadata": {},
     "output_type": "execute_result"
    }
   ],
   "source": [
    "y.attribute1"
   ]
  },
  {
   "cell_type": "code",
   "execution_count": null,
   "id": "2f3fe4fa-cdba-48bb-8c25-b2841cda806f",
   "metadata": {},
   "outputs": [],
   "source": []
  },
  {
   "cell_type": "code",
   "execution_count": null,
   "id": "dfc2b2d4-3487-4453-b1ae-a3e5af36016e",
   "metadata": {},
   "outputs": [],
   "source": []
  },
  {
   "cell_type": "code",
   "execution_count": 18,
   "id": "e085b817-93fa-4fcf-8de5-e92ff9077bd6",
   "metadata": {},
   "outputs": [
    {
     "name": "stdout",
     "output_type": "stream",
     "text": [
      "{'color': 'red'}\n",
      "{'__module__': '__main__', '__doc__': 'A car is a vehicle', 'number_of_weels': 4, '__init__': <function Car.__init__ at 0x000001D855032CA0>}\n"
     ]
    }
   ],
   "source": [
    "class Vehicle():\n",
    "    can_fly = False\n",
    "    number_of_weels = 0\n",
    "\n",
    "class Car(Vehicle):\n",
    "    \"\"\"A car is a vehicle\"\"\"\n",
    "    number_of_weels = 4\n",
    "\n",
    "    def __init__(self, color):\n",
    "        self.color = color\n",
    "\n",
    "my_car = Car(\"red\")\n",
    "print(my_car.__dict__)\n",
    "print(type(my_car).__dict__)\n"
   ]
  },
  {
   "cell_type": "code",
   "execution_count": 19,
   "id": "b96d10f7-fab9-4e81-81ff-1a0ac5d289e9",
   "metadata": {},
   "outputs": [
    {
     "name": "stdout",
     "output_type": "stream",
     "text": [
      "red\n",
      "4\n",
      "False\n"
     ]
    }
   ],
   "source": [
    "class Vehicle():\n",
    "    can_fly = False\n",
    "    number_of_weels = 0\n",
    "\n",
    "class Car(Vehicle):\n",
    "    number_of_weels = 4\n",
    "\n",
    "    def __init__(self, color):\n",
    "        self.color = color\n",
    "\n",
    "my_car = Car(\"red\")\n",
    "\n",
    "print(my_car.__dict__['color'])\n",
    "print(type(my_car).__dict__['number_of_weels'])\n",
    "print(type(my_car).__base__.__dict__['can_fly'])"
   ]
  },
  {
   "cell_type": "code",
   "execution_count": null,
   "id": "5d39bae9-461c-4b3f-8425-b12f0a2a8bac",
   "metadata": {},
   "outputs": [],
   "source": []
  },
  {
   "cell_type": "code",
   "execution_count": 25,
   "id": "a6353ebc-e3fb-4141-958a-e55f0bd618e9",
   "metadata": {},
   "outputs": [],
   "source": [
    "class Coordinates:\n",
    "    \n",
    "    def __init__(self,value):\n",
    "        self.value = value\n",
    "    \n",
    "    def __get__(self, obj, type=None):\n",
    "        return self.value\n",
    "    \n",
    "    def __set__(self,obj, value):\n",
    "        print(\"You can't set a coordinate\")"
   ]
  },
  {
   "cell_type": "code",
   "execution_count": 26,
   "id": "b091a3d6-3804-4dc8-b33d-813a660fcf2c",
   "metadata": {},
   "outputs": [],
   "source": [
    "class Grid:\n",
    "    x = Coordinates(1)\n",
    "    y = Coordinates(2)\n",
    "    \n",
    "    def location(self):\n",
    "        return (self.x, self.y)"
   ]
  },
  {
   "cell_type": "code",
   "execution_count": 27,
   "id": "9c98a843-1af6-49f3-891c-b92d3caee5a9",
   "metadata": {},
   "outputs": [],
   "source": [
    "g = Grid()"
   ]
  },
  {
   "cell_type": "code",
   "execution_count": 28,
   "id": "13f83aac-95d9-4334-97b8-df2cbbee171b",
   "metadata": {},
   "outputs": [
    {
     "data": {
      "text/plain": [
       "(1, 2)"
      ]
     },
     "execution_count": 28,
     "metadata": {},
     "output_type": "execute_result"
    }
   ],
   "source": [
    "g.location()"
   ]
  },
  {
   "cell_type": "code",
   "execution_count": 34,
   "id": "c24e1356-523a-4b15-9535-75b9298c1a57",
   "metadata": {},
   "outputs": [
    {
     "ename": "NameError",
     "evalue": "name 'self' is not defined",
     "output_type": "error",
     "traceback": [
      "\u001b[1;31m---------------------------------------------------------------------------\u001b[0m",
      "\u001b[1;31mNameError\u001b[0m                                 Traceback (most recent call last)",
      "\u001b[1;32m~\\AppData\\Local\\Temp\\ipykernel_32076\\2113774413.py\u001b[0m in \u001b[0;36m<module>\u001b[1;34m\u001b[0m\n\u001b[0;32m     10\u001b[0m         \u001b[0mself\u001b[0m\u001b[1;33m.\u001b[0m\u001b[0mvalue\u001b[0m \u001b[1;33m=\u001b[0m \u001b[0mvalue\u001b[0m\u001b[1;33m\u001b[0m\u001b[1;33m\u001b[0m\u001b[0m\n\u001b[0;32m     11\u001b[0m \u001b[1;33m\u001b[0m\u001b[0m\n\u001b[1;32m---> 12\u001b[1;33m \u001b[1;32mclass\u001b[0m \u001b[0mFoo\u001b[0m\u001b[1;33m(\u001b[0m\u001b[1;33m)\u001b[0m\u001b[1;33m:\u001b[0m\u001b[1;33m\u001b[0m\u001b[1;33m\u001b[0m\u001b[0m\n\u001b[0m\u001b[0;32m     13\u001b[0m     \u001b[0mself\u001b[0m\u001b[1;33m.\u001b[0m\u001b[0mnumber\u001b[0m \u001b[1;33m=\u001b[0m \u001b[0mOneDigitNumericValue\u001b[0m\u001b[1;33m(\u001b[0m\u001b[1;33m)\u001b[0m\u001b[1;33m\u001b[0m\u001b[1;33m\u001b[0m\u001b[0m\n\u001b[0;32m     14\u001b[0m \u001b[1;33m\u001b[0m\u001b[0m\n",
      "\u001b[1;32m~\\AppData\\Local\\Temp\\ipykernel_32076\\2113774413.py\u001b[0m in \u001b[0;36mFoo\u001b[1;34m()\u001b[0m\n\u001b[0;32m     11\u001b[0m \u001b[1;33m\u001b[0m\u001b[0m\n\u001b[0;32m     12\u001b[0m \u001b[1;32mclass\u001b[0m \u001b[0mFoo\u001b[0m\u001b[1;33m(\u001b[0m\u001b[1;33m)\u001b[0m\u001b[1;33m:\u001b[0m\u001b[1;33m\u001b[0m\u001b[1;33m\u001b[0m\u001b[0m\n\u001b[1;32m---> 13\u001b[1;33m     \u001b[0mself\u001b[0m\u001b[1;33m.\u001b[0m\u001b[0mnumber\u001b[0m \u001b[1;33m=\u001b[0m \u001b[0mOneDigitNumericValue\u001b[0m\u001b[1;33m(\u001b[0m\u001b[1;33m)\u001b[0m\u001b[1;33m\u001b[0m\u001b[1;33m\u001b[0m\u001b[0m\n\u001b[0m\u001b[0;32m     14\u001b[0m \u001b[1;33m\u001b[0m\u001b[0m\n\u001b[0;32m     15\u001b[0m \u001b[0mmy_foo_object\u001b[0m \u001b[1;33m=\u001b[0m \u001b[0mFoo\u001b[0m\u001b[1;33m(\u001b[0m\u001b[1;33m)\u001b[0m\u001b[1;33m\u001b[0m\u001b[1;33m\u001b[0m\u001b[0m\n",
      "\u001b[1;31mNameError\u001b[0m: name 'self' is not defined"
     ]
    }
   ],
   "source": [
    "# pas op! de descriptor geldt voor elke instance. Het hoort bij heel de class\n",
    "class OneDigitNumericValue():\n",
    "    def __init__(self):\n",
    "        self.value = 0\n",
    "    def __get__(self, obj, type=None) -> object:\n",
    "        return self.value\n",
    "    def __set__(self, obj, value) -> None:\n",
    "        if value > 9 or value < 0 or int(value) != value:\n",
    "            raise AttributeError(\"The value is invalid\")\n",
    "        self.value = value\n",
    "\n",
    "class Foo():\n",
    "    number = OneDigitNumericValue()\n",
    "\n",
    "my_foo_object = Foo()\n",
    "my_second_foo_object = Foo()\n",
    "\n",
    "my_foo_object.number = 3\n",
    "print(my_foo_object.number)\n",
    "print(my_second_foo_object.number)\n",
    "\n",
    "my_third_foo_object = Foo()\n",
    "print(my_third_foo_object.number)"
   ]
  },
  {
   "cell_type": "code",
   "execution_count": 33,
   "id": "3bd77b45-df6d-4490-ba6d-77c862f9e11b",
   "metadata": {},
   "outputs": [
    {
     "ename": "ValueError",
     "evalue": "invalid literal for int() with base 10: 'hello'",
     "output_type": "error",
     "traceback": [
      "\u001b[1;31m---------------------------------------------------------------------------\u001b[0m",
      "\u001b[1;31mValueError\u001b[0m                                Traceback (most recent call last)",
      "\u001b[1;32m~\\AppData\\Local\\Temp\\ipykernel_32076\\1522662381.py\u001b[0m in \u001b[0;36m<module>\u001b[1;34m\u001b[0m\n\u001b[1;32m----> 1\u001b[1;33m \u001b[0mprint\u001b[0m\u001b[1;33m(\u001b[0m\u001b[0mint\u001b[0m\u001b[1;33m(\u001b[0m\u001b[1;34m\"hello\"\u001b[0m\u001b[1;33m)\u001b[0m \u001b[1;32mor\u001b[0m \u001b[1;36m1\u001b[0m\u001b[1;33m)\u001b[0m\u001b[1;33m\u001b[0m\u001b[1;33m\u001b[0m\u001b[0m\n\u001b[0m",
      "\u001b[1;31mValueError\u001b[0m: invalid literal for int() with base 10: 'hello'"
     ]
    }
   ],
   "source": []
  },
  {
   "cell_type": "code",
   "execution_count": 35,
   "id": "30b4039c-2c5c-40cf-9654-afa657ebaa22",
   "metadata": {},
   "outputs": [],
   "source": [
    "class Ten:\n",
    "    def __get__(self, obj, type=None) -> object:\n",
    "        return 10\n",
    "    \n",
    "    def __set__(self, obj, value) -> None:\n",
    "        raise Exception(\"You cannot change this number!\")"
   ]
  },
  {
   "cell_type": "code",
   "execution_count": 36,
   "id": "b88d1614-4e6c-4476-b2f1-a2784e6ce8d2",
   "metadata": {},
   "outputs": [],
   "source": [
    "class Number:\n",
    "    ten = Ten()"
   ]
  },
  {
   "cell_type": "code",
   "execution_count": 37,
   "id": "4871b189-0ef1-48a2-b055-c6b121972ebc",
   "metadata": {},
   "outputs": [],
   "source": [
    "count = Number()"
   ]
  },
  {
   "cell_type": "code",
   "execution_count": 39,
   "id": "1d85be09-e24e-43cc-8fc9-a49ff6ca3f34",
   "metadata": {},
   "outputs": [
    {
     "ename": "Exception",
     "evalue": "You cannot change this number!",
     "output_type": "error",
     "traceback": [
      "\u001b[1;31m---------------------------------------------------------------------------\u001b[0m",
      "\u001b[1;31mException\u001b[0m                                 Traceback (most recent call last)",
      "\u001b[1;32m~\\AppData\\Local\\Temp\\ipykernel_32076\\2434464393.py\u001b[0m in \u001b[0;36m<module>\u001b[1;34m\u001b[0m\n\u001b[1;32m----> 1\u001b[1;33m \u001b[0mcount\u001b[0m\u001b[1;33m.\u001b[0m\u001b[0mten\u001b[0m \u001b[1;33m=\u001b[0m \u001b[1;36m4\u001b[0m\u001b[1;33m\u001b[0m\u001b[1;33m\u001b[0m\u001b[0m\n\u001b[0m",
      "\u001b[1;32m~\\AppData\\Local\\Temp\\ipykernel_32076\\1973590144.py\u001b[0m in \u001b[0;36m__set__\u001b[1;34m(self, obj, value)\u001b[0m\n\u001b[0;32m      4\u001b[0m \u001b[1;33m\u001b[0m\u001b[0m\n\u001b[0;32m      5\u001b[0m     \u001b[1;32mdef\u001b[0m \u001b[0m__set__\u001b[0m\u001b[1;33m(\u001b[0m\u001b[0mself\u001b[0m\u001b[1;33m,\u001b[0m \u001b[0mobj\u001b[0m\u001b[1;33m,\u001b[0m \u001b[0mvalue\u001b[0m\u001b[1;33m)\u001b[0m \u001b[1;33m->\u001b[0m \u001b[1;32mNone\u001b[0m\u001b[1;33m:\u001b[0m\u001b[1;33m\u001b[0m\u001b[1;33m\u001b[0m\u001b[0m\n\u001b[1;32m----> 6\u001b[1;33m         \u001b[1;32mraise\u001b[0m \u001b[0mException\u001b[0m\u001b[1;33m(\u001b[0m\u001b[1;34m\"You cannot change this number!\"\u001b[0m\u001b[1;33m)\u001b[0m\u001b[1;33m\u001b[0m\u001b[1;33m\u001b[0m\u001b[0m\n\u001b[0m",
      "\u001b[1;31mException\u001b[0m: You cannot change this number!"
     ]
    }
   ],
   "source": [
    "count.ten = 4"
   ]
  },
  {
   "cell_type": "code",
   "execution_count": null,
   "id": "814103f7-f865-43c9-864f-20f3644ae48e",
   "metadata": {},
   "outputs": [],
   "source": []
  }
 ],
 "metadata": {
  "kernelspec": {
   "display_name": "Python 3 (ipykernel)",
   "language": "python",
   "name": "python3"
  },
  "language_info": {
   "codemirror_mode": {
    "name": "ipython",
    "version": 3
   },
   "file_extension": ".py",
   "mimetype": "text/x-python",
   "name": "python",
   "nbconvert_exporter": "python",
   "pygments_lexer": "ipython3",
   "version": "3.9.13"
  }
 },
 "nbformat": 4,
 "nbformat_minor": 5
}
