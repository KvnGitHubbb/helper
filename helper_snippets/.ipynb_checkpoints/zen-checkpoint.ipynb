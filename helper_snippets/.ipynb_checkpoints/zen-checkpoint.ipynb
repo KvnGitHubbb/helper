{
 "cells": [
  {
   "cell_type": "code",
   "execution_count": 1,
   "id": "c1a3f2cf-94a7-4b51-8c5c-f7dd512549a9",
   "metadata": {
    "collapsed": true,
    "jupyter": {
     "outputs_hidden": true
    },
    "tags": []
   },
   "outputs": [
    {
     "name": "stdout",
     "output_type": "stream",
     "text": [
      "The Zen of Python, by Tim Peters\n",
      "\n",
      "Beautiful is better than ugly.\n",
      "Explicit is better than implicit.\n",
      "Simple is better than complex.\n",
      "Complex is better than complicated.\n",
      "Flat is better than nested.\n",
      "Sparse is better than dense.\n",
      "Readability counts.\n",
      "Special cases aren't special enough to break the rules.\n",
      "Although practicality beats purity.\n",
      "Errors should never pass silently.\n",
      "Unless explicitly silenced.\n",
      "In the face of ambiguity, refuse the temptation to guess.\n",
      "There should be one-- and preferably only one --obvious way to do it.\n",
      "Although that way may not be obvious at first unless you're Dutch.\n",
      "Now is better than never.\n",
      "Although never is often better than *right* now.\n",
      "If the implementation is hard to explain, it's a bad idea.\n",
      "If the implementation is easy to explain, it may be a good idea.\n",
      "Namespaces are one honking great idea -- let's do more of those!\n"
     ]
    }
   ],
   "source": [
    "import this"
   ]
  },
  {
   "cell_type": "code",
   "execution_count": 20,
   "id": "32980fb2-582a-484f-899c-8972a1ee172f",
   "metadata": {},
   "outputs": [],
   "source": [
    "def add_one(a):\n",
    "    \"\"\"Add one to a\"\"\"\n",
    "    return a + 1"
   ]
  },
  {
   "cell_type": "code",
   "execution_count": 25,
   "id": "47de56e5-d27b-472b-8de1-ce09cb0b8635",
   "metadata": {},
   "outputs": [
    {
     "data": {
      "text/plain": [
       "'Add one to a'"
      ]
     },
     "execution_count": 25,
     "metadata": {},
     "output_type": "execute_result"
    }
   ],
   "source": [
    "add_one.__doc__"
   ]
  },
  {
   "cell_type": "code",
   "execution_count": 35,
   "id": "cf9ccded-00e6-47d0-a452-fb508ccbd2ff",
   "metadata": {},
   "outputs": [
    {
     "data": {
      "text/plain": [
       "11"
      ]
     },
     "execution_count": 35,
     "metadata": {},
     "output_type": "execute_result"
    }
   ],
   "source": [
    "a(3)"
   ]
  },
  {
   "cell_type": "code",
   "execution_count": 33,
   "id": "8463dccc-b88b-49d3-bc0e-68a109ae27e7",
   "metadata": {},
   "outputs": [
    {
     "data": {
      "text/plain": [
       "2"
      ]
     },
     "execution_count": 33,
     "metadata": {},
     "output_type": "execute_result"
    }
   ],
   "source": [
    "1+1"
   ]
  },
  {
   "cell_type": "code",
   "execution_count": 3,
   "id": "a45a2eaf-d3d2-4387-a413-3ddc0db2a409",
   "metadata": {},
   "outputs": [],
   "source": [
    "import antigravity"
   ]
  },
  {
   "cell_type": "code",
   "execution_count": 8,
   "id": "3dc6cdcf-7c1a-4766-ba1b-230168f7c2ec",
   "metadata": {},
   "outputs": [],
   "source": [
    "from __future__ import barry_as_FLUFL"
   ]
  },
  {
   "cell_type": "code",
   "execution_count": 9,
   "id": "ca21916f-ca23-4fff-bfe9-40b10f49a066",
   "metadata": {},
   "outputs": [
    {
     "ename": "SyntaxError",
     "evalue": "with Barry as BDFL, use '<>' instead of '!=' (265762452.py, line 1)",
     "output_type": "error",
     "traceback": [
      "\u001b[1;36m  File \u001b[1;32m\"C:\\Users\\kzhg1\\AppData\\Local\\Temp\\ipykernel_57868\\265762452.py\"\u001b[1;36m, line \u001b[1;32m1\u001b[0m\n\u001b[1;33m    1 != 1\u001b[0m\n\u001b[1;37m      ^\u001b[0m\n\u001b[1;31mSyntaxError\u001b[0m\u001b[1;31m:\u001b[0m with Barry as BDFL, use '<>' instead of '!='\n"
     ]
    }
   ],
   "source": [
    "1 != 1"
   ]
  },
  {
   "cell_type": "code",
   "execution_count": 12,
   "id": "7e874027-0fcc-4457-8121-6a77f1c97b5c",
   "metadata": {},
   "outputs": [
    {
     "data": {
      "text/plain": [
       "True"
      ]
     },
     "execution_count": 12,
     "metadata": {},
     "output_type": "execute_result"
    }
   ],
   "source": [
    "1 == 1"
   ]
  },
  {
   "cell_type": "code",
   "execution_count": 16,
   "id": "593bfb9e-8de0-49e5-acac-1a5cc53567b6",
   "metadata": {},
   "outputs": [
    {
     "name": "stdout",
     "output_type": "stream",
     "text": [
      "this is formatted: bleh blah bluh haha\n"
     ]
    }
   ],
   "source": [
    "a = ['bleh', 'blah', 'bluh']\n",
    "ass = \" \"\n",
    "print(f\"this is formatted: {ass.join(a)} haha\")"
   ]
  },
  {
   "cell_type": "code",
   "execution_count": null,
   "id": "2c6cdd1e-efca-453d-b58e-35c2f51b2507",
   "metadata": {},
   "outputs": [],
   "source": []
  }
 ],
 "metadata": {
  "kernelspec": {
   "display_name": "Python 3 (ipykernel)",
   "language": "python",
   "name": "python3"
  },
  "language_info": {
   "codemirror_mode": {
    "name": "ipython",
    "version": 3
   },
   "file_extension": ".py",
   "mimetype": "text/x-python",
   "name": "python",
   "nbconvert_exporter": "python",
   "pygments_lexer": "ipython3",
   "version": "3.11.5"
  }
 },
 "nbformat": 4,
 "nbformat_minor": 5
}
