{
 "cells": [
  {
   "cell_type": "code",
   "execution_count": 6,
   "id": "687bc5a5-544b-403f-96c0-3a8379be8954",
   "metadata": {},
   "outputs": [],
   "source": [
    "import multiprocessing\n",
    "import threading\n",
    "import os\n",
    "import timeit"
   ]
  },
  {
   "cell_type": "code",
   "execution_count": 2,
   "id": "e56c75ba-d8a2-4623-937f-ab40ef2142ab",
   "metadata": {},
   "outputs": [],
   "source": [
    "def fib(n):\n",
    "    return n if n < 2 else fib(n - 2) + fib(n - 1)\n",
    "\n",
    "\n",
    "# if __name__ == \"__main__\":\n",
    "#     for _ in range(multiprocessing.cpu_count()):\n",
    "#         multiprocessing.Process(target=fib, args=(35,)).start()\n",
    "\n",
    "# for _ in range(os.cpu_count()):\n",
    "#     threading.Thread(target=fib, args=(35,)).start()\n",
    "        \n"
   ]
  },
  {
   "cell_type": "code",
   "execution_count": 8,
   "id": "cd1f2ca4-fa66-4aae-909b-1fd29c297d05",
   "metadata": {
    "tags": []
   },
   "outputs": [
    {
     "name": "stdout",
     "output_type": "stream",
     "text": [
      "2\n",
      "Wall time: 0 ns\n"
     ]
    }
   ],
   "source": [
    "time print(2)"
   ]
  },
  {
   "cell_type": "code",
   "execution_count": null,
   "id": "14aa218c-2b61-4cb4-9516-ddb076b1a4be",
   "metadata": {},
   "outputs": [],
   "source": []
  },
  {
   "cell_type": "code",
   "execution_count": null,
   "id": "db28bc2e-8945-4adc-afd5-2577ccfe8be0",
   "metadata": {},
   "outputs": [],
   "source": []
  }
 ],
 "metadata": {
  "kernelspec": {
   "display_name": "Python 3 (ipykernel)",
   "language": "python",
   "name": "python3"
  },
  "language_info": {
   "codemirror_mode": {
    "name": "ipython",
    "version": 3
   },
   "file_extension": ".py",
   "mimetype": "text/x-python",
   "name": "python",
   "nbconvert_exporter": "python",
   "pygments_lexer": "ipython3",
   "version": "3.9.13"
  }
 },
 "nbformat": 4,
 "nbformat_minor": 5
}
