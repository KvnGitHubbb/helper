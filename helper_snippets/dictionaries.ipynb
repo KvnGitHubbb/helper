{
 "cells": [
  {
   "cell_type": "code",
   "execution_count": 28,
   "id": "f21d25e9-110d-45c6-8505-3301cab5038e",
   "metadata": {},
   "outputs": [],
   "source": [
    "# dictionairies bestaan uit key-value pairs, elke pair is een item\n",
    "# een key moet niet mutable zijn\n",
    "\n",
    "# built-in functions: sorted() en reversed()\n",
    "#                     map() en filter()"
   ]
  },
  {
   "cell_type": "code",
   "execution_count": 29,
   "id": "0db96f7a-3880-4b1f-9748-f7a0685d2ae9",
   "metadata": {},
   "outputs": [
    {
     "data": {
      "text/plain": [
       "200"
      ]
     },
     "execution_count": 29,
     "metadata": {},
     "output_type": "execute_result"
    }
   ],
   "source": [
    "dic = {1:100, 2:200}\n",
    "dic[2]"
   ]
  },
  {
   "cell_type": "code",
   "execution_count": 34,
   "id": "6c29324e-2b6b-4b13-8d6c-e76b03e64461",
   "metadata": {},
   "outputs": [
    {
     "name": "stdout",
     "output_type": "stream",
     "text": [
      "my favorite color is blue\n",
      "my favorite fruit is apple\n",
      "my favorite pet is dog\n"
     ]
    }
   ],
   "source": [
    "likes = {\"color\": \"blue\", \"fruit\": \"apple\", \"pet\": \"dog\"}\n",
    "\n",
    "for key in likes:\n",
    "    print(f\"my favorite {key} is {likes[key]}\")"
   ]
  },
  {
   "cell_type": "code",
   "execution_count": 39,
   "id": "1e3bd928-6e3f-4e5f-a5fa-1c3ae7a878f5",
   "metadata": {},
   "outputs": [
    {
     "name": "stdout",
     "output_type": "stream",
     "text": [
      "color blue\n",
      "fruit apple\n",
      "pet dog\n"
     ]
    }
   ],
   "source": [
    "# gebruik items() als je gelijk toegang wilt tot de item bij elke key\n",
    "\n",
    "for key, item in likes.items():\n",
    "    print(key, item)"
   ]
  },
  {
   "cell_type": "code",
   "execution_count": 48,
   "id": "29ffc751-df61-49d1-b129-c2e973c886f7",
   "metadata": {},
   "outputs": [
    {
     "name": "stdout",
     "output_type": "stream",
     "text": [
      "color\n",
      "fruit\n",
      "pet\n"
     ]
    }
   ],
   "source": [
    "for key in likes.keys():\n",
    "    print(key)"
   ]
  },
  {
   "cell_type": "code",
   "execution_count": 54,
   "id": "bfc7c362-6f7e-4ef0-b3b6-8a5fae062434",
   "metadata": {},
   "outputs": [
    {
     "data": {
      "text/plain": [
       "{'apple': 0.36, 'orange': 0.32, 'banana': 0.23}"
      ]
     },
     "execution_count": 54,
     "metadata": {},
     "output_type": "execute_result"
    }
   ],
   "source": [
    "fruits = {\"apple\": 0.40, \"orange\": 0.35, \"banana\": 0.25}\n",
    "\n",
    "for fruit, price in fruits.items():\n",
    "    fruits[fruit] = round(price * 0.9, 2)\n",
    "\n",
    "\n",
    "fruits"
   ]
  },
  {
   "cell_type": "code",
   "execution_count": 61,
   "id": "9c147421-e8b6-4b68-bd90-950534773fbe",
   "metadata": {},
   "outputs": [
    {
     "data": {
      "text/plain": [
       "{'apple': 0.4, 'orange': 0.35, 'banana': 0.25}"
      ]
     },
     "execution_count": 61,
     "metadata": {},
     "output_type": "execute_result"
    }
   ],
   "source": [
    "# maak altijd een copy!\n",
    "\n",
    "fruits = {\"apple\": 0.40, \"orange\": 0.35, \"banana\": 0.25}                 \n",
    "c = fruits.copy()\n",
    "\n",
    "for fruit in c:\n",
    "    if fruits[fruit] >= 0.30:\n",
    "        del fruits[fruit]\n",
    "\n",
    "\n",
    "fruits\n",
    "c"
   ]
  },
  {
   "cell_type": "code",
   "execution_count": 59,
   "id": "e12b1103-8cb1-4e0d-a856-90a263b37226",
   "metadata": {},
   "outputs": [
    {
     "data": {
      "text/plain": [
       "{'banana': 0.25}"
      ]
     },
     "execution_count": 59,
     "metadata": {},
     "output_type": "execute_result"
    }
   ],
   "source": [
    "fruits.copy()"
   ]
  },
  {
   "cell_type": "code",
   "execution_count": 74,
   "id": "f4cec611-2d68-414f-a39f-21d55c99a18a",
   "metadata": {},
   "outputs": [
    {
     "data": {
      "text/plain": [
       "{'one': 1, 'two': 2}"
      ]
     },
     "execution_count": 74,
     "metadata": {},
     "output_type": "execute_result"
    }
   ],
   "source": [
    "numbers = {\"one\": 1, \"two\": 2, \"three\": 3, \"four\": 4}\n",
    "\n",
    "small_numbers = {}\n",
    "\n",
    "for key, value in numbers.items():\n",
    "    if value <= 2:\n",
    "        small_numbers[key] = value\n",
    "\n",
    "\n",
    "small_numbers"
   ]
  },
  {
   "cell_type": "code",
   "execution_count": 75,
   "id": "b0e1577c-6293-4253-ac19-4b5d826a5f4c",
   "metadata": {},
   "outputs": [],
   "source": [
    "small_numbers[\"zero\"] = 0"
   ]
  },
  {
   "cell_type": "code",
   "execution_count": 76,
   "id": "4e920cc1-44b1-41fd-bc22-a780845f872c",
   "metadata": {},
   "outputs": [
    {
     "data": {
      "text/plain": [
       "{'one': 1, 'two': 2, 'zero': 0}"
      ]
     },
     "execution_count": 76,
     "metadata": {},
     "output_type": "execute_result"
    }
   ],
   "source": [
    "small_numbers"
   ]
  },
  {
   "cell_type": "code",
   "execution_count": 81,
   "id": "9c2b20ab-2465-4783-9b9b-7371c25ad5c6",
   "metadata": {},
   "outputs": [
    {
     "data": {
      "text/plain": [
       "{1, 2, 3, 30}"
      ]
     },
     "execution_count": 81,
     "metadata": {},
     "output_type": "execute_result"
    }
   ],
   "source": [
    "{1,2,3}.union({3,2,30})"
   ]
  },
  {
   "cell_type": "code",
   "execution_count": 82,
   "id": "602e40ef-8fbe-47b3-b926-fba6e4800d02",
   "metadata": {},
   "outputs": [
    {
     "data": {
      "text/plain": [
       "14100.0"
      ]
     },
     "execution_count": 82,
     "metadata": {},
     "output_type": "execute_result"
    }
   ],
   "source": [
    "incomes = {\"apple\": 5600.00, \"orange\": 3500.00, \"banana\": 5000.00}\n",
    "sum(incomes.values())"
   ]
  },
  {
   "cell_type": "code",
   "execution_count": 85,
   "id": "f67fbf43-de35-4b24-bc54-381db03fcf4f",
   "metadata": {},
   "outputs": [],
   "source": [
    "a=[1,2,3]\n",
    "b=['een', 'twee', 'drie']"
   ]
  },
  {
   "cell_type": "code",
   "execution_count": 88,
   "id": "cd8a55ce-b166-491e-b0a1-40d9a08f2bd2",
   "metadata": {},
   "outputs": [
    {
     "data": {
      "text/plain": [
       "{1: 'een', 2: 'twee', 3: 'drie'}"
      ]
     },
     "execution_count": 88,
     "metadata": {},
     "output_type": "execute_result"
    }
   ],
   "source": [
    "dict(zip(a,b))"
   ]
  },
  {
   "cell_type": "code",
   "execution_count": 100,
   "id": "6393bef2-5b0a-4426-b94e-a55143157dd2",
   "metadata": {},
   "outputs": [
    {
     "data": {
      "text/plain": [
       "[3]"
      ]
     },
     "execution_count": 100,
     "metadata": {},
     "output_type": "execute_result"
    }
   ],
   "source": [
    "c = [x for x in a if x>2]\n",
    "c"
   ]
  },
  {
   "cell_type": "code",
   "execution_count": 101,
   "id": "a20445ee-0c0c-453b-86e1-f14a73344c67",
   "metadata": {},
   "outputs": [
    {
     "data": {
      "text/plain": [
       "{1: 'one', 2: 'two', 3: 'three', 4: 'four'}"
      ]
     },
     "execution_count": 101,
     "metadata": {},
     "output_type": "execute_result"
    }
   ],
   "source": [
    "# dictionairy comprehension\n",
    "numbers = {\"one\": 1, \"two\": 2, \"three\": 3, \"four\": 4}\n",
    "\n",
    "d= {value: key for key, value in numbers.items()}\n",
    "d"
   ]
  },
  {
   "cell_type": "code",
   "execution_count": 110,
   "id": "a598af8a-dda9-434f-9b20-99489cbc99c7",
   "metadata": {},
   "outputs": [
    {
     "name": "stdout",
     "output_type": "stream",
     "text": [
      "apple -> 5600.0\n",
      "banana -> 5000.0\n",
      "orange -> 3500.0\n"
     ]
    }
   ],
   "source": [
    "incomes = {\"apple\": 5600.00, \"orange\": 3500.00, \"banana\": 5000.00}\n",
    "\n",
    "for fruit in sorted(incomes):\n",
    "    print(fruit, \"->\", incomes[fruit])"
   ]
  },
  {
   "cell_type": "code",
   "execution_count": 113,
   "id": "22c7fd23-b219-481e-a588-35139ff1bf4f",
   "metadata": {},
   "outputs": [
    {
     "data": {
      "text/plain": [
       "[('orange', 3500.0), ('banana', 5000.0), ('apple', 5600.0)]"
      ]
     },
     "execution_count": 113,
     "metadata": {},
     "output_type": "execute_result"
    }
   ],
   "source": [
    "sorted(incomes.items(), key = lambda item: item[1])"
   ]
  },
  {
   "cell_type": "code",
   "execution_count": 121,
   "id": "5edb61d0-e60e-4868-bbda-5ff799af92c5",
   "metadata": {},
   "outputs": [
    {
     "name": "stdout",
     "output_type": "stream",
     "text": [
      "orange -> 3500.0\n",
      "banana -> 5000.0\n",
      "apple -> 5600.0\n"
     ]
    }
   ],
   "source": [
    "incomes = {\"apple\": 5600.00, \"orange\": 3500.00, \"banana\": 5000.00}\n",
    "\n",
    "for fruit, value in sorted(incomes.items(), reverse=False, key = lambda item: item[1]):\n",
    "    print(fruit, \"->\", incomes[fruit])"
   ]
  },
  {
   "cell_type": "code",
   "execution_count": 122,
   "id": "d4e9935a-0da4-4f2e-88ad-07fd89bdc0c6",
   "metadata": {},
   "outputs": [
    {
     "name": "stdout",
     "output_type": "stream",
     "text": [
      "Dictionary length: 3\n",
      "Item ('pet', 'dog') removed\n",
      "Dictionary length: 2\n",
      "Item ('fruit', 'apple') removed\n",
      "Dictionary length: 1\n",
      "Item ('color', 'blue') removed\n",
      "Dictionary length: 0\n",
      "Your dictionary is now empty.\n"
     ]
    }
   ],
   "source": [
    "likes = {\"color\": \"blue\", \"fruit\": \"apple\", \"pet\": \"dog\"}\n",
    "\n",
    "while True:\n",
    "    try:\n",
    "        print(f\"Dictionary length: {len(likes)}\")\n",
    "        item = likes.popitem()\n",
    "        # Do something with the item here...\n",
    "        print(f\"Item {item} removed\")\n",
    "    except KeyError:\n",
    "        print(\"Your dictionary is now empty.\")\n",
    "        break"
   ]
  },
  {
   "cell_type": "code",
   "execution_count": 127,
   "id": "4338562e-2c84-485b-9f83-17c82feb5b4c",
   "metadata": {},
   "outputs": [
    {
     "name": "stdout",
     "output_type": "stream",
     "text": [
      "3\n",
      "2\n",
      "1\n"
     ]
    }
   ],
   "source": [
    "l = [1,2,3]\n",
    "while l:\n",
    "    print(l.pop())"
   ]
  },
  {
   "cell_type": "code",
   "execution_count": 131,
   "id": "aaeb1221-d10b-4083-9f73-2d333a21aada",
   "metadata": {},
   "outputs": [
    {
     "data": {
      "text/plain": [
       "{'apple': 0.38, 'orange': 0.33, 'banana': 0.24}"
      ]
     },
     "execution_count": 131,
     "metadata": {},
     "output_type": "execute_result"
    }
   ],
   "source": [
    "fruits = {\"apple\": 0.40, \"orange\": 0.35, \"banana\": 0.25}\n",
    "\n",
    "def apply_discount(product, discount=0.05):\n",
    "    return product[0], round(product[1] * (1 - discount), 2)\n",
    "\n",
    "\n",
    "dict(map(apply_discount, fruits.items()))\n",
    "\n"
   ]
  },
  {
   "cell_type": "code",
   "execution_count": 135,
   "id": "c623452e-5a2f-46e9-a2e7-2e22958df68e",
   "metadata": {},
   "outputs": [
    {
     "data": {
      "text/plain": [
       "[2, 3, 4]"
      ]
     },
     "execution_count": 135,
     "metadata": {},
     "output_type": "execute_result"
    }
   ],
   "source": [
    "l = list(map(lambda a:a+1, [1,2,3]))\n",
    "l"
   ]
  },
  {
   "cell_type": "code",
   "execution_count": 139,
   "id": "b5aeb404-6390-49b8-b1c6-ef035eea2f8f",
   "metadata": {},
   "outputs": [
    {
     "data": {
      "text/plain": [
       "{'banana': 0.25}"
      ]
     },
     "execution_count": 139,
     "metadata": {},
     "output_type": "execute_result"
    }
   ],
   "source": [
    "fruits = {\"apple\": 0.40, \"orange\": 0.35, \"banana\": 0.25}\n",
    "\n",
    "def has_low_price(item, price=0.4):\n",
    "    return item[1] < price\n",
    "\n",
    "\n",
    "dict(filter(lambda item: has_low_price(item, price=0.3), fruits.items()))"
   ]
  },
  {
   "cell_type": "code",
   "execution_count": 140,
   "id": "ccc9a91b-6ce1-4243-adb7-a1c40a5ca3d0",
   "metadata": {},
   "outputs": [
    {
     "data": {
      "text/plain": [
       "dict_items([('apple', 0.4), ('orange', 0.35), ('banana', 0.25)])"
      ]
     },
     "execution_count": 140,
     "metadata": {},
     "output_type": "execute_result"
    }
   ],
   "source": [
    "fruits.items()"
   ]
  },
  {
   "cell_type": "code",
   "execution_count": 142,
   "id": "a21d79ff-0a6c-4e26-8eb2-d4a977491e80",
   "metadata": {},
   "outputs": [
    {
     "data": {
      "text/plain": [
       "ChainMap({'dogs': 10, 'cats': 7, 'pythons': 3}, {'dogs': 4, 'cats': 3, 'turtles': 1})"
      ]
     },
     "execution_count": 142,
     "metadata": {},
     "output_type": "execute_result"
    }
   ],
   "source": [
    "from collections import ChainMap\n",
    "\n",
    "for_adoption = {\"dogs\": 10, \"cats\": 7, \"pythons\": 3}\n",
    "vet_treatment = {\"dogs\": 4, \"cats\": 3, \"turtles\": 1}\n",
    "pets = ChainMap(for_adoption, vet_treatment)\n",
    "\n",
    "\n",
    "pets\n"
   ]
  },
  {
   "cell_type": "code",
   "execution_count": 149,
   "id": "9df3a644-7c4a-438c-a207-41f859c5ac3f",
   "metadata": {},
   "outputs": [
    {
     "name": "stdout",
     "output_type": "stream",
     "text": [
      "dogs -> 10\n",
      "cats -> 7\n",
      "pythons -> 3\n",
      "apple -> 4\n",
      "cats -> 3\n",
      "turtles -> 1\n"
     ]
    }
   ],
   "source": [
    "from itertools import chain\n",
    "\n",
    "for_adoption = {\"dogs\": 10, \"cats\": 7, \"pythons\": 3}\n",
    "vet_treatment = {\"apple\": 4, \"cats\": 3, \"turtles\": 1}\n",
    "pets = chain(for_adoption.items(), vet_treatment.items())\n",
    "\n",
    "for pet, count in pets:\n",
    "    print(pet, \"->\", count)\n"
   ]
  },
  {
   "cell_type": "code",
   "execution_count": 150,
   "id": "2bf24f94-c025-45ff-b226-bb37e85abbe1",
   "metadata": {},
   "outputs": [
    {
     "data": {
      "text/plain": [
       "{'apple': 4, 'orange': 0.35, 'banana': 0.25, 'cats': 3, 'turtles': 1}"
      ]
     },
     "execution_count": 150,
     "metadata": {},
     "output_type": "execute_result"
    }
   ],
   "source": [
    "{**fruits, **vet_treatment}"
   ]
  },
  {
   "cell_type": "code",
   "execution_count": 11,
   "id": "b3aef723-1eeb-4737-b4c0-87fb73452501",
   "metadata": {},
   "outputs": [],
   "source": [
    "import math\n",
    "d = {'a': 1, 'b': 2, 'c':3, 'd': 4, 'e':5}"
   ]
  },
  {
   "cell_type": "code",
   "execution_count": 12,
   "id": "470ca058-c71d-41ab-850c-028b1c029b4c",
   "metadata": {},
   "outputs": [],
   "source": [
    "def adder(item, add):\n",
    "    return item[0],item[1]**2"
   ]
  },
  {
   "cell_type": "code",
   "execution_count": 13,
   "id": "4b13737a-a8eb-45a1-b8ad-3c2a76f2875f",
   "metadata": {},
   "outputs": [
    {
     "data": {
      "text/plain": [
       "{'a': 1, 'b': 4, 'c': 9, 'd': 16, 'e': 25}"
      ]
     },
     "execution_count": 13,
     "metadata": {},
     "output_type": "execute_result"
    }
   ],
   "source": [
    "dict(map(lambda item: adder(item, 10), d.items()))"
   ]
  },
  {
   "cell_type": "code",
   "execution_count": 161,
   "id": "addbc9c4-6c26-4fda-99a8-70b677eb9cf9",
   "metadata": {},
   "outputs": [
    {
     "data": {
      "text/plain": [
       "dict_items([('a', 1), ('b', 2), ('c', 3), ('d', 4), ('e', 5)])"
      ]
     },
     "execution_count": 161,
     "metadata": {},
     "output_type": "execute_result"
    }
   ],
   "source": [
    "d.items()"
   ]
  },
  {
   "cell_type": "code",
   "execution_count": 8,
   "id": "10845aa8-02fd-4d6c-b9fe-8c2c3804f6df",
   "metadata": {},
   "outputs": [],
   "source": [
    "l = list(range(1,101))\n",
    "c = list(filter(lambda a:a%2 == 0, l)) \n",
    "c "
   ]
  },
  {
   "cell_type": "code",
   "execution_count": null,
   "id": "d49d2c0a-c2c1-454c-bfb1-c8158b1f796d",
   "metadata": {},
   "outputs": [],
   "source": []
  }
 ],
 "metadata": {
  "kernelspec": {
   "display_name": "Python 3 (ipykernel)",
   "language": "python",
   "name": "python3"
  },
  "language_info": {
   "codemirror_mode": {
    "name": "ipython",
    "version": 3
   },
   "file_extension": ".py",
   "mimetype": "text/x-python",
   "name": "python",
   "nbconvert_exporter": "python",
   "pygments_lexer": "ipython3",
   "version": "3.9.13"
  }
 },
 "nbformat": 4,
 "nbformat_minor": 5
}
