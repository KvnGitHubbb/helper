{
 "cells": [
  {
   "cell_type": "code",
   "execution_count": 31,
   "id": "e654d1be-1c93-454e-ac7a-34ac3db6cb30",
   "metadata": {},
   "outputs": [],
   "source": [
    "import sys"
   ]
  },
  {
   "cell_type": "code",
   "execution_count": 8,
   "id": "6508d421-90a0-44b0-bf5c-45324c4c5fd8",
   "metadata": {},
   "outputs": [],
   "source": [
    "def infinite_sequence():\n",
    "    num = 0\n",
    "    while num<10:\n",
    "        yield num\n",
    "        num += 1\n"
   ]
  },
  {
   "cell_type": "code",
   "execution_count": 12,
   "id": "968b1b78-21a8-45af-b815-5de9d7706325",
   "metadata": {},
   "outputs": [],
   "source": [
    "gen = infinite_sequence()"
   ]
  },
  {
   "cell_type": "code",
   "execution_count": 14,
   "id": "be250339-32c6-4d20-89a0-a8bfe7de1b20",
   "metadata": {},
   "outputs": [
    {
     "data": {
      "text/plain": [
       "1"
      ]
     },
     "execution_count": 14,
     "metadata": {},
     "output_type": "execute_result"
    }
   ],
   "source": [
    "next(gen)"
   ]
  },
  {
   "cell_type": "code",
   "execution_count": 20,
   "id": "a4393435-06eb-4615-9289-a42518b9f6f2",
   "metadata": {},
   "outputs": [],
   "source": [
    "nums_squared_lc = [num**2 for num in range(5)]            # dit is een list comprehension, maakt alles in 1 keer\n",
    "nums_squared_gc = (num**2 for num in range(5))            # dit is een generator, maakt dingen 1 voor 1, minder memory\n"
   ]
  },
  {
   "cell_type": "code",
   "execution_count": 36,
   "id": "20414ce0-58ae-42da-85f5-de2f3e9e0c90",
   "metadata": {},
   "outputs": [
    {
     "name": "stdout",
     "output_type": "stream",
     "text": [
      "120\n",
      "112\n"
     ]
    }
   ],
   "source": [
    "print(sys.getsizeof(nums_squared_lc))\n",
    "print(sys.getsizeof(nums_squared_gc))"
   ]
  },
  {
   "cell_type": "code",
   "execution_count": 37,
   "id": "afaf029a-6d6c-40b0-b7f4-202e6cda27d7",
   "metadata": {},
   "outputs": [
    {
     "name": "stdout",
     "output_type": "stream",
     "text": [
      "a\n",
      "b\n",
      "c\n",
      "y\n"
     ]
    }
   ],
   "source": [
    "letters = [\"a\", \"b\", \"c\", \"y\"]\n",
    "it = iter(letters)\n",
    "while True:\n",
    "    try:\n",
    "        letter = next(it)\n",
    "    except StopIteration:\n",
    "         break\n",
    "    else:\n",
    "        print(letter)\n"
   ]
  },
  {
   "cell_type": "code",
   "execution_count": 18,
   "id": "cfc14973-2a83-4f9d-af7c-d58698262528",
   "metadata": {},
   "outputs": [
    {
     "name": "stdout",
     "output_type": "stream",
     "text": [
      "Received value: Hello 5 HELLO\n"
     ]
    }
   ],
   "source": [
    "# met .send() kan je dingen in de generator stoppen\n",
    "def generator_function():\n",
    "    while True:\n",
    "        received_value = yield\n",
    "        l = len(received_value)\n",
    "        u = received_value.upper()\n",
    "        print(f\"Received value: {received_value} {l} {u}\")\n",
    "        \n",
    "\n",
    "# Create a generator object\n",
    "generator = generator_function()\n",
    "\n",
    "# Start the generator\n",
    "next(generator)\n",
    "\n",
    "# Sending values into the generator\n",
    "generator.send(\"Hello\")"
   ]
  },
  {
   "cell_type": "code",
   "execution_count": 19,
   "id": "6126c6a2-ad67-4291-b1bf-45ec84e5ed40",
   "metadata": {},
   "outputs": [
    {
     "name": "stdout",
     "output_type": "stream",
     "text": [
      "Received value: uwu 3 UWU\n"
     ]
    }
   ],
   "source": [
    "generator.send(\"uwu\")"
   ]
  },
  {
   "cell_type": "code",
   "execution_count": 23,
   "id": "9f31cc1d-5ae6-4437-8938-62d40a1d8c56",
   "metadata": {},
   "outputs": [
    {
     "ename": "StopIteration",
     "evalue": "",
     "output_type": "error",
     "traceback": [
      "\u001b[1;31m---------------------------------------------------------------------------\u001b[0m",
      "\u001b[1;31mStopIteration\u001b[0m                             Traceback (most recent call last)",
      "\u001b[1;32m~\\AppData\\Local\\Temp\\ipykernel_14584\\2163531820.py\u001b[0m in \u001b[0;36m<module>\u001b[1;34m\u001b[0m\n\u001b[0;32m      4\u001b[0m         \u001b[1;31m#generator.throw(ValueError(\"HO! STOP\"))\u001b[0m\u001b[1;33m\u001b[0m\u001b[1;33m\u001b[0m\u001b[0m\n\u001b[0;32m      5\u001b[0m         \u001b[0mgenerator\u001b[0m\u001b[1;33m.\u001b[0m\u001b[0mclose\u001b[0m\u001b[1;33m(\u001b[0m\u001b[1;33m)\u001b[0m\u001b[1;33m\u001b[0m\u001b[1;33m\u001b[0m\u001b[0m\n\u001b[1;32m----> 6\u001b[1;33m     \u001b[0mgenerator\u001b[0m\u001b[1;33m.\u001b[0m\u001b[0msend\u001b[0m\u001b[1;33m(\u001b[0m\u001b[0mi\u001b[0m\u001b[1;33m)\u001b[0m\u001b[1;33m\u001b[0m\u001b[1;33m\u001b[0m\u001b[0m\n\u001b[0m",
      "\u001b[1;31mStopIteration\u001b[0m: "
     ]
    }
   ],
   "source": [
    "for i in [\"ja\", \"nee\", \"stop\", \"palindroom\"]:\n",
    "    \n",
    "    if i == \"stop\":\n",
    "        #generator.throw(ValueError(\"HO! STOP\"))\n",
    "        generator.close()\n",
    "    generator.send(i)"
   ]
  },
  {
   "cell_type": "code",
   "execution_count": null,
   "id": "cfc5695e-9ddf-4fd4-acee-c1bb14d3b05f",
   "metadata": {},
   "outputs": [],
   "source": []
  },
  {
   "cell_type": "code",
   "execution_count": 10,
   "id": "97fc114a-c6a5-43b8-b60f-c5530443aa01",
   "metadata": {},
   "outputs": [],
   "source": [
    "file_name = \"techcrunch.csv\"\n",
    "lines = (line for line in open(file_name))           #regels"
   ]
  },
  {
   "cell_type": "code",
   "execution_count": 11,
   "id": "0d04d29f-b967-4e69-bfce-cbfc105b3f1f",
   "metadata": {},
   "outputs": [],
   "source": [
    "list_line = (s.rstrip().split(\",\") for s in lines)   #elementen in een regel"
   ]
  },
  {
   "cell_type": "code",
   "execution_count": 12,
   "id": "812f2f3f-4188-46d5-b9fc-a5b846b83669",
   "metadata": {},
   "outputs": [],
   "source": [
    "cols = next(list_line)"
   ]
  },
  {
   "cell_type": "code",
   "execution_count": 13,
   "id": "40db7641-1b02-4a43-a991-7567f0d9780d",
   "metadata": {},
   "outputs": [],
   "source": [
    "company_dicts = (dict(zip(cols, data)) for data in list_line)"
   ]
  },
  {
   "cell_type": "code",
   "execution_count": 14,
   "id": "7ce4fe28-ba1f-438b-beaf-6f97454f44dd",
   "metadata": {},
   "outputs": [
    {
     "data": {
      "text/plain": [
       "<generator object <genexpr> at 0x00000147A0AA25F0>"
      ]
     },
     "execution_count": 14,
     "metadata": {},
     "output_type": "execute_result"
    }
   ],
   "source": [
    "company_dicts"
   ]
  },
  {
   "cell_type": "code",
   "execution_count": 15,
   "id": "19ed780c-e43a-41d3-a3fa-af15031ee4c3",
   "metadata": {},
   "outputs": [],
   "source": [
    "funding = (\n",
    "    int(company_dict[\"raisedAmt\"])\n",
    "    for company_dict in company_dicts\n",
    "    if company_dict[\"round\"] == \"a\"\n",
    ")"
   ]
  },
  {
   "cell_type": "code",
   "execution_count": 16,
   "id": "cc2e9daa-f6e2-4ce8-a649-a3e30b34610d",
   "metadata": {},
   "outputs": [],
   "source": [
    "total_series_a = sum(funding)"
   ]
  },
  {
   "cell_type": "code",
   "execution_count": 17,
   "id": "f2095d92-f662-45bb-a893-77a7cb388c05",
   "metadata": {},
   "outputs": [
    {
     "data": {
      "text/plain": [
       "4376015000"
      ]
     },
     "execution_count": 17,
     "metadata": {},
     "output_type": "execute_result"
    }
   ],
   "source": [
    "total_series_a"
   ]
  },
  {
   "cell_type": "code",
   "execution_count": 19,
   "id": "23434718-e642-461e-bdfa-39427c6a5a68",
   "metadata": {},
   "outputs": [
    {
     "data": {
      "text/plain": [
       "[0, 1, 2, 3, 4, 5, 6, 7, 8, 9]"
      ]
     },
     "execution_count": 19,
     "metadata": {},
     "output_type": "execute_result"
    }
   ],
   "source": [
    "gen = (i for i in range(10))\n",
    "genlist = [i for i in range(10)]\n",
    "genlist"
   ]
  },
  {
   "cell_type": "code",
   "execution_count": 22,
   "id": "a2249453-2365-40d5-955d-5867f516a950",
   "metadata": {},
   "outputs": [
    {
     "data": {
      "text/plain": [
       "1"
      ]
     },
     "execution_count": 22,
     "metadata": {},
     "output_type": "execute_result"
    }
   ],
   "source": [
    "next(gen)"
   ]
  },
  {
   "cell_type": "code",
   "execution_count": null,
   "id": "e4ffe2d2-ee6d-49b4-84c8-d1c5297744dc",
   "metadata": {},
   "outputs": [],
   "source": []
  }
 ],
 "metadata": {
  "kernelspec": {
   "display_name": "Python 3 (ipykernel)",
   "language": "python",
   "name": "python3"
  },
  "language_info": {
   "codemirror_mode": {
    "name": "ipython",
    "version": 3
   },
   "file_extension": ".py",
   "mimetype": "text/x-python",
   "name": "python",
   "nbconvert_exporter": "python",
   "pygments_lexer": "ipython3",
   "version": "3.9.13"
  }
 },
 "nbformat": 4,
 "nbformat_minor": 5
}
