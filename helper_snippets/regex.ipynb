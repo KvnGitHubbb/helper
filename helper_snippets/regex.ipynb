{
 "cells": [
  {
   "cell_type": "code",
   "execution_count": 1,
   "id": "31be7973-0d69-4a5e-aec1-598670c40b74",
   "metadata": {},
   "outputs": [],
   "source": [
    "# RegEx word gebruikt om patronen in strings te zoeken\n",
    "# het returnt vaak een Match object of None\n",
    "import re\n",
    "\n",
    "# []       is een range\n",
    "# [^]      is alles BEHALVE deze range\n",
    "# [][]     zijn MEERDERE ranges\n",
    "#[a-zA-Z]  alle letters, zowel groot als klein\n",
    "\n",
    "# \\       is een escape of special character\n",
    "# \\b      is de start of eind van een woord\n",
    "# \\B      is NIET de start of eind van een woord\n",
    "# \\d      is een digit (0-9)\n",
    "# \\D      is NIET een digit (0-9)\n",
    "# \\s      is een space\n",
    "# \\S      is NIET een space\n",
    "# \\w      is [a-z][A-Z][0-9]\n",
    "# \\W      is NIET [a-z][A-Z][0-9]\n",
    "\n",
    "# .       is 1 wat er tussen zit\n",
    "# .{x}    is x wat er tussen zit\n",
    "# *       is 0 of meer wat er tussen zit\n",
    "# +       is 1 of meer wat er tussen zit\n",
    "# ?       is 0 of 1 wat er tussen zit\n",
    "\n",
    "# ^       is de start\n",
    "# $       is de eind\n",
    "\n",
    "# |       is een OR statement"
   ]
  },
  {
   "cell_type": "code",
   "execution_count": 3,
   "id": "cec40599-bfb8-448d-bf16-0d9d91203629",
   "metadata": {},
   "outputs": [],
   "source": [
    "txt = \"The rain in Spain\""
   ]
  },
  {
   "cell_type": "markdown",
   "id": "3e61c542-c4a1-488d-9b5a-c0f83fee0256",
   "metadata": {},
   "source": [
    "<br>"
   ]
  },
  {
   "cell_type": "code",
   "execution_count": 11,
   "id": "0f4dfccc-eb5c-43cd-bd41-9fa645afa2cb",
   "metadata": {},
   "outputs": [
    {
     "name": "stdout",
     "output_type": "stream",
     "text": [
      "['h', 'e', 'a', 'i', 'i', 'a', 'i']\n"
     ]
    }
   ],
   "source": [
    "x = re.findall(\"[a-m]\", txt)\n",
    "print(x)"
   ]
  },
  {
   "cell_type": "code",
   "execution_count": 15,
   "id": "7ec6df29-b785-4553-b99a-5666fb219c59",
   "metadata": {},
   "outputs": [
    {
     "name": "stdout",
     "output_type": "stream",
     "text": [
      "['rain']\n"
     ]
    }
   ],
   "source": [
    "x = re.findall(\"r..n\", txt)\n",
    "print(x)"
   ]
  },
  {
   "cell_type": "code",
   "execution_count": 30,
   "id": "c51cff0f-f925-40b5-bfb6-ec26437032b3",
   "metadata": {},
   "outputs": [
    {
     "name": "stdout",
     "output_type": "stream",
     "text": [
      "1\n"
     ]
    }
   ],
   "source": [
    "x = re.search(\"^The\", txt)\n",
    "if x:\n",
    "    print(1)\n",
    "else:\n",
    "    print(0)"
   ]
  },
  {
   "cell_type": "code",
   "execution_count": 32,
   "id": "d1903f91-fc99-49df-a6af-338c553835dc",
   "metadata": {},
   "outputs": [
    {
     "name": "stdout",
     "output_type": "stream",
     "text": [
      "1\n"
     ]
    }
   ],
   "source": [
    "x = re.search(\"Spain$\", txt)\n",
    "if x:\n",
    "    print(1)\n",
    "else:\n",
    "    print(0)"
   ]
  },
  {
   "cell_type": "code",
   "execution_count": 36,
   "id": "bba2c427-8c13-42da-bff1-aacd5e5baad2",
   "metadata": {},
   "outputs": [
    {
     "name": "stdout",
     "output_type": "stream",
     "text": [
      "['he']\n"
     ]
    }
   ],
   "source": [
    "x = re.findall(\"h.*e\", txt)\n",
    "print(x)"
   ]
  },
  {
   "cell_type": "code",
   "execution_count": 105,
   "id": "ea242e96-b2bd-4007-a4ba-69e65b26bbba",
   "metadata": {},
   "outputs": [
    {
     "name": "stdout",
     "output_type": "stream",
     "text": [
      "['he', 'he', 'he']\n"
     ]
    }
   ],
   "source": [
    "x = re.findall(\"h.?e\", txt)\n",
    "print(x)"
   ]
  },
  {
   "cell_type": "code",
   "execution_count": 50,
   "id": "d256c028-50b5-4b8d-9957-ee1372775eb2",
   "metadata": {},
   "outputs": [
    {
     "name": "stdout",
     "output_type": "stream",
     "text": [
      "[]\n"
     ]
    }
   ],
   "source": [
    "x = re.findall(\"h.{3}e\", txt)\n",
    "print(x)"
   ]
  },
  {
   "cell_type": "code",
   "execution_count": 79,
   "id": "b484f86c-79ba-41d8-9650-1916cf4c0105",
   "metadata": {},
   "outputs": [
    {
     "name": "stdout",
     "output_type": "stream",
     "text": [
      "1\n"
     ]
    }
   ],
   "source": [
    "x = re.findall(\"^The|^the\", txt)\n",
    "if x:\n",
    "    print(1)\n",
    "else:\n",
    "    print(0)"
   ]
  },
  {
   "cell_type": "code",
   "execution_count": 80,
   "id": "f7fabc4c-6fdb-4549-a28d-caef77648e21",
   "metadata": {},
   "outputs": [
    {
     "name": "stdout",
     "output_type": "stream",
     "text": [
      "Match: i like apple and banana.\n",
      "Match: banana comes before apple.\n"
     ]
    }
   ],
   "source": [
    "strings = [\"i like apple and banana.\", \"banana comes before apple.\", \"i have an orange.\"]\n",
    "\n",
    "for string in strings:\n",
    "    if re.search('^(?=.*apple)(?=.*banana)', string):\n",
    "        print(f'Match: {string}')\n"
   ]
  },
  {
   "cell_type": "code",
   "execution_count": 88,
   "id": "d8b07ca8-1b7b-4cf1-9d66-ca2d4dc5aeef",
   "metadata": {},
   "outputs": [
    {
     "name": "stdout",
     "output_type": "stream",
     "text": [
      "['rain']\n"
     ]
    }
   ],
   "source": [
    "x = re.findall(r\"\\brain\\b\", txt)\n",
    "print(x) "
   ]
  },
  {
   "cell_type": "code",
   "execution_count": 109,
   "id": "8a3948e9-d998-4985-a1d7-4f5975db6ad1",
   "metadata": {},
   "outputs": [
    {
     "name": "stdout",
     "output_type": "stream",
     "text": [
      "It starts with A\n"
     ]
    }
   ],
   "source": [
    "\n",
    "test = \"Aloha\"\n",
    "\n",
    "if re.match(\"^A.*$\", test):\n",
    "    print(\"It starts with A\")\n",
    "else:\n",
    "    print(\"Nope!\")"
   ]
  },
  {
   "cell_type": "code",
   "execution_count": 113,
   "id": "b34751a3-78f3-4e0b-b048-e259c54c3530",
   "metadata": {},
   "outputs": [
    {
     "name": "stdout",
     "output_type": "stream",
     "text": [
      "['T', 'h', ' ', 'r', 'n', ' ', 'n', ' ', 'S', 'p', 'n']\n"
     ]
    }
   ],
   "source": [
    "x = re.findall(\"[^aeiouy]\", txt)\n",
    "print(x)"
   ]
  },
  {
   "cell_type": "code",
   "execution_count": 8,
   "id": "b7b6c3ef-d3ce-4c96-a308-37075e1a0b0c",
   "metadata": {},
   "outputs": [
    {
     "name": "stdout",
     "output_type": "stream",
     "text": [
      "['he', 'ain', 'ain']\n"
     ]
    }
   ],
   "source": [
    "x = re.findall(\"[dah][a-z]+\", txt)\n",
    "print(x)"
   ]
  },
  {
   "cell_type": "code",
   "execution_count": 31,
   "id": "0d340ebc-d875-4c36-b4fa-90667afca7bb",
   "metadata": {},
   "outputs": [],
   "source": [
    "\n",
    "txt = \"The big rain in Spain rain bigger\"\n",
    "x = re.search(\"\\s\", txt)"
   ]
  },
  {
   "cell_type": "code",
   "execution_count": 33,
   "id": "11500282-630f-4e74-9f34-354bac90ef5e",
   "metadata": {},
   "outputs": [
    {
     "name": "stdout",
     "output_type": "stream",
     "text": [
      "['The big ', ' in Spain ', ' bigger']\n"
     ]
    }
   ],
   "source": [
    "print(re.split(\"rain\", txt))"
   ]
  },
  {
   "cell_type": "code",
   "execution_count": 39,
   "id": "7c611c55-0396-4daf-8da8-7bfad348b018",
   "metadata": {},
   "outputs": [
    {
     "name": "stdout",
     "output_type": "stream",
     "text": [
      "The river in Spain is raining in Madrid, the river is so cool, so much river!\n"
     ]
    }
   ],
   "source": [
    "txt = \"The rain in Spain is raining in Madrid, the rain is so cool, so much rain!\"\n",
    "x = re.sub(r\"\\brain\\b\", \"river\", txt, count=3)\n",
    "print(x) "
   ]
  },
  {
   "cell_type": "code",
   "execution_count": 57,
   "id": "bf09bbc5-fd7f-45c7-bc21-db48f179047d",
   "metadata": {},
   "outputs": [
    {
     "name": "stdout",
     "output_type": "stream",
     "text": [
      "<re.Match object; span=(5, 7), match='ai'>\n"
     ]
    }
   ],
   "source": [
    "txt = \"The rain in Spain\"\n",
    "x = re.search(\"ai\", txt)\n",
    "print(x)"
   ]
  },
  {
   "cell_type": "code",
   "execution_count": 59,
   "id": "e431a582-53ea-4812-b671-21176c436911",
   "metadata": {},
   "outputs": [
    {
     "data": {
      "text/plain": [
       "(5, 7)"
      ]
     },
     "execution_count": 59,
     "metadata": {},
     "output_type": "execute_result"
    }
   ],
   "source": [
    "x.span()"
   ]
  },
  {
   "cell_type": "code",
   "execution_count": null,
   "id": "2584520b-14ec-466e-8e1c-c019ebbe4579",
   "metadata": {},
   "outputs": [],
   "source": []
  },
  {
   "cell_type": "code",
   "execution_count": 7,
   "id": "90dd2bb5-a986-42d4-9ce2-e1669b0942e2",
   "metadata": {},
   "outputs": [
    {
     "name": "stdout",
     "output_type": "stream",
     "text": [
      "carefully\n",
      "quickly\n",
      "932ly\n"
     ]
    }
   ],
   "source": [
    "text = \"He was carefully disguised but captured quickly 932ly by police.\"\n",
    "\n",
    "for i in re.findall(r\"\\w+ly\\b\", text):\n",
    "    print(i)"
   ]
  },
  {
   "cell_type": "code",
   "execution_count": 9,
   "id": "f82d1c20-5069-4c88-a2db-394baa2157c3",
   "metadata": {},
   "outputs": [
    {
     "data": {
      "text/plain": [
       "<callable_iterator at 0x289c5869e20>"
      ]
     },
     "execution_count": 9,
     "metadata": {},
     "output_type": "execute_result"
    }
   ],
   "source": [
    "re.finditer(r\"\\w+ly\\b\", text)"
   ]
  },
  {
   "cell_type": "code",
   "execution_count": 15,
   "id": "670105ed-d7d7-4a0b-8efd-9972073b51c4",
   "metadata": {},
   "outputs": [
    {
     "name": "stdout",
     "output_type": "stream",
     "text": [
      "001-112: your hello\n"
     ]
    }
   ],
   "source": [
    "a = 1\n",
    "b = 112\n",
    "c = \"hello\"\n",
    "\n",
    "print(\"%03d-%03d: your %s\" % (a,b,c))"
   ]
  },
  {
   "cell_type": "code",
   "execution_count": 23,
   "id": "23bbb8cf-aebf-4b41-bbc0-5addf81f5f34",
   "metadata": {},
   "outputs": [
    {
     "name": "stdout",
     "output_type": "stream",
     "text": [
      "yeah\\nyeah\n"
     ]
    }
   ],
   "source": [
    "print(r'yeah\\nyeah')"
   ]
  },
  {
   "cell_type": "code",
   "execution_count": 61,
   "id": "22a30eff-12f0-4f13-8613-31873e3a9600",
   "metadata": {},
   "outputs": [
    {
     "name": "stdout",
     "output_type": "stream",
     "text": [
      "True\n"
     ]
    }
   ],
   "source": [
    "x= re.match(r\"\\W(.)(e)\\1\\W\", \" geg \")    # eerst iets, dan e, dan weer dat iets!\n",
    "if x:\n",
    "    print(True)\n",
    "else:\n",
    "    print(False)"
   ]
  },
  {
   "cell_type": "code",
   "execution_count": null,
   "id": "83bbb449-cb22-4112-9070-23fcd42bd629",
   "metadata": {},
   "outputs": [],
   "source": []
  }
 ],
 "metadata": {
  "kernelspec": {
   "display_name": "Python 3 (ipykernel)",
   "language": "python",
   "name": "python3"
  },
  "language_info": {
   "codemirror_mode": {
    "name": "ipython",
    "version": 3
   },
   "file_extension": ".py",
   "mimetype": "text/x-python",
   "name": "python",
   "nbconvert_exporter": "python",
   "pygments_lexer": "ipython3",
   "version": "3.9.13"
  }
 },
 "nbformat": 4,
 "nbformat_minor": 5
}
