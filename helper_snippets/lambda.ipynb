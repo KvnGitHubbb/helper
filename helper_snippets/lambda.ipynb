{
 "cells": [
  {
   "cell_type": "code",
   "execution_count": 2,
   "id": "8b46f8f4-d0d9-48b2-adee-735ed7515c32",
   "metadata": {},
   "outputs": [
    {
     "data": {
      "text/plain": [
       "5"
      ]
     },
     "execution_count": 2,
     "metadata": {},
     "output_type": "execute_result"
    }
   ],
   "source": [
    "(lambda x,y=0: x+y)(x=2, y=3)"
   ]
  },
  {
   "cell_type": "code",
   "execution_count": 8,
   "id": "b67b6fa7-b390-4f8d-8cec-c68e5d540552",
   "metadata": {},
   "outputs": [],
   "source": [
    "add = lambda x: x+1"
   ]
  },
  {
   "cell_type": "code",
   "execution_count": 9,
   "id": "ddd054ea-94ee-42ba-8fb6-3bdaae61fc47",
   "metadata": {},
   "outputs": [
    {
     "data": {
      "text/plain": [
       "2"
      ]
     },
     "execution_count": 9,
     "metadata": {},
     "output_type": "execute_result"
    }
   ],
   "source": [
    "add(1)"
   ]
  },
  {
   "cell_type": "code",
   "execution_count": 12,
   "id": "199bd3b9-2f73-4525-ae36-0f6a825d5b00",
   "metadata": {},
   "outputs": [
    {
     "data": {
      "text/plain": [
       "<function __main__.<lambda>(x)>"
      ]
     },
     "execution_count": 12,
     "metadata": {},
     "output_type": "execute_result"
    }
   ],
   "source": [
    "lambda x: x+2"
   ]
  },
  {
   "cell_type": "code",
   "execution_count": 14,
   "id": "43e4c0ed-676a-4a34-a3e4-dd76221d63cd",
   "metadata": {},
   "outputs": [],
   "source": [
    "a= 1"
   ]
  },
  {
   "cell_type": "code",
   "execution_count": 16,
   "id": "0584b8ff-382d-4e4f-9445-a269684f587d",
   "metadata": {},
   "outputs": [],
   "source": [
    "def square(x):\n",
    "    return x**2"
   ]
  },
  {
   "cell_type": "code",
   "execution_count": 20,
   "id": "afe03a37-7f6b-4a6e-b173-2832c3f1b9d7",
   "metadata": {},
   "outputs": [
    {
     "data": {
      "text/plain": [
       "'4.5 squared gives 20.25'"
      ]
     },
     "execution_count": 20,
     "metadata": {},
     "output_type": "execute_result"
    }
   ],
   "source": [
    "(lambda x, func: f\"{x} squared gives {func(x)}\")(4.5, square)"
   ]
  },
  {
   "cell_type": "code",
   "execution_count": 23,
   "id": "540b5212-b0d5-4a23-a362-289bb8f65ceb",
   "metadata": {},
   "outputs": [
    {
     "data": {
      "text/plain": [
       "False"
      ]
     },
     "execution_count": 23,
     "metadata": {},
     "output_type": "execute_result"
    }
   ],
   "source": [
    "(lambda x: True if x==1 else False)(10)"
   ]
  },
  {
   "cell_type": "code",
   "execution_count": 28,
   "id": "bcfb56cd-c406-48a7-aba4-09d94f1ec7a9",
   "metadata": {},
   "outputs": [
    {
     "ename": "AssertionError",
     "evalue": "",
     "output_type": "error",
     "traceback": [
      "\u001b[1;31m---------------------------------------------------------------------------\u001b[0m",
      "\u001b[1;31mAssertionError\u001b[0m                            Traceback (most recent call last)",
      "\u001b[1;32m~\\AppData\\Local\\Temp\\ipykernel_42508\\735126623.py\u001b[0m in \u001b[0;36m<module>\u001b[1;34m\u001b[0m\n\u001b[0;32m      1\u001b[0m \u001b[0mx\u001b[0m \u001b[1;33m=\u001b[0m \u001b[1;36m2\u001b[0m\u001b[1;33m\u001b[0m\u001b[1;33m\u001b[0m\u001b[0m\n\u001b[1;32m----> 2\u001b[1;33m \u001b[1;32massert\u001b[0m \u001b[0mx\u001b[0m \u001b[1;33m==\u001b[0m\u001b[1;36m20\u001b[0m\u001b[1;33m\u001b[0m\u001b[1;33m\u001b[0m\u001b[0m\n\u001b[0m",
      "\u001b[1;31mAssertionError\u001b[0m: "
     ]
    }
   ],
   "source": [
    "x = 2\n",
    "assert x =="
   ]
  },
  {
   "cell_type": "code",
   "execution_count": 43,
   "id": "038d8c93-2db1-42f6-967c-6167064dfd80",
   "metadata": {},
   "outputs": [],
   "source": [
    "def deco(func):\n",
    "    \n",
    "    def wrapper(*args):\n",
    "        return \"Decorated!\" + func(*args)\n",
    "        \n",
    "    return wrapper"
   ]
  },
  {
   "cell_type": "code",
   "execution_count": 44,
   "id": "e23fe7bf-60e4-44c5-8ea7-bd0c4c90f6f6",
   "metadata": {},
   "outputs": [
    {
     "name": "stdout",
     "output_type": "stream",
     "text": [
      "Decorated!Hello Jan\n"
     ]
    }
   ],
   "source": [
    "print(deco((lambda s: \"Hello \" + s))(\"Jan\"))"
   ]
  },
  {
   "cell_type": "code",
   "execution_count": 47,
   "id": "baebda85-4322-48a4-97c2-5ff11172b374",
   "metadata": {},
   "outputs": [
    {
     "name": "stdout",
     "output_type": "stream",
     "text": [
      "Hellos\n"
     ]
    }
   ],
   "source": [
    "(lambda : print(\"Hellos\"))()"
   ]
  },
  {
   "cell_type": "code",
   "execution_count": 48,
   "id": "09eecea5-16bc-4636-84de-fa6aeb7c740a",
   "metadata": {},
   "outputs": [],
   "source": [
    "class Car:\n",
    "    \"\"\"Car with methods as lambda functions.\"\"\"\n",
    "    def __init__(self, brand, year):\n",
    "        self.brand = brand\n",
    "        self.year = year\n",
    "\n",
    "    brand = property(lambda self: getattr(self, '_brand'),\n",
    "                     lambda self, value: setattr(self, '_brand', value))\n",
    "\n",
    "    year = property(lambda self: getattr(self, '_year'),\n",
    "                    lambda self, value: setattr(self, '_year', value))\n",
    "\n",
    "    __str__ = lambda self: f'{self.brand} {self.year}'  # 1: error E731\n",
    "\n",
    "    honk = lambda self: print('Honk!')     # 2: error E731\n"
   ]
  },
  {
   "cell_type": "code",
   "execution_count": 49,
   "id": "ffd3bec2-4efc-4683-8700-ba7aef61a1e7",
   "metadata": {},
   "outputs": [],
   "source": [
    "car = Car(\"Audi\", 2019)"
   ]
  },
  {
   "cell_type": "code",
   "execution_count": 50,
   "id": "c1210bea-b11c-4dc5-8b9a-29f3655a6a76",
   "metadata": {},
   "outputs": [
    {
     "name": "stdout",
     "output_type": "stream",
     "text": [
      "Honk!\n"
     ]
    }
   ],
   "source": [
    "car.honk()"
   ]
  },
  {
   "cell_type": "code",
   "execution_count": 53,
   "id": "c1563553-8a82-4dd7-bb55-7ccc10cf7eda",
   "metadata": {},
   "outputs": [],
   "source": [
    "l = [\"cat\", \"dog\", \"seal\", \"goldfish\", \"puppy\", \"elephant\"]"
   ]
  },
  {
   "cell_type": "code",
   "execution_count": 55,
   "id": "4c8aef63-5575-4690-90fa-48b08c03352a",
   "metadata": {},
   "outputs": [
    {
     "data": {
      "text/plain": [
       "['cat', 'dog', 'seal', 'puppy']"
      ]
     },
     "execution_count": 55,
     "metadata": {},
     "output_type": "execute_result"
    }
   ],
   "source": [
    "f= list(filter(lambda x: len(x)<=5, l))\n",
    "f"
   ]
  },
  {
   "cell_type": "code",
   "execution_count": 62,
   "id": "2c9c269c-50f9-4e8d-86fb-eb39ffe33806",
   "metadata": {},
   "outputs": [
    {
     "data": {
      "text/plain": [
       "['cat', 'dog', 'seal', 'puppy']"
      ]
     },
     "execution_count": 62,
     "metadata": {},
     "output_type": "execute_result"
    }
   ],
   "source": [
    "f2 = [x for x in l if len(x)<=5]\n",
    "f2"
   ]
  },
  {
   "cell_type": "code",
   "execution_count": 63,
   "id": "b2c266ac-4509-4f30-aa15-e607ab43ddbf",
   "metadata": {},
   "outputs": [],
   "source": [
    "pairs = [(1,2,3), (4,5,6), (7,8,9)]"
   ]
  },
  {
   "cell_type": "code",
   "execution_count": 68,
   "id": "61596041-0f3e-4805-975f-38acf4d158d9",
   "metadata": {
    "collapsed": true,
    "jupyter": {
     "outputs_hidden": true
    },
    "tags": []
   },
   "outputs": [
    {
     "name": "stdout",
     "output_type": "stream",
     "text": [
      "1\n",
      "2\n",
      "3 Next!\n",
      "4\n",
      "5\n",
      "6 Next!\n",
      "7\n",
      "8\n",
      "9 Next!\n"
     ]
    }
   ],
   "source": [
    "for i,j,k in pairs:\n",
    "    print(i)\n",
    "    print(j)\n",
    "    print(str(k) + ' Next!')"
   ]
  },
  {
   "cell_type": "code",
   "execution_count": 69,
   "id": "7b8cdac6-3198-4139-a33c-e78c704216b8",
   "metadata": {},
   "outputs": [],
   "source": [
    "my_list = ['Real', ' Python']"
   ]
  },
  {
   "cell_type": "code",
   "execution_count": 86,
   "id": "77d0ebfd-07b5-4f46-bb4b-b0eb04342464",
   "metadata": {},
   "outputs": [
    {
     "data": {
      "text/plain": [
       "'Real Python'"
      ]
     },
     "execution_count": 86,
     "metadata": {},
     "output_type": "execute_result"
    }
   ],
   "source": [
    "''.join(my_list)"
   ]
  },
  {
   "cell_type": "code",
   "execution_count": 75,
   "id": "2c32b1cf-3b92-409f-b8e8-60123786c69c",
   "metadata": {},
   "outputs": [],
   "source": [
    "numbers = [1, 2, 3]\n"
   ]
  },
  {
   "cell_type": "code",
   "execution_count": 77,
   "id": "23b57d66-79b9-4294-b024-8e9328e3e877",
   "metadata": {},
   "outputs": [
    {
     "data": {
      "text/plain": [
       "[1, 2, 3]"
      ]
     },
     "execution_count": 77,
     "metadata": {},
     "output_type": "execute_result"
    }
   ],
   "source": [
    "list(map(lambda x:x, numbers))"
   ]
  },
  {
   "cell_type": "code",
   "execution_count": 82,
   "id": "1e583d02-5490-485c-a4ff-53e4fa1904ab",
   "metadata": {},
   "outputs": [],
   "source": [
    "from functools import reduce\n",
    "talk = [\"Hello \", \"there \", \"Captian \", \"Jack! \"]"
   ]
  },
  {
   "cell_type": "code",
   "execution_count": 83,
   "id": "c8241a9f-686f-42eb-8fc5-bd4899419aaf",
   "metadata": {},
   "outputs": [],
   "source": [
    "speach = reduce(lambda x,y : x+y, talk)"
   ]
  },
  {
   "cell_type": "code",
   "execution_count": 84,
   "id": "fd72d3d0-3641-474b-8afe-f3f7efe1fd67",
   "metadata": {},
   "outputs": [
    {
     "data": {
      "text/plain": [
       "'Hello there Captian Jack! '"
      ]
     },
     "execution_count": 84,
     "metadata": {},
     "output_type": "execute_result"
    }
   ],
   "source": [
    "speach"
   ]
  },
  {
   "cell_type": "code",
   "execution_count": 90,
   "id": "f87b68ee-2200-4681-b43c-f01797ac7bbf",
   "metadata": {},
   "outputs": [
    {
     "data": {
      "text/plain": [
       "'string'"
      ]
     },
     "execution_count": 90,
     "metadata": {},
     "output_type": "execute_result"
    }
   ],
   "source": [
    "dic = {1:100, 2:{'s': 'string', 'k':'key'}}\n",
    "dic[2]['s']"
   ]
  },
  {
   "cell_type": "code",
   "execution_count": null,
   "id": "581990a4-07c0-4284-9220-4aca612f87b2",
   "metadata": {},
   "outputs": [],
   "source": []
  }
 ],
 "metadata": {
  "kernelspec": {
   "display_name": "Python 3 (ipykernel)",
   "language": "python",
   "name": "python3"
  },
  "language_info": {
   "codemirror_mode": {
    "name": "ipython",
    "version": 3
   },
   "file_extension": ".py",
   "mimetype": "text/x-python",
   "name": "python",
   "nbconvert_exporter": "python",
   "pygments_lexer": "ipython3",
   "version": "3.9.13"
  }
 },
 "nbformat": 4,
 "nbformat_minor": 5
}
