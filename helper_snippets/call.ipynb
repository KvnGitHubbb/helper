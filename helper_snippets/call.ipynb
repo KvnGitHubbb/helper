{
 "cells": [
  {
   "cell_type": "code",
   "execution_count": 100,
   "id": "8cd8979b-e17c-4068-9760-6bb75cab2134",
   "metadata": {},
   "outputs": [],
   "source": [
    "import functools\n"
   ]
  },
  {
   "cell_type": "code",
   "execution_count": 151,
   "id": "9f2f0f9e-b401-4272-915b-94047d0949ff",
   "metadata": {},
   "outputs": [],
   "source": [
    "class Car:\n",
    "    \n",
    "    def __init__(self, brand):\n",
    "        self.brand = brand\n",
    "        \n",
    "    def __call__(self, destiny):\n",
    "        print(f\"broem, broem! {self.brand} is driving to: {destiny}\")\n",
    "        \n",
    "    def __str__(self):\n",
    "        return f\"This is a Car, its brand is {self.brand}\"\n",
    "        \n",
    "    def crash(self):\n",
    "        print(\"BOOM!\")\n",
    "    "
   ]
  },
  {
   "cell_type": "code",
   "execution_count": 152,
   "id": "dee6d4bd-65aa-413e-afe4-0b495bf37f5d",
   "metadata": {},
   "outputs": [],
   "source": [
    "x = Car('Audi')"
   ]
  },
  {
   "cell_type": "code",
   "execution_count": 153,
   "id": "28befa70-7be6-481a-8efe-992c402c4199",
   "metadata": {},
   "outputs": [
    {
     "name": "stdout",
     "output_type": "stream",
     "text": [
      "broem, broem! Audi is driving to: Paris\n"
     ]
    }
   ],
   "source": [
    "x('Paris')"
   ]
  },
  {
   "cell_type": "code",
   "execution_count": 154,
   "id": "8fb83bd2-49ed-45f4-b335-0c0877c835ad",
   "metadata": {},
   "outputs": [
    {
     "data": {
      "text/plain": [
       "'This is a Car, its brand is Audi'"
      ]
     },
     "execution_count": 154,
     "metadata": {},
     "output_type": "execute_result"
    }
   ],
   "source": [
    "str(x)"
   ]
  },
  {
   "cell_type": "code",
   "execution_count": null,
   "id": "b79d4359-dab4-4b90-8684-7e5bb28803dd",
   "metadata": {},
   "outputs": [],
   "source": [
    "# advanced calls, decorators"
   ]
  },
  {
   "cell_type": "code",
   "execution_count": 160,
   "id": "ba8febae-9fcb-478a-83c8-056275a75b3c",
   "metadata": {},
   "outputs": [],
   "source": [
    "import time\n",
    "\n",
    "class ExecutionTimer:\n",
    "    def __init__(self, func):\n",
    "        self.func = func\n",
    "\n",
    "    def __call__(self, *args, **kwargs):\n",
    "        start = time.perf_counter()\n",
    "        result = self.func(*args, **kwargs)\n",
    "        end = time.perf_counter()\n",
    "        print(f\"{self.func.__name__}() took {(end - start) * 1000:.4f} ms\")\n",
    "        return result\n",
    "    \n",
    "class AnotherDeco:\n",
    "    def __init__(self, func):\n",
    "        self.func = func\n",
    "    \n",
    "    def __call__(self):\n",
    "        print(\"Hello There, im a deco\")\n",
    "        return self.func()"
   ]
  },
  {
   "cell_type": "code",
   "execution_count": 162,
   "id": "6d500575-ddf1-469d-bc29-03e008d58d75",
   "metadata": {},
   "outputs": [
    {
     "name": "stdout",
     "output_type": "stream",
     "text": [
      "Hello There, im a deco\n",
      "1\n"
     ]
    }
   ],
   "source": [
    "@AnotherDeco \n",
    "#@ExecutionTimer\n",
    "def zzz():\n",
    "    time.sleep(1)\n",
    "    print(1)\n",
    "    \n",
    "zzz()"
   ]
  },
  {
   "cell_type": "markdown",
   "id": "0c3fa51f-fa7c-4e25-8e71-26376e96bdce",
   "metadata": {},
   "source": [
    "<br>"
   ]
  },
  {
   "cell_type": "code",
   "execution_count": 3,
   "id": "2caeaa74-100e-460b-911c-139ae0e6eb26",
   "metadata": {},
   "outputs": [],
   "source": [
    "def add_one(number):\n",
    "    return number + 1"
   ]
  },
  {
   "cell_type": "code",
   "execution_count": 4,
   "id": "6e9fb462-98cd-4940-8336-a4ba2e2a7257",
   "metadata": {},
   "outputs": [
    {
     "data": {
      "text/plain": [
       "20"
      ]
     },
     "execution_count": 4,
     "metadata": {},
     "output_type": "execute_result"
    }
   ],
   "source": [
    "add_one(19)"
   ]
  },
  {
   "cell_type": "code",
   "execution_count": 12,
   "id": "f294788b-6ebe-4cc4-9fdc-f47a31812032",
   "metadata": {},
   "outputs": [],
   "source": [
    "# een functie kan ook een argument zijn!\n",
    "def say_hello(name):\n",
    "    return f\"Hello {name}\"\n",
    "\n",
    "def be_awesome(name):\n",
    "    return f\"Yo {name}, together we are the awesomest!\"\n",
    "\n",
    "def greeter(greeter_func, arg):\n",
    "    return greeter_func(arg)"
   ]
  },
  {
   "cell_type": "code",
   "execution_count": 13,
   "id": "02419259-9403-4870-82ec-901e811dd507",
   "metadata": {},
   "outputs": [
    {
     "data": {
      "text/plain": [
       "'Yo kelly, together we are the awesomest!'"
      ]
     },
     "execution_count": 13,
     "metadata": {},
     "output_type": "execute_result"
    }
   ],
   "source": [
    "greeter(be_awesome, \"kelly\")"
   ]
  },
  {
   "cell_type": "code",
   "execution_count": 20,
   "id": "6292d99b-ca89-47c9-85ac-6663f5bbb06d",
   "metadata": {},
   "outputs": [],
   "source": [
    "def outer_function(arg):\n",
    "    #print(\"layer 1\")\n",
    "    \n",
    "    def inner_function(x):\n",
    "        print(f\"layer 2 {x}\")\n",
    "    \n",
    "    return inner_function(arg)"
   ]
  },
  {
   "cell_type": "code",
   "execution_count": 21,
   "id": "c87e271d-05fb-47e5-bd5b-e08ed0ed4de6",
   "metadata": {},
   "outputs": [
    {
     "name": "stdout",
     "output_type": "stream",
     "text": [
      "layer 2 uwu\n"
     ]
    }
   ],
   "source": [
    "outer_function(\"uwu\")"
   ]
  },
  {
   "cell_type": "code",
   "execution_count": null,
   "id": "88e2de0d-2ef4-480f-a0e4-2f40ce57c0c4",
   "metadata": {},
   "outputs": [],
   "source": []
  },
  {
   "cell_type": "code",
   "execution_count": 101,
   "id": "2cfa7768-a6a2-4613-a157-77f2a8c4230d",
   "metadata": {},
   "outputs": [],
   "source": [
    "# example of decorator\n",
    "def parrot(func):\n",
    "    \n",
    "    @functools.wraps(func)\n",
    "    def parrot_wrapper(*args, **kwargs):\n",
    "        func(*args, **kwargs)\n",
    "        func(*args, **kwargs)\n",
    "        \n",
    "    return parrot_wrapper"
   ]
  },
  {
   "cell_type": "code",
   "execution_count": 102,
   "id": "c12cf771-6100-407f-9ca8-314d6eeaaf14",
   "metadata": {},
   "outputs": [],
   "source": [
    "@parrot\n",
    "def say_whee(name=''):\n",
    "    \n",
    "    if name:\n",
    "        print(\"Whee! \" + name)\n",
    "    else:\n",
    "        print(\"Whee!\")"
   ]
  },
  {
   "cell_type": "code",
   "execution_count": 103,
   "id": "b483a5ce-4323-46b9-ac81-9896a8b896be",
   "metadata": {},
   "outputs": [
    {
     "name": "stdout",
     "output_type": "stream",
     "text": [
      "Whee! name\n",
      "Whee! name\n"
     ]
    }
   ],
   "source": [
    "a = say_whee(\"name\")"
   ]
  },
  {
   "cell_type": "code",
   "execution_count": 104,
   "id": "d4d874a8-4e04-467b-b929-7c624f0bd797",
   "metadata": {},
   "outputs": [
    {
     "data": {
      "text/plain": [
       "'say_whee'"
      ]
     },
     "execution_count": 104,
     "metadata": {},
     "output_type": "execute_result"
    }
   ],
   "source": [
    "say_whee.__name__"
   ]
  },
  {
   "cell_type": "code",
   "execution_count": null,
   "id": "031193ab-f4af-4e1d-b319-e98abe439b85",
   "metadata": {},
   "outputs": [],
   "source": []
  }
 ],
 "metadata": {
  "kernelspec": {
   "display_name": "Python 3 (ipykernel)",
   "language": "python",
   "name": "python3"
  },
  "language_info": {
   "codemirror_mode": {
    "name": "ipython",
    "version": 3
   },
   "file_extension": ".py",
   "mimetype": "text/x-python",
   "name": "python",
   "nbconvert_exporter": "python",
   "pygments_lexer": "ipython3",
   "version": "3.9.13"
  }
 },
 "nbformat": 4,
 "nbformat_minor": 5
}
