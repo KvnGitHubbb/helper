{
 "cells": [
  {
   "cell_type": "code",
   "execution_count": 104,
   "id": "012c56ee-0701-47d5-98d0-522e25b0b75f",
   "metadata": {},
   "outputs": [],
   "source": [
    "class ThiefAlarm(Exception):\n",
    "    pass"
   ]
  },
  {
   "cell_type": "code",
   "execution_count": 69,
   "id": "32fd114b-3faf-4a1c-8c01-c6ac23bad636",
   "metadata": {},
   "outputs": [],
   "source": [
    "class Car:\n",
    "    \"\"\"Lets create some fancy cars\"\"\"\n",
    "    \n",
    "    def __init__(self, brand, year, price):\n",
    "        if type(brand) == str and type(year) == int:\n",
    "            self._brand = brand\n",
    "            self._year = year\n",
    "            self._price = price\n",
    "        else:\n",
    "            raise Exception(\"Give a string as input\")\n",
    "        \n",
    "    # de property moet in de getter method!\n",
    "    # de property brand, werkt met de hidden _brand!\n",
    "    @property\n",
    "    def brand(self):\n",
    "        \"\"\"the brand property\"\"\"\n",
    "        return self._brand\n",
    "    \n",
    "    @brand.setter\n",
    "    def brand(self, value):\n",
    "        if type(value) == str:\n",
    "            self._brand = value\n",
    "        else:\n",
    "            raise Exception(\"Give a string as input\")\n",
    "        \n",
    "    @brand.deleter\n",
    "    def brand(self):\n",
    "        print(\"Bruh, I did nothing. This is a immutable one\")\n",
    "        \n",
    "        \n",
    "    @property\n",
    "    def honk(self):\n",
    "        return f\"Tuut! Tuuuuut! {self._brand} is coming\"\n",
    "    \n",
    "    @honk.setter\n",
    "    def honk(self, other_brand):\n",
    "        print(f\"Hey! That is not a {self._brand}, its a {other_brand}!\")\n",
    "        self._brand = other_brand\n",
    "        \n",
    "    @property\n",
    "    def steal_keys(self):\n",
    "        raise ThiefAlarm(\"Bruh, dont try to steal the keys, buy your own car!\")\n",
    "        \n",
    "    @property\n",
    "    def info(self):\n",
    "        return f\"This {self._brand} car is made in {self._year}!. Its price is \\N{euro sign} {self._price:.2f}\""
   ]
  },
  {
   "cell_type": "code",
   "execution_count": 70,
   "id": "99578230-aceb-44a3-9a82-e604cc024402",
   "metadata": {},
   "outputs": [],
   "source": [
    "# de car heeft _brand, maar we laten brand zien\n",
    "car = Car(\"Audi\",1988, 12000.9323)"
   ]
  },
  {
   "cell_type": "code",
   "execution_count": 71,
   "id": "3c9121ae-861b-4cd2-ac5e-a2eba49c1606",
   "metadata": {},
   "outputs": [
    {
     "data": {
      "text/plain": [
       "'This Audi car is made in 1988!. Its price is € 12000.93'"
      ]
     },
     "execution_count": 71,
     "metadata": {},
     "output_type": "execute_result"
    }
   ],
   "source": [
    "car.info"
   ]
  },
  {
   "cell_type": "code",
   "execution_count": 11,
   "id": "28a39c09-c335-4840-8486-ea3e63397fe7",
   "metadata": {},
   "outputs": [
    {
     "ename": "Exception",
     "evalue": "Give a string as input",
     "output_type": "error",
     "traceback": [
      "\u001b[1;31m---------------------------------------------------------------------------\u001b[0m",
      "\u001b[1;31mException\u001b[0m                                 Traceback (most recent call last)",
      "\u001b[1;32m~\\AppData\\Local\\Temp\\ipykernel_17832\\521398552.py\u001b[0m in \u001b[0;36m<module>\u001b[1;34m\u001b[0m\n\u001b[1;32m----> 1\u001b[1;33m \u001b[0mcar\u001b[0m\u001b[1;33m.\u001b[0m\u001b[0mbrand\u001b[0m \u001b[1;33m=\u001b[0m \u001b[1;36m1\u001b[0m\u001b[1;33m\u001b[0m\u001b[1;33m\u001b[0m\u001b[0m\n\u001b[0m",
      "\u001b[1;32m~\\AppData\\Local\\Temp\\ipykernel_17832\\1526695442.py\u001b[0m in \u001b[0;36mbrand\u001b[1;34m(self, value)\u001b[0m\n\u001b[0;32m     16\u001b[0m             \u001b[0mself\u001b[0m\u001b[1;33m.\u001b[0m\u001b[0m_brand\u001b[0m \u001b[1;33m=\u001b[0m \u001b[0mvalue\u001b[0m\u001b[1;33m\u001b[0m\u001b[1;33m\u001b[0m\u001b[0m\n\u001b[0;32m     17\u001b[0m         \u001b[1;32melse\u001b[0m\u001b[1;33m:\u001b[0m\u001b[1;33m\u001b[0m\u001b[1;33m\u001b[0m\u001b[0m\n\u001b[1;32m---> 18\u001b[1;33m             \u001b[1;32mraise\u001b[0m \u001b[0mException\u001b[0m\u001b[1;33m(\u001b[0m\u001b[1;34m\"Give a string as input\"\u001b[0m\u001b[1;33m)\u001b[0m\u001b[1;33m\u001b[0m\u001b[1;33m\u001b[0m\u001b[0m\n\u001b[0m\u001b[0;32m     19\u001b[0m \u001b[1;33m\u001b[0m\u001b[0m\n\u001b[0;32m     20\u001b[0m     \u001b[1;33m@\u001b[0m\u001b[0mbrand\u001b[0m\u001b[1;33m.\u001b[0m\u001b[0mdeleter\u001b[0m\u001b[1;33m\u001b[0m\u001b[1;33m\u001b[0m\u001b[0m\n",
      "\u001b[1;31mException\u001b[0m: Give a string as input"
     ]
    }
   ],
   "source": [
    "car.brand = 1"
   ]
  },
  {
   "cell_type": "code",
   "execution_count": 10,
   "id": "cae0524c-0df8-421e-8217-fa203d0400e6",
   "metadata": {},
   "outputs": [
    {
     "data": {
      "text/plain": [
       "'Opel'"
      ]
     },
     "execution_count": 10,
     "metadata": {},
     "output_type": "execute_result"
    }
   ],
   "source": [
    "car.brand"
   ]
  },
  {
   "cell_type": "code",
   "execution_count": 121,
   "id": "1dc14730-fb32-417b-9663-032778979b55",
   "metadata": {},
   "outputs": [
    {
     "name": "stdout",
     "output_type": "stream",
     "text": [
      "Bruh, I did nothing. This is a immutable one\n"
     ]
    }
   ],
   "source": [
    "del car.brand"
   ]
  },
  {
   "cell_type": "code",
   "execution_count": 122,
   "id": "03c2c61e-28e2-4b38-b36d-f20a107021c9",
   "metadata": {},
   "outputs": [
    {
     "data": {
      "text/plain": [
       "'Tuut! Tuuuuut! Opel is coming'"
      ]
     },
     "execution_count": 122,
     "metadata": {},
     "output_type": "execute_result"
    }
   ],
   "source": [
    "car.honk"
   ]
  },
  {
   "cell_type": "code",
   "execution_count": 123,
   "id": "a49b0479-319f-4173-8d3e-332d2a8820c8",
   "metadata": {},
   "outputs": [
    {
     "name": "stdout",
     "output_type": "stream",
     "text": [
      "Hey! That is not a Opel, its a Nissan!\n"
     ]
    }
   ],
   "source": [
    "car.honk = \"Nissan\""
   ]
  },
  {
   "cell_type": "code",
   "execution_count": 124,
   "id": "12fcd510-2fe1-4f2d-8618-4fb341df2f08",
   "metadata": {},
   "outputs": [
    {
     "data": {
      "text/plain": [
       "'Nissan'"
      ]
     },
     "execution_count": 124,
     "metadata": {},
     "output_type": "execute_result"
    }
   ],
   "source": [
    "car.brand"
   ]
  },
  {
   "cell_type": "code",
   "execution_count": 125,
   "id": "fc23929b-8b16-4e58-85d7-3001355f6c0f",
   "metadata": {},
   "outputs": [
    {
     "data": {
      "text/plain": [
       "'Tuut! Tuuuuut! Nissan is coming'"
      ]
     },
     "execution_count": 125,
     "metadata": {},
     "output_type": "execute_result"
    }
   ],
   "source": [
    "car.honk"
   ]
  },
  {
   "cell_type": "code",
   "execution_count": 126,
   "id": "77c4615c-1705-4038-8afa-8db338e65849",
   "metadata": {},
   "outputs": [
    {
     "ename": "ThiefAlarm",
     "evalue": "Bruh, dont try to steal the keys, buy your own car!",
     "output_type": "error",
     "traceback": [
      "\u001b[1;31m---------------------------------------------------------------------------\u001b[0m",
      "\u001b[1;31mThiefAlarm\u001b[0m                                Traceback (most recent call last)",
      "\u001b[1;32m~\\AppData\\Local\\Temp\\ipykernel_15260\\3689509620.py\u001b[0m in \u001b[0;36m<module>\u001b[1;34m\u001b[0m\n\u001b[1;32m----> 1\u001b[1;33m \u001b[0mcar\u001b[0m\u001b[1;33m.\u001b[0m\u001b[0msteal_keys\u001b[0m\u001b[1;33m\u001b[0m\u001b[1;33m\u001b[0m\u001b[0m\n\u001b[0m",
      "\u001b[1;32m~\\AppData\\Local\\Temp\\ipykernel_15260\\749520605.py\u001b[0m in \u001b[0;36msteal_keys\u001b[1;34m(self)\u001b[0m\n\u001b[0;32m     31\u001b[0m     \u001b[1;33m@\u001b[0m\u001b[0mproperty\u001b[0m\u001b[1;33m\u001b[0m\u001b[1;33m\u001b[0m\u001b[0m\n\u001b[0;32m     32\u001b[0m     \u001b[1;32mdef\u001b[0m \u001b[0msteal_keys\u001b[0m\u001b[1;33m(\u001b[0m\u001b[0mself\u001b[0m\u001b[1;33m)\u001b[0m\u001b[1;33m:\u001b[0m\u001b[1;33m\u001b[0m\u001b[1;33m\u001b[0m\u001b[0m\n\u001b[1;32m---> 33\u001b[1;33m         \u001b[1;32mraise\u001b[0m \u001b[0mThiefAlarm\u001b[0m\u001b[1;33m(\u001b[0m\u001b[1;34m\"Bruh, dont try to steal the keys, buy your own car!\"\u001b[0m\u001b[1;33m)\u001b[0m\u001b[1;33m\u001b[0m\u001b[1;33m\u001b[0m\u001b[0m\n\u001b[0m",
      "\u001b[1;31mThiefAlarm\u001b[0m: Bruh, dont try to steal the keys, buy your own car!"
     ]
    }
   ],
   "source": [
    "car.steal_keys"
   ]
  },
  {
   "cell_type": "code",
   "execution_count": null,
   "id": "9822ebed-7b89-41d1-8ab0-06ecce3372b2",
   "metadata": {},
   "outputs": [],
   "source": [
    "#examples of the use of property"
   ]
  },
  {
   "cell_type": "code",
   "execution_count": null,
   "id": "60128346-b33f-407a-9492-992e38f7d843",
   "metadata": {},
   "outputs": [],
   "source": []
  }
 ],
 "metadata": {
  "kernelspec": {
   "display_name": "Python 3 (ipykernel)",
   "language": "python",
   "name": "python3"
  },
  "language_info": {
   "codemirror_mode": {
    "name": "ipython",
    "version": 3
   },
   "file_extension": ".py",
   "mimetype": "text/x-python",
   "name": "python",
   "nbconvert_exporter": "python",
   "pygments_lexer": "ipython3",
   "version": "3.9.13"
  }
 },
 "nbformat": 4,
 "nbformat_minor": 5
}
