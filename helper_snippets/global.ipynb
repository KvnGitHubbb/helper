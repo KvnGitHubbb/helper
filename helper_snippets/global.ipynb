{
 "cells": [
  {
   "cell_type": "code",
   "execution_count": 15,
   "id": "2f2a0cfb-3260-4b70-9a86-3989a64f9c97",
   "metadata": {},
   "outputs": [],
   "source": [
    "# in een functie, als je naar boven wilt kijken"
   ]
  },
  {
   "cell_type": "code",
   "execution_count": 7,
   "id": "458dc93d-7499-4ca4-86b2-3f7dedd05edc",
   "metadata": {},
   "outputs": [
    {
     "name": "stdout",
     "output_type": "stream",
     "text": [
      "48\n"
     ]
    }
   ],
   "source": [
    "number = 47\n",
    "def add():\n",
    "    global number\n",
    "    #number = 1 \n",
    "    number = number + 1\n",
    "    print(number)\n",
    "    \n",
    "add()"
   ]
  },
  {
   "cell_type": "code",
   "execution_count": 8,
   "id": "0e95f0a9-da87-4d79-abdc-ffdf06ff8b13",
   "metadata": {},
   "outputs": [
    {
     "name": "stdout",
     "output_type": "stream",
     "text": [
      "47\n"
     ]
    }
   ],
   "source": [
    "number = 47\n",
    "def add():\n",
    "    global number\n",
    "    #number = 1 \n",
    "    #number = number + 1\n",
    "    print(globals()[\"number\"])        #werkt als een soort van dictionary\n",
    "    \n",
    "add()"
   ]
  },
  {
   "cell_type": "code",
   "execution_count": 9,
   "id": "0c9a9abc-b899-40a8-942c-5f8c526b9741",
   "metadata": {},
   "outputs": [],
   "source": [
    "number = 47\n",
    "\n",
    "def around():\n",
    "    container = number\n",
    "    container = container + 1\n",
    "    print(container)"
   ]
  },
  {
   "cell_type": "code",
   "execution_count": 10,
   "id": "024ec194-a122-4493-b324-bc15309006a4",
   "metadata": {},
   "outputs": [
    {
     "name": "stdout",
     "output_type": "stream",
     "text": [
      "48\n"
     ]
    }
   ],
   "source": [
    "around()"
   ]
  },
  {
   "cell_type": "code",
   "execution_count": 20,
   "id": "968a5076-6b10-4a79-87b1-887e67a474ea",
   "metadata": {},
   "outputs": [],
   "source": [
    "def make_a_global():\n",
    "    global something\n",
    "    something = \"her\""
   ]
  },
  {
   "cell_type": "code",
   "execution_count": 21,
   "id": "67750208-3010-4448-a444-b625eb9769ba",
   "metadata": {},
   "outputs": [],
   "source": [
    "make_a_global()"
   ]
  },
  {
   "cell_type": "code",
   "execution_count": 22,
   "id": "0a57bc2c-e6e6-4460-b02a-a6377eb9e583",
   "metadata": {},
   "outputs": [
    {
     "data": {
      "text/plain": [
       "'her'"
      ]
     },
     "execution_count": 22,
     "metadata": {},
     "output_type": "execute_result"
    }
   ],
   "source": [
    "something"
   ]
  },
  {
   "cell_type": "code",
   "execution_count": 28,
   "id": "bc5c4c58-9071-4f44-a72a-92778d268d1c",
   "metadata": {},
   "outputs": [],
   "source": [
    "i = 10\n",
    "\n",
    "def func():\n",
    "    i = 2\n",
    "    print(i)"
   ]
  },
  {
   "cell_type": "code",
   "execution_count": 29,
   "id": "0b07380a-3913-43a1-9b27-9bb62e1c53f9",
   "metadata": {},
   "outputs": [
    {
     "name": "stdout",
     "output_type": "stream",
     "text": [
      "2\n"
     ]
    }
   ],
   "source": [
    "func()"
   ]
  },
  {
   "cell_type": "code",
   "execution_count": 30,
   "id": "6dce940a-1693-4ea0-b171-b6414ec68889",
   "metadata": {},
   "outputs": [
    {
     "data": {
      "text/plain": [
       "10"
      ]
     },
     "execution_count": 30,
     "metadata": {},
     "output_type": "execute_result"
    }
   ],
   "source": [
    "i"
   ]
  },
  {
   "cell_type": "code",
   "execution_count": 31,
   "id": "2dc055a2-9e9c-45d6-a4e2-aa9dbe28a2f2",
   "metadata": {},
   "outputs": [],
   "source": [
    "CONSTANT = 3"
   ]
  },
  {
   "cell_type": "code",
   "execution_count": 33,
   "id": "a92ec064-e4fc-4a3f-8b3c-9b68dc42e20b",
   "metadata": {},
   "outputs": [],
   "source": [
    "CONSTANT =5"
   ]
  },
  {
   "cell_type": "code",
   "execution_count": 34,
   "id": "54fe23ce-986f-45e7-9d56-648b8d0053c5",
   "metadata": {},
   "outputs": [
    {
     "data": {
      "text/plain": [
       "5"
      ]
     },
     "execution_count": 34,
     "metadata": {},
     "output_type": "execute_result"
    }
   ],
   "source": [
    "CONSTANT"
   ]
  },
  {
   "cell_type": "code",
   "execution_count": 45,
   "id": "6b6a61c1-ec50-4a71-9e81-d9bdd0f92686",
   "metadata": {},
   "outputs": [],
   "source": [
    "def foo(v=''):\n",
    "    if v:\n",
    "        return v\n",
    "    else:\n",
    "        return None"
   ]
  },
  {
   "cell_type": "code",
   "execution_count": 46,
   "id": "3028c224-734c-4587-9e3f-30bba1f83343",
   "metadata": {},
   "outputs": [
    {
     "data": {
      "text/plain": [
       "1"
      ]
     },
     "execution_count": 46,
     "metadata": {},
     "output_type": "execute_result"
    }
   ],
   "source": [
    "foo(1)"
   ]
  },
  {
   "cell_type": "code",
   "execution_count": 47,
   "id": "0c0a6c1d-cab5-4ab7-9f47-53e5e8df1f2c",
   "metadata": {},
   "outputs": [],
   "source": [
    "foo()"
   ]
  },
  {
   "cell_type": "code",
   "execution_count": 48,
   "id": "de6d9bfc-06a2-47db-ad57-e906e9def8c9",
   "metadata": {},
   "outputs": [],
   "source": [
    "a, b, c = 1, 2, 3"
   ]
  },
  {
   "cell_type": "code",
   "execution_count": 49,
   "id": "21e2067c-a695-4702-8b4a-719a4e1b0ecd",
   "metadata": {},
   "outputs": [
    {
     "data": {
      "text/plain": [
       "(1, 2, 3)"
      ]
     },
     "execution_count": 49,
     "metadata": {},
     "output_type": "execute_result"
    }
   ],
   "source": [
    "(a,b,c)"
   ]
  },
  {
   "cell_type": "code",
   "execution_count": null,
   "id": "a8576040-7a18-4ca2-a5db-2af08fdf83c5",
   "metadata": {},
   "outputs": [],
   "source": [
    "#lambda functions"
   ]
  },
  {
   "cell_type": "code",
   "execution_count": 53,
   "id": "4ff34fb4-ef14-4ec0-88ce-7da1d9a8cb10",
   "metadata": {},
   "outputs": [],
   "source": [
    "add = lambda x,y,z: f\"hello {x} and also hellos to {y} and {z}\""
   ]
  },
  {
   "cell_type": "code",
   "execution_count": 54,
   "id": "0180c32b-acf2-4128-aceb-2da5af72623c",
   "metadata": {},
   "outputs": [
    {
     "data": {
      "text/plain": [
       "'hello 1 and also hellos to 2 and 3'"
      ]
     },
     "execution_count": 54,
     "metadata": {},
     "output_type": "execute_result"
    }
   ],
   "source": [
    "add(1,2,3)"
   ]
  },
  {
   "cell_type": "code",
   "execution_count": 55,
   "id": "27c7efe4-ddf0-4a1f-b7a8-6bd5e504defb",
   "metadata": {},
   "outputs": [
    {
     "data": {
      "text/plain": [
       "8"
      ]
     },
     "execution_count": 55,
     "metadata": {},
     "output_type": "execute_result"
    }
   ],
   "source": [
    "(lambda x,y:x+y)(3,5)"
   ]
  },
  {
   "cell_type": "code",
   "execution_count": null,
   "id": "799184b3-e69c-4cff-b222-aa2dfde8ec7e",
   "metadata": {},
   "outputs": [],
   "source": []
  }
 ],
 "metadata": {
  "kernelspec": {
   "display_name": "Python 3 (ipykernel)",
   "language": "python",
   "name": "python3"
  },
  "language_info": {
   "codemirror_mode": {
    "name": "ipython",
    "version": 3
   },
   "file_extension": ".py",
   "mimetype": "text/x-python",
   "name": "python",
   "nbconvert_exporter": "python",
   "pygments_lexer": "ipython3",
   "version": "3.9.13"
  }
 },
 "nbformat": 4,
 "nbformat_minor": 5
}
