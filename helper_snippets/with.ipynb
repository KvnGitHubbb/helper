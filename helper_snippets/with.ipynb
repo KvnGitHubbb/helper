{
 "cells": [
  {
   "cell_type": "code",
   "execution_count": 42,
   "id": "87ee789c-9026-4660-9871-ca403a202bef",
   "metadata": {},
   "outputs": [],
   "source": [
    "class car:\n",
    "    def __init__(self, brand):\n",
    "        self.brand = brand\n",
    "        \n",
    "    def __enter__(self):\n",
    "        print(2)\n",
    "        print(f\"my brand is {self.brand}\")\n",
    "\n",
    "    def __exit__(self, *args):\n",
    "        print(1)"
   ]
  },
  {
   "cell_type": "code",
   "execution_count": 43,
   "id": "4d57be11-9405-4af0-997e-77ae9fc473c3",
   "metadata": {},
   "outputs": [],
   "source": [
    "c = car(\"audi\")"
   ]
  },
  {
   "cell_type": "code",
   "execution_count": 44,
   "id": "fa053c42-559e-4ede-aaba-575bd9b31bfe",
   "metadata": {},
   "outputs": [
    {
     "data": {
      "text/plain": [
       "'audi'"
      ]
     },
     "execution_count": 44,
     "metadata": {},
     "output_type": "execute_result"
    }
   ],
   "source": [
    "c.brand"
   ]
  },
  {
   "cell_type": "code",
   "execution_count": 45,
   "id": "cba2623f-2104-48e8-9b2a-6d4a72042b7d",
   "metadata": {},
   "outputs": [
    {
     "name": "stdout",
     "output_type": "stream",
     "text": [
      "2\n",
      "my brand is audi\n",
      "1\n"
     ]
    }
   ],
   "source": [
    "with c as auto:\n",
    "    auto"
   ]
  },
  {
   "cell_type": "code",
   "execution_count": null,
   "id": "d8c8fd30-dc5a-4a08-875a-6e7f6e547f40",
   "metadata": {},
   "outputs": [],
   "source": [
    "audi "
   ]
  }
 ],
 "metadata": {
  "kernelspec": {
   "display_name": "Python 3 (ipykernel)",
   "language": "python",
   "name": "python3"
  },
  "language_info": {
   "codemirror_mode": {
    "name": "ipython",
    "version": 3
   },
   "file_extension": ".py",
   "mimetype": "text/x-python",
   "name": "python",
   "nbconvert_exporter": "python",
   "pygments_lexer": "ipython3",
   "version": "3.9.13"
  }
 },
 "nbformat": 4,
 "nbformat_minor": 5
}
