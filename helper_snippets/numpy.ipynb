{
 "cells": [
  {
   "cell_type": "code",
   "execution_count": 1,
   "id": "6c5eb536-3715-461f-98b4-7a13d9400fec",
   "metadata": {},
   "outputs": [
    {
     "name": "stdout",
     "output_type": "stream",
     "text": [
      "This numpy is the version: 1.21.5\n"
     ]
    }
   ],
   "source": [
    "import numpy as np\n",
    "import pandas as pd\n",
    "import matplotlib.pyplot as plt \n",
    "import seaborn as sns \n",
    "\n",
    "from numpy import random\n",
    "\n",
    "print(f\"This numpy is the version: {np.__version__}\")"
   ]
  },
  {
   "cell_type": "code",
   "execution_count": 35,
   "id": "bcd3e31c-fe6b-4d0e-8d55-647539b5c447",
   "metadata": {},
   "outputs": [
    {
     "data": {
      "text/plain": [
       "array([[0.5, 1. , 1.5],\n",
       "       [2. , 2.5, 3. ]])"
      ]
     },
     "execution_count": 35,
     "metadata": {},
     "output_type": "execute_result"
    }
   ],
   "source": [
    "# create our first array\n",
    "\n",
    "\n",
    "\n",
    "arr = np.array([[1, 2, 3], \n",
    "                [4, 5, 6]])\n",
    "arr/2"
   ]
  },
  {
   "cell_type": "code",
   "execution_count": 48,
   "id": "c7a2c2e4-cccd-43c1-83ed-b597787d87b9",
   "metadata": {},
   "outputs": [],
   "source": [
    "# array indexing\n",
    "\n",
    "\n",
    "\n",
    "arr = np.array([1,2,3,4,5,6,7,8,9,10])"
   ]
  },
  {
   "cell_type": "code",
   "execution_count": 54,
   "id": "9bb60725-64ac-4ac7-97e1-1f80792ae338",
   "metadata": {},
   "outputs": [
    {
     "data": {
      "text/plain": [
       "array([ 2,  4,  6,  8, 10])"
      ]
     },
     "execution_count": 54,
     "metadata": {},
     "output_type": "execute_result"
    }
   ],
   "source": [
    "arr[1::2]"
   ]
  },
  {
   "cell_type": "code",
   "execution_count": 82,
   "id": "ce3741a7-f93d-4572-89fc-0aac49d651bf",
   "metadata": {},
   "outputs": [
    {
     "name": "stdout",
     "output_type": "stream",
     "text": [
      "[ True  True False]\n",
      "bool\n"
     ]
    }
   ],
   "source": [
    "# datatypes in an array\n",
    "\n",
    "\n",
    "\n",
    "arr = np.array([1.1, 2.1, 0])\n",
    "newarr = arr.astype(bool)\n",
    "\n",
    "print(newarr)\n",
    "print(newarr.dtype) "
   ]
  },
  {
   "cell_type": "code",
   "execution_count": 99,
   "id": "4fa68954-25d3-4c11-8aa4-f385df643a7d",
   "metadata": {},
   "outputs": [],
   "source": [
    "# copy and view\n",
    "\n",
    "\n",
    "\n",
    "arr = np.array([100,200,300])"
   ]
  },
  {
   "cell_type": "code",
   "execution_count": 100,
   "id": "751e86e1-36c8-4eee-968a-f8d93248d4a0",
   "metadata": {},
   "outputs": [
    {
     "data": {
      "text/plain": [
       "(array([  1, 200, 300]), array([100, 200,   1]), array([100, 200,   1]))"
      ]
     },
     "execution_count": 100,
     "metadata": {},
     "output_type": "execute_result"
    }
   ],
   "source": [
    "copy = arr.copy()\n",
    "view = arr.view()\n",
    "\n",
    "copy[0] = 1 # does not affect\n",
    "view[2] = 1 # does affect\n",
    "\n",
    "copy, view, arr"
   ]
  },
  {
   "cell_type": "code",
   "execution_count": 102,
   "id": "9abb82ec-4a5a-4b6d-b2f3-5042090cb5fe",
   "metadata": {},
   "outputs": [
    {
     "name": "stdout",
     "output_type": "stream",
     "text": [
      "None\n",
      "[100 200   1]\n"
     ]
    }
   ],
   "source": [
    "print(copy.base) # als de base None is, dan is dit een copy\n",
    "print(view.base)"
   ]
  },
  {
   "cell_type": "code",
   "execution_count": 2,
   "id": "9060c09f-0992-44f6-8b9b-bfb71986102e",
   "metadata": {},
   "outputs": [],
   "source": [
    "# shape\n",
    "\n",
    "\n",
    "arr = np.array([[1, 2, 3, 4], [5, 6, 7, 8]])"
   ]
  },
  {
   "cell_type": "code",
   "execution_count": 3,
   "id": "226e9704-74cd-4239-9c2e-6bdb48ae8935",
   "metadata": {},
   "outputs": [
    {
     "data": {
      "text/plain": [
       "array([[1, 2, 3, 4],\n",
       "       [5, 6, 7, 8]])"
      ]
     },
     "execution_count": 3,
     "metadata": {},
     "output_type": "execute_result"
    }
   ],
   "source": [
    "arr"
   ]
  },
  {
   "cell_type": "code",
   "execution_count": 4,
   "id": "93eb4d3b-7538-4f6b-a80a-90d27ac18417",
   "metadata": {},
   "outputs": [
    {
     "data": {
      "text/plain": [
       "(2, 4)"
      ]
     },
     "execution_count": 4,
     "metadata": {},
     "output_type": "execute_result"
    }
   ],
   "source": [
    "arr.shape"
   ]
  },
  {
   "cell_type": "code",
   "execution_count": 17,
   "id": "9d98fe85-588a-40fd-a6a8-87196ef103c1",
   "metadata": {},
   "outputs": [],
   "source": [
    "\n",
    "arr = np.array([1,2,3,4])"
   ]
  },
  {
   "cell_type": "code",
   "execution_count": 51,
   "id": "dbb84b10-a17b-4e11-bb92-e38699e90439",
   "metadata": {},
   "outputs": [],
   "source": [
    "# reshape\n",
    "\n",
    "\n",
    "arr = np.array([1,2,3,4,5,6,7,8,9,10,11,12])"
   ]
  },
  {
   "cell_type": "code",
   "execution_count": 53,
   "id": "ddf910a2-8e11-4794-94bb-1564ad8deaa4",
   "metadata": {},
   "outputs": [
    {
     "data": {
      "text/plain": [
       "array([[ 1,  2,  3,  4,  5,  6],\n",
       "       [ 7,  8,  9, 10, 11, 12]])"
      ]
     },
     "execution_count": 53,
     "metadata": {},
     "output_type": "execute_result"
    }
   ],
   "source": [
    "arr2 = arr.reshape(2,6)\n",
    "arr2"
   ]
  },
  {
   "cell_type": "code",
   "execution_count": 55,
   "id": "e523eabf-76a8-4423-8e43-36fa51f1753a",
   "metadata": {},
   "outputs": [
    {
     "data": {
      "text/plain": [
       "array([ 1,  2,  3,  4,  5,  6,  7,  8,  9, 10, 11, 12])"
      ]
     },
     "execution_count": 55,
     "metadata": {},
     "output_type": "execute_result"
    }
   ],
   "source": [
    "arr3= arr2.reshape(-1)\n",
    "arr3"
   ]
  },
  {
   "cell_type": "code",
   "execution_count": 64,
   "id": "7eb1d728-893d-47a0-b776-9e138b74a5db",
   "metadata": {},
   "outputs": [],
   "source": [
    "a = np.array([1,2,3,4,5])\n",
    "b = np.array([1,2,3,4,5])"
   ]
  },
  {
   "cell_type": "code",
   "execution_count": 75,
   "id": "9f3671f6-d6e6-4d75-adcb-ffffa88a7ce6",
   "metadata": {},
   "outputs": [
    {
     "data": {
      "text/plain": [
       "array([[1, 4],\n",
       "       [2, 5],\n",
       "       [3, 6]])"
      ]
     },
     "execution_count": 75,
     "metadata": {},
     "output_type": "execute_result"
    }
   ],
   "source": [
    "arr = np.array([[1, 2, 3], \n",
    "                [4, 5, 6]])\n",
    "\n",
    "# Transpose and modify the original array in place\n",
    "arr = arr.T\n",
    "arr"
   ]
  },
  {
   "cell_type": "code",
   "execution_count": 76,
   "id": "0358d96f-990c-4072-8792-44b9516d5f09",
   "metadata": {},
   "outputs": [
    {
     "data": {
      "text/plain": [
       "55"
      ]
     },
     "execution_count": 76,
     "metadata": {},
     "output_type": "execute_result"
    }
   ],
   "source": [
    "dot = np.dot(a,b)\n",
    "dot"
   ]
  },
  {
   "cell_type": "code",
   "execution_count": 3,
   "id": "638ce533-d1b0-4470-91d0-ac33c9bc9864",
   "metadata": {},
   "outputs": [
    {
     "data": {
      "text/plain": [
       "array([25, 28])"
      ]
     },
     "execution_count": 3,
     "metadata": {},
     "output_type": "execute_result"
    }
   ],
   "source": [
    "matrix1 = np.array([[1, 2, 2], \n",
    "                    [3, 4, -5]])\n",
    "\n",
    "matrix2 = np.array([5, \n",
    "                    7,\n",
    "                    3])\n",
    "\n",
    "# Perform matrix multiplication using numpy.dot()\n",
    "result_matrix = np.dot(matrix1, matrix2)\n",
    "result_matrix"
   ]
  },
  {
   "cell_type": "code",
   "execution_count": 79,
   "id": "f1966da4-6a3b-47c8-89a5-03326e2ea951",
   "metadata": {},
   "outputs": [
    {
     "data": {
      "text/plain": [
       "array([25, 28])"
      ]
     },
     "execution_count": 79,
     "metadata": {},
     "output_type": "execute_result"
    }
   ],
   "source": [
    "result_matrix.reshape(-1)"
   ]
  },
  {
   "cell_type": "code",
   "execution_count": 43,
   "id": "2f48da6b-0243-46ad-84ed-5edfe5c22215",
   "metadata": {
    "collapsed": true,
    "jupyter": {
     "outputs_hidden": true
    },
    "tags": []
   },
   "outputs": [
    {
     "name": "stdout",
     "output_type": "stream",
     "text": [
      "1\n",
      "2\n",
      "3\n",
      "4\n",
      "5\n",
      "6\n"
     ]
    }
   ],
   "source": [
    "# iteration\n",
    "\n",
    "\n",
    "\n",
    "arr = np.array([[1, 2, 3],\n",
    "                [4, 5, 6]])\n",
    "\n",
    "for i in range(arr.shape[0]):\n",
    "    for j in range(arr.shape[1]):\n",
    "        print(arr[i,j])"
   ]
  },
  {
   "cell_type": "code",
   "execution_count": 44,
   "id": "d2ba7f81-21c4-4e05-9d06-5196d4ad75cd",
   "metadata": {
    "collapsed": true,
    "jupyter": {
     "outputs_hidden": true
    },
    "tags": []
   },
   "outputs": [
    {
     "name": "stdout",
     "output_type": "stream",
     "text": [
      "1\n",
      "2\n",
      "3\n",
      "4\n",
      "5\n",
      "6\n"
     ]
    }
   ],
   "source": [
    "for x in arr:\n",
    "    for y in x:\n",
    "        print(y)"
   ]
  },
  {
   "cell_type": "code",
   "execution_count": 45,
   "id": "876a348e-abe1-4178-934f-f22280916339",
   "metadata": {
    "collapsed": true,
    "jupyter": {
     "outputs_hidden": true
    },
    "tags": []
   },
   "outputs": [
    {
     "name": "stdout",
     "output_type": "stream",
     "text": [
      "1\n",
      "2\n",
      "3\n",
      "4\n",
      "5\n",
      "6\n"
     ]
    }
   ],
   "source": [
    "for x in np.nditer(arr):\n",
    "    print(x)"
   ]
  },
  {
   "cell_type": "code",
   "execution_count": 58,
   "id": "7ca246a7-cf9e-44a1-94a1-177406dc71ca",
   "metadata": {},
   "outputs": [
    {
     "name": "stdout",
     "output_type": "stream",
     "text": [
      "3\n"
     ]
    }
   ],
   "source": [
    "arr = np.array([[1, 2, 3, 4], \n",
    "                [5, 6, 7, 8]])\n",
    "\n",
    "for idx, x in np.ndenumerate(arr):\n",
    "    if idx == (0, 2):\n",
    "        print(x)"
   ]
  },
  {
   "cell_type": "code",
   "execution_count": 24,
   "id": "7df18b3e-080a-47de-b186-a43a6067d281",
   "metadata": {},
   "outputs": [
    {
     "data": {
      "text/plain": [
       "array([[1, 2, 4, 5],\n",
       "       [3, 4, 6, 7]])"
      ]
     },
     "execution_count": 24,
     "metadata": {},
     "output_type": "execute_result"
    }
   ],
   "source": [
    "# join\n",
    "\n",
    "\n",
    "arr1 = np.array([[1,2],\n",
    "                 [3,4]])\n",
    "\n",
    "arr2 = np.array([[4,5],\n",
    "                 [6,7]])\n",
    "\n",
    "arr = np.concatenate((arr1, arr2), axis=1)\n",
    "\n",
    "arr"
   ]
  },
  {
   "cell_type": "code",
   "execution_count": 67,
   "id": "f75810ef-5f6d-41f6-9305-9b121096accc",
   "metadata": {},
   "outputs": [
    {
     "data": {
      "text/plain": [
       "[array([1, 2, 3]), array([4, 5, 6]), array([7, 8, 9])]"
      ]
     },
     "execution_count": 67,
     "metadata": {},
     "output_type": "execute_result"
    }
   ],
   "source": [
    "# splitting\n",
    "\n",
    "arr = np.array([1, 2, 3, 4, 5, 6,7, 8,9])\n",
    "\n",
    "newarr = np.split(arr, 3)\n",
    "newarr"
   ]
  },
  {
   "cell_type": "code",
   "execution_count": 71,
   "id": "ea25b4e0-f5b2-42ad-9e80-6b08b90dcdcc",
   "metadata": {},
   "outputs": [
    {
     "data": {
      "text/plain": [
       "[array([[1, 2, 3],\n",
       "        [4, 5, 6]]),\n",
       " array([[ 7,  8,  9],\n",
       "        [10, 11, 12]]),\n",
       " array([[13, 14, 15],\n",
       "        [16, 17, 18]])]"
      ]
     },
     "execution_count": 71,
     "metadata": {},
     "output_type": "execute_result"
    }
   ],
   "source": [
    "arr = np.array([[1, 2, 3], \n",
    "                [4, 5, 6], \n",
    "                [7, 8, 9], \n",
    "                [10, 11, 12], \n",
    "                [13, 14, 15], \n",
    "                [16, 17, 18]])\n",
    "\n",
    "newarr = np.vsplit(arr, 3)\n",
    "newarr"
   ]
  },
  {
   "cell_type": "code",
   "execution_count": 73,
   "id": "47265cce-eb86-411e-a819-204fd67da8cc",
   "metadata": {},
   "outputs": [],
   "source": [
    "a = lambda x, y, z: x+y+z"
   ]
  },
  {
   "cell_type": "code",
   "execution_count": 74,
   "id": "cfcec412-cb62-4871-a636-bc13b40d4577",
   "metadata": {},
   "outputs": [
    {
     "data": {
      "text/plain": [
       "6"
      ]
     },
     "execution_count": 74,
     "metadata": {},
     "output_type": "execute_result"
    }
   ],
   "source": [
    "a(1,2,3)"
   ]
  },
  {
   "cell_type": "code",
   "execution_count": 76,
   "id": "ff84a9cd-bebe-42a2-9625-7d3d1a6c7a08",
   "metadata": {},
   "outputs": [
    {
     "data": {
      "text/plain": [
       "(array([3, 5, 6], dtype=int64),)"
      ]
     },
     "execution_count": 76,
     "metadata": {},
     "output_type": "execute_result"
    }
   ],
   "source": [
    "# searching\n",
    "\n",
    "\n",
    "arr = np.array([1, 2, 3, 4, 5, 4, 4])\n",
    "idx = np.where(arr == 4)\n",
    "idx"
   ]
  },
  {
   "cell_type": "code",
   "execution_count": 77,
   "id": "70ddf706-6e19-43c4-9736-f816a7086eb2",
   "metadata": {},
   "outputs": [],
   "source": [
    "flag = [True, True, False,True, True, False,False]"
   ]
  },
  {
   "cell_type": "code",
   "execution_count": 78,
   "id": "b540cddc-803d-4bea-b66e-1f2a6eb15e82",
   "metadata": {},
   "outputs": [
    {
     "data": {
      "text/plain": [
       "array([1, 2, 4, 5])"
      ]
     },
     "execution_count": 78,
     "metadata": {},
     "output_type": "execute_result"
    }
   ],
   "source": [
    "arr[flag]"
   ]
  },
  {
   "cell_type": "code",
   "execution_count": 82,
   "id": "2af160c9-3292-42c5-863e-32227c7786bc",
   "metadata": {},
   "outputs": [
    {
     "data": {
      "text/plain": [
       "6"
      ]
     },
     "execution_count": 82,
     "metadata": {},
     "output_type": "execute_result"
    }
   ],
   "source": [
    "arr = np.array([1,2,3,4,5,6, 8,9,10])\n",
    "x = np.searchsorted(arr, 7)\n",
    "x"
   ]
  },
  {
   "cell_type": "code",
   "execution_count": 90,
   "id": "ae3945da-8796-4ca2-b122-ac1f6a2e87d8",
   "metadata": {},
   "outputs": [
    {
     "data": {
      "text/plain": [
       "array([1, 2, 3], dtype=int64)"
      ]
     },
     "execution_count": 90,
     "metadata": {},
     "output_type": "execute_result"
    }
   ],
   "source": [
    "\n",
    "arr = np.array([1, 3, 5, 7])\n",
    "x = np.searchsorted(arr, [2, 4, 6])\n",
    "x\n",
    "\n"
   ]
  },
  {
   "cell_type": "code",
   "execution_count": 100,
   "id": "06baad06-b250-4116-a81b-39a6a35ec677",
   "metadata": {},
   "outputs": [],
   "source": [
    "arr = np.array([1, 3, 5, 7])\n",
    "ins = [2, 4, 6]\n",
    "\n",
    "new = np.sort(np.concatenate((arr, ins)))"
   ]
  },
  {
   "cell_type": "code",
   "execution_count": 101,
   "id": "d4a6791c-09d7-472a-b72a-4eeacf419344",
   "metadata": {},
   "outputs": [
    {
     "data": {
      "text/plain": [
       "array([1, 2, 3, 4, 5, 6, 7])"
      ]
     },
     "execution_count": 101,
     "metadata": {},
     "output_type": "execute_result"
    }
   ],
   "source": [
    "new"
   ]
  },
  {
   "cell_type": "code",
   "execution_count": 15,
   "id": "c5d5cde9-acc3-413e-aa28-d4c4702e9759",
   "metadata": {},
   "outputs": [],
   "source": [
    "# sorting\n",
    "\n",
    "\n",
    "\n",
    "arr = np.array([\"banana\", \"apple\", \"apple2\", \"zucchini\"])\n",
    "sorted = np.sort(arr)"
   ]
  },
  {
   "cell_type": "code",
   "execution_count": 16,
   "id": "7265a3ce-37b5-41c6-9a49-54336a9873a0",
   "metadata": {},
   "outputs": [
    {
     "data": {
      "text/plain": [
       "array(['apple', 'apple2', 'banana', 'zucchini'], dtype='<U8')"
      ]
     },
     "execution_count": 16,
     "metadata": {},
     "output_type": "execute_result"
    }
   ],
   "source": [
    "sorted"
   ]
  },
  {
   "cell_type": "code",
   "execution_count": 23,
   "id": "71b89723-830c-47ef-8b10-bbaca37b4ea9",
   "metadata": {},
   "outputs": [
    {
     "data": {
      "text/plain": [
       "array([[ 0,  1,  3],\n",
       "       [ 2,  4,  5],\n",
       "       [ 2,  4, 50]])"
      ]
     },
     "execution_count": 23,
     "metadata": {},
     "output_type": "execute_result"
    }
   ],
   "source": [
    "arr = np.array([[3, 2, 4], \n",
    "                [5, 0, 1],\n",
    "                [50, 2, 4]])\n",
    "np.sort(np.sort(arr, axis=0), axis=1)"
   ]
  },
  {
   "cell_type": "code",
   "execution_count": 31,
   "id": "6c62a3c0-c0e4-48c7-a0da-b0d4bbaee2e4",
   "metadata": {},
   "outputs": [],
   "source": [
    "# filter\n",
    "\n",
    "\n",
    "arr = np.array([41, 42, 43, 44])\n",
    "\n",
    "fil = lambda x: x%2 == 0"
   ]
  },
  {
   "cell_type": "code",
   "execution_count": 32,
   "id": "ca82ebe8-5fc6-4502-b745-00a081fe5901",
   "metadata": {},
   "outputs": [
    {
     "data": {
      "text/plain": [
       "array([42, 44])"
      ]
     },
     "execution_count": 32,
     "metadata": {},
     "output_type": "execute_result"
    }
   ],
   "source": [
    "fil_arr = arr[arr%2 == 0]\n",
    "fil_arr"
   ]
  },
  {
   "cell_type": "code",
   "execution_count": null,
   "id": "1b8b76c2-658a-4da7-a67e-78b9d43d645e",
   "metadata": {},
   "outputs": [],
   "source": []
  },
  {
   "cell_type": "code",
   "execution_count": 33,
   "id": "122a1681-0edf-44df-91a7-e256a55372c7",
   "metadata": {},
   "outputs": [],
   "source": [
    "dic = {\"Name\": [\"jan\", \"kees\", \"bob\"],\n",
    "       \"Age\": [12,13,14],\n",
    "       \"Country\": [\"US\", \"US\", \"UK\"]}"
   ]
  },
  {
   "cell_type": "code",
   "execution_count": 34,
   "id": "b27324b6-554e-4dd6-88e4-1f9cc16d7a0b",
   "metadata": {},
   "outputs": [
    {
     "data": {
      "text/html": [
       "<div>\n",
       "<style scoped>\n",
       "    .dataframe tbody tr th:only-of-type {\n",
       "        vertical-align: middle;\n",
       "    }\n",
       "\n",
       "    .dataframe tbody tr th {\n",
       "        vertical-align: top;\n",
       "    }\n",
       "\n",
       "    .dataframe thead th {\n",
       "        text-align: right;\n",
       "    }\n",
       "</style>\n",
       "<table border=\"1\" class=\"dataframe\">\n",
       "  <thead>\n",
       "    <tr style=\"text-align: right;\">\n",
       "      <th></th>\n",
       "      <th>Name</th>\n",
       "      <th>Age</th>\n",
       "      <th>Country</th>\n",
       "    </tr>\n",
       "  </thead>\n",
       "  <tbody>\n",
       "    <tr>\n",
       "      <th>0</th>\n",
       "      <td>jan</td>\n",
       "      <td>12</td>\n",
       "      <td>US</td>\n",
       "    </tr>\n",
       "    <tr>\n",
       "      <th>1</th>\n",
       "      <td>kees</td>\n",
       "      <td>13</td>\n",
       "      <td>US</td>\n",
       "    </tr>\n",
       "    <tr>\n",
       "      <th>2</th>\n",
       "      <td>bob</td>\n",
       "      <td>14</td>\n",
       "      <td>UK</td>\n",
       "    </tr>\n",
       "  </tbody>\n",
       "</table>\n",
       "</div>"
      ],
      "text/plain": [
       "   Name  Age Country\n",
       "0   jan   12      US\n",
       "1  kees   13      US\n",
       "2   bob   14      UK"
      ]
     },
     "execution_count": 34,
     "metadata": {},
     "output_type": "execute_result"
    }
   ],
   "source": [
    "df = pd.DataFrame(dic)\n",
    "df"
   ]
  },
  {
   "cell_type": "code",
   "execution_count": 40,
   "id": "338433b1-7e87-4538-bedf-706ccca30395",
   "metadata": {},
   "outputs": [
    {
     "data": {
      "text/html": [
       "<div>\n",
       "<style scoped>\n",
       "    .dataframe tbody tr th:only-of-type {\n",
       "        vertical-align: middle;\n",
       "    }\n",
       "\n",
       "    .dataframe tbody tr th {\n",
       "        vertical-align: top;\n",
       "    }\n",
       "\n",
       "    .dataframe thead th {\n",
       "        text-align: right;\n",
       "    }\n",
       "</style>\n",
       "<table border=\"1\" class=\"dataframe\">\n",
       "  <thead>\n",
       "    <tr style=\"text-align: right;\">\n",
       "      <th></th>\n",
       "      <th>Name</th>\n",
       "      <th>Age</th>\n",
       "      <th>Country</th>\n",
       "    </tr>\n",
       "  </thead>\n",
       "  <tbody>\n",
       "    <tr>\n",
       "      <th>0</th>\n",
       "      <td>jan</td>\n",
       "      <td>12</td>\n",
       "      <td>US</td>\n",
       "    </tr>\n",
       "    <tr>\n",
       "      <th>1</th>\n",
       "      <td>kees</td>\n",
       "      <td>13</td>\n",
       "      <td>US</td>\n",
       "    </tr>\n",
       "  </tbody>\n",
       "</table>\n",
       "</div>"
      ],
      "text/plain": [
       "   Name  Age Country\n",
       "0   jan   12      US\n",
       "1  kees   13      US"
      ]
     },
     "execution_count": 40,
     "metadata": {},
     "output_type": "execute_result"
    }
   ],
   "source": [
    "filtered_df = df[df[\"Age\"] <= 13]\n",
    "filtered_df"
   ]
  },
  {
   "cell_type": "code",
   "execution_count": 44,
   "id": "722742c2-9f2d-4d7d-85b0-b333a43ce1c8",
   "metadata": {},
   "outputs": [
    {
     "data": {
      "text/html": [
       "<div>\n",
       "<style scoped>\n",
       "    .dataframe tbody tr th:only-of-type {\n",
       "        vertical-align: middle;\n",
       "    }\n",
       "\n",
       "    .dataframe tbody tr th {\n",
       "        vertical-align: top;\n",
       "    }\n",
       "\n",
       "    .dataframe thead th {\n",
       "        text-align: right;\n",
       "    }\n",
       "</style>\n",
       "<table border=\"1\" class=\"dataframe\">\n",
       "  <thead>\n",
       "    <tr style=\"text-align: right;\">\n",
       "      <th></th>\n",
       "      <th>Name</th>\n",
       "      <th>Age</th>\n",
       "      <th>Country</th>\n",
       "    </tr>\n",
       "  </thead>\n",
       "  <tbody>\n",
       "    <tr>\n",
       "      <th>0</th>\n",
       "      <td>David</td>\n",
       "      <td>35</td>\n",
       "      <td>Australia</td>\n",
       "    </tr>\n",
       "    <tr>\n",
       "      <th>1</th>\n",
       "      <td>Emma</td>\n",
       "      <td>34</td>\n",
       "      <td>Australia</td>\n",
       "    </tr>\n",
       "    <tr>\n",
       "      <th>2</th>\n",
       "      <td>Charlie</td>\n",
       "      <td>49</td>\n",
       "      <td>Australia</td>\n",
       "    </tr>\n",
       "    <tr>\n",
       "      <th>3</th>\n",
       "      <td>Emma</td>\n",
       "      <td>49</td>\n",
       "      <td>Germany</td>\n",
       "    </tr>\n",
       "    <tr>\n",
       "      <th>4</th>\n",
       "      <td>Emma</td>\n",
       "      <td>34</td>\n",
       "      <td>Canada</td>\n",
       "    </tr>\n",
       "    <tr>\n",
       "      <th>5</th>\n",
       "      <td>Bob</td>\n",
       "      <td>49</td>\n",
       "      <td>US</td>\n",
       "    </tr>\n",
       "    <tr>\n",
       "      <th>6</th>\n",
       "      <td>Charlie</td>\n",
       "      <td>38</td>\n",
       "      <td>Australia</td>\n",
       "    </tr>\n",
       "    <tr>\n",
       "      <th>7</th>\n",
       "      <td>Charlie</td>\n",
       "      <td>31</td>\n",
       "      <td>UK</td>\n",
       "    </tr>\n",
       "    <tr>\n",
       "      <th>8</th>\n",
       "      <td>Charlie</td>\n",
       "      <td>42</td>\n",
       "      <td>Australia</td>\n",
       "    </tr>\n",
       "    <tr>\n",
       "      <th>9</th>\n",
       "      <td>Emma</td>\n",
       "      <td>39</td>\n",
       "      <td>UK</td>\n",
       "    </tr>\n",
       "    <tr>\n",
       "      <th>10</th>\n",
       "      <td>David</td>\n",
       "      <td>44</td>\n",
       "      <td>UK</td>\n",
       "    </tr>\n",
       "    <tr>\n",
       "      <th>11</th>\n",
       "      <td>Charlie</td>\n",
       "      <td>22</td>\n",
       "      <td>Australia</td>\n",
       "    </tr>\n",
       "    <tr>\n",
       "      <th>12</th>\n",
       "      <td>Emma</td>\n",
       "      <td>24</td>\n",
       "      <td>Germany</td>\n",
       "    </tr>\n",
       "    <tr>\n",
       "      <th>13</th>\n",
       "      <td>Bob</td>\n",
       "      <td>38</td>\n",
       "      <td>UK</td>\n",
       "    </tr>\n",
       "    <tr>\n",
       "      <th>14</th>\n",
       "      <td>David</td>\n",
       "      <td>26</td>\n",
       "      <td>UK</td>\n",
       "    </tr>\n",
       "    <tr>\n",
       "      <th>15</th>\n",
       "      <td>Bob</td>\n",
       "      <td>40</td>\n",
       "      <td>Australia</td>\n",
       "    </tr>\n",
       "    <tr>\n",
       "      <th>16</th>\n",
       "      <td>David</td>\n",
       "      <td>28</td>\n",
       "      <td>UK</td>\n",
       "    </tr>\n",
       "    <tr>\n",
       "      <th>17</th>\n",
       "      <td>Emma</td>\n",
       "      <td>26</td>\n",
       "      <td>UK</td>\n",
       "    </tr>\n",
       "    <tr>\n",
       "      <th>18</th>\n",
       "      <td>Alice</td>\n",
       "      <td>37</td>\n",
       "      <td>Australia</td>\n",
       "    </tr>\n",
       "    <tr>\n",
       "      <th>19</th>\n",
       "      <td>David</td>\n",
       "      <td>23</td>\n",
       "      <td>Australia</td>\n",
       "    </tr>\n",
       "    <tr>\n",
       "      <th>20</th>\n",
       "      <td>Bob</td>\n",
       "      <td>44</td>\n",
       "      <td>US</td>\n",
       "    </tr>\n",
       "    <tr>\n",
       "      <th>21</th>\n",
       "      <td>Emma</td>\n",
       "      <td>47</td>\n",
       "      <td>Germany</td>\n",
       "    </tr>\n",
       "    <tr>\n",
       "      <th>22</th>\n",
       "      <td>David</td>\n",
       "      <td>33</td>\n",
       "      <td>Germany</td>\n",
       "    </tr>\n",
       "    <tr>\n",
       "      <th>23</th>\n",
       "      <td>Alice</td>\n",
       "      <td>37</td>\n",
       "      <td>UK</td>\n",
       "    </tr>\n",
       "    <tr>\n",
       "      <th>24</th>\n",
       "      <td>Alice</td>\n",
       "      <td>45</td>\n",
       "      <td>Germany</td>\n",
       "    </tr>\n",
       "    <tr>\n",
       "      <th>25</th>\n",
       "      <td>Charlie</td>\n",
       "      <td>28</td>\n",
       "      <td>UK</td>\n",
       "    </tr>\n",
       "    <tr>\n",
       "      <th>26</th>\n",
       "      <td>Charlie</td>\n",
       "      <td>45</td>\n",
       "      <td>US</td>\n",
       "    </tr>\n",
       "    <tr>\n",
       "      <th>27</th>\n",
       "      <td>Bob</td>\n",
       "      <td>40</td>\n",
       "      <td>Australia</td>\n",
       "    </tr>\n",
       "    <tr>\n",
       "      <th>28</th>\n",
       "      <td>David</td>\n",
       "      <td>21</td>\n",
       "      <td>Australia</td>\n",
       "    </tr>\n",
       "    <tr>\n",
       "      <th>29</th>\n",
       "      <td>David</td>\n",
       "      <td>39</td>\n",
       "      <td>Australia</td>\n",
       "    </tr>\n",
       "  </tbody>\n",
       "</table>\n",
       "</div>"
      ],
      "text/plain": [
       "       Name  Age    Country\n",
       "0     David   35  Australia\n",
       "1      Emma   34  Australia\n",
       "2   Charlie   49  Australia\n",
       "3      Emma   49    Germany\n",
       "4      Emma   34     Canada\n",
       "5       Bob   49         US\n",
       "6   Charlie   38  Australia\n",
       "7   Charlie   31         UK\n",
       "8   Charlie   42  Australia\n",
       "9      Emma   39         UK\n",
       "10    David   44         UK\n",
       "11  Charlie   22  Australia\n",
       "12     Emma   24    Germany\n",
       "13      Bob   38         UK\n",
       "14    David   26         UK\n",
       "15      Bob   40  Australia\n",
       "16    David   28         UK\n",
       "17     Emma   26         UK\n",
       "18    Alice   37  Australia\n",
       "19    David   23  Australia\n",
       "20      Bob   44         US\n",
       "21     Emma   47    Germany\n",
       "22    David   33    Germany\n",
       "23    Alice   37         UK\n",
       "24    Alice   45    Germany\n",
       "25  Charlie   28         UK\n",
       "26  Charlie   45         US\n",
       "27      Bob   40  Australia\n",
       "28    David   21  Australia\n",
       "29    David   39  Australia"
      ]
     },
     "execution_count": 44,
     "metadata": {},
     "output_type": "execute_result"
    }
   ],
   "source": [
    "\n",
    "# Generate random data\n",
    "np.random.seed(42)  # For reproducibility\n",
    "names = np.random.choice([\"Alice\", \"Bob\", \"Charlie\", \"David\", \"Emma\"], size=30)\n",
    "ages = np.random.randint(20, 50, size=30)\n",
    "countries = np.random.choice([\"US\", \"UK\", \"Canada\", \"Australia\", \"Germany\"], size=30)\n",
    "\n",
    "# Create the DataFrame\n",
    "data = {\n",
    "    \"Name\": names,\n",
    "    \"Age\": ages,\n",
    "    \"Country\": countries\n",
    "}\n",
    "\n",
    "df = pd.DataFrame(data)\n",
    "\n",
    "df\n"
   ]
  },
  {
   "cell_type": "code",
   "execution_count": 53,
   "id": "152274b7-589b-430f-8cd0-2224f8293e39",
   "metadata": {},
   "outputs": [
    {
     "data": {
      "text/plain": [
       "Country\n",
       "Australia    35.0\n",
       "Canada       34.0\n",
       "Germany      39.6\n",
       "UK           33.0\n",
       "US           46.0\n",
       "Name: Age, dtype: float64"
      ]
     },
     "execution_count": 53,
     "metadata": {},
     "output_type": "execute_result"
    }
   ],
   "source": [
    "df.groupby(\"Country\")[\"Age\"].mean()"
   ]
  },
  {
   "cell_type": "code",
   "execution_count": 49,
   "id": "f7a84d8c-d380-4e03-9a7d-377abc26ed0c",
   "metadata": {},
   "outputs": [
    {
     "data": {
      "text/plain": [
       "<pandas.core.groupby.generic.SeriesGroupBy object at 0x00000252C69C6190>"
      ]
     },
     "execution_count": 49,
     "metadata": {},
     "output_type": "execute_result"
    }
   ],
   "source": []
  },
  {
   "cell_type": "code",
   "execution_count": 7,
   "id": "f98d4bac-f1a5-4db3-ac9d-a508c27c38af",
   "metadata": {},
   "outputs": [
    {
     "data": {
      "text/plain": [
       "array([[65, 91, 21, 58],\n",
       "       [96, 18, 48, 35],\n",
       "       [60, 41, 62,  1],\n",
       "       [92, 15, 92, 48]])"
      ]
     },
     "execution_count": 7,
     "metadata": {},
     "output_type": "execute_result"
    }
   ],
   "source": [
    "# randoms\n",
    "\n",
    "\n",
    "random.randint(100, size=(4,4))"
   ]
  },
  {
   "cell_type": "code",
   "execution_count": 46,
   "id": "7c771d10-a2a5-45fe-868b-0356fee83314",
   "metadata": {},
   "outputs": [],
   "source": [
    "x = random.choice([3, 5, 7, 9], p=[0.1, 0.3, 0.6, 0.0], size=(100))"
   ]
  },
  {
   "cell_type": "code",
   "execution_count": 47,
   "id": "b55f02fa-65ae-43b7-b4ba-10ca1ae61997",
   "metadata": {},
   "outputs": [
    {
     "data": {
      "text/plain": [
       "0"
      ]
     },
     "execution_count": 47,
     "metadata": {},
     "output_type": "execute_result"
    }
   ],
   "source": [
    "np.count_nonzero(x == 9)"
   ]
  },
  {
   "cell_type": "code",
   "execution_count": 49,
   "id": "47ea8e60-7c6e-4560-a3bc-deba3ca4bc6f",
   "metadata": {},
   "outputs": [
    {
     "data": {
      "text/plain": [
       "array([4, 3, 1, 2, 5])"
      ]
     },
     "execution_count": 49,
     "metadata": {},
     "output_type": "execute_result"
    }
   ],
   "source": [
    "arr = np.array([1, 2, 3, 4, 5])     # shuffle schudt de oorspronkelijke array\n",
    "random.shuffle(arr)                 # permutation returnt een nieuwe array\n",
    "arr"
   ]
  },
  {
   "cell_type": "code",
   "execution_count": 52,
   "id": "6a89630c-b8c9-4549-bc24-84c375424506",
   "metadata": {},
   "outputs": [
    {
     "data": {
      "text/plain": [
       "array([2, 1, 3, 5, 4])"
      ]
     },
     "execution_count": 52,
     "metadata": {},
     "output_type": "execute_result"
    }
   ],
   "source": [
    "random.permutation(arr)"
   ]
  },
  {
   "cell_type": "code",
   "execution_count": 44,
   "id": "dd89a8bf-9a5b-4f6c-b202-37a91fc0bcfe",
   "metadata": {},
   "outputs": [
    {
     "data": {
      "image/png": "[encoded data removed]",
      "text/plain": [
       "<Figure size 500x500 with 1 Axes>"
      ]
     },
     "metadata": {},
     "output_type": "display_data"
    }
   ],
   "source": [
    "# distributions\n",
    "\n",
    "arr = random.zipf(a=2, size=1000)\n",
    "\n",
    "sns.displot(arr[arr<10], bins=10)\n",
    "\n",
    "plt.show() "
   ]
  },
  {
   "cell_type": "code",
   "execution_count": 40,
   "id": "eb3f5278-c2f5-48b3-b026-59385d2c2a1a",
   "metadata": {},
   "outputs": [
    {
     "data": {
      "text/plain": [
       "0.817398225254131"
      ]
     },
     "execution_count": 40,
     "metadata": {},
     "output_type": "execute_result"
    }
   ],
   "source": [
    "total_wealth = np.sum(arr)\n",
    "rich_wealth = np.sum(np.sort(arr)[800:])\n",
    "\n",
    "rich_wealth/total_wealth"
   ]
  },
  {
   "cell_type": "code",
   "execution_count": null,
   "id": "21c4c944-7fb0-4e25-a2a6-07cecf0aa6ba",
   "metadata": {},
   "outputs": [],
   "source": []
  },
  {
   "cell_type": "code",
   "execution_count": 80,
   "id": "0a8f87af-c92e-4f42-b86f-ed2c47126e8c",
   "metadata": {},
   "outputs": [],
   "source": [
    "# ufuncs\n",
    "\n",
    "\n",
    "a = np.array([[1,2],\n",
    "              [3,4]])\n",
    "\n",
    "b = np.array([[5,6],\n",
    "              [7,8]])"
   ]
  },
  {
   "cell_type": "code",
   "execution_count": 85,
   "id": "3abfe67f-3cb1-4ac3-821b-db9b631ee09d",
   "metadata": {},
   "outputs": [
    {
     "data": {
      "text/plain": [
       "(array([[5, 3],\n",
       "        [2, 2]], dtype=int32),\n",
       " array([[0, 0],\n",
       "        [1, 0]], dtype=int32))"
      ]
     },
     "execution_count": 85,
     "metadata": {},
     "output_type": "execute_result"
    }
   ],
   "source": [
    "np.divmod(b,a)"
   ]
  },
  {
   "cell_type": "code",
   "execution_count": 3,
   "id": "48bbe1a1-fb91-49bc-b76c-34aa85d4a966",
   "metadata": {
    "tags": []
   },
   "outputs": [],
   "source": [
    "\n",
    "c = np.array([-1,2,3,-4,5])   #only even numbers are made absolute\n",
    "even = c%2 == 0"
   ]
  },
  {
   "cell_type": "code",
   "execution_count": 91,
   "id": "b975253e-786d-4df7-a9cd-1b738a553222",
   "metadata": {},
   "outputs": [
    {
     "data": {
      "text/plain": [
       "array([-1,  2,  3,  4,  5])"
      ]
     },
     "execution_count": 91,
     "metadata": {},
     "output_type": "execute_result"
    }
   ],
   "source": [
    "np.where(even, np.abs(c), c)"
   ]
  },
  {
   "cell_type": "code",
   "execution_count": 22,
   "id": "8ae58d5c-63d4-47ac-8079-692d29f2f1f6",
   "metadata": {},
   "outputs": [
    {
     "data": {
      "text/plain": [
       "array([0.        , 0.69314718, 1.09861229, 1.38629436, 1.60943791,\n",
       "       1.79175947, 1.94591015, 2.07944154, 2.19722458])"
      ]
     },
     "execution_count": 22,
     "metadata": {},
     "output_type": "execute_result"
    }
   ],
   "source": [
    "arr = np.arange(1, 10)\n",
    "np.log(arr)"
   ]
  },
  {
   "cell_type": "code",
   "execution_count": 28,
   "id": "fac547eb-b331-45c0-ba36-54fdecc388dd",
   "metadata": {},
   "outputs": [
    {
     "data": {
      "text/plain": [
       "24"
      ]
     },
     "execution_count": 28,
     "metadata": {},
     "output_type": "execute_result"
    }
   ],
   "source": [
    "a = np.array([[1,2],\n",
    "              [3,4]])\n",
    "\n",
    "b = np.array([[1,2],\n",
    "              [3,4]])\n",
    "\n",
    "np.prod(a)"
   ]
  },
  {
   "cell_type": "code",
   "execution_count": 32,
   "id": "96f75503-b1a0-48d3-ba0c-83a60d047d1b",
   "metadata": {},
   "outputs": [
    {
     "data": {
      "text/plain": [
       "array([  5,  10, -20])"
      ]
     },
     "execution_count": 32,
     "metadata": {},
     "output_type": "execute_result"
    }
   ],
   "source": [
    "arr = np.array([10, 15, 25, 5])\n",
    "\n",
    "np.diff(arr)"
   ]
  },
  {
   "cell_type": "code",
   "execution_count": 34,
   "id": "a72f50d3-b89a-4b8a-b2d5-252a1e4f84f3",
   "metadata": {},
   "outputs": [
    {
     "data": {
      "text/plain": [
       "array([  5, -30])"
      ]
     },
     "execution_count": 34,
     "metadata": {},
     "output_type": "execute_result"
    }
   ],
   "source": [
    "\n",
    "arr = np.array([10, 15, 25, 5])\n",
    "\n",
    "np.diff(arr, n=2)"
   ]
  },
  {
   "cell_type": "code",
   "execution_count": 38,
   "id": "e274274f-3723-4b92-bf16-297b1432f051",
   "metadata": {},
   "outputs": [
    {
     "data": {
      "text/plain": [
       "array([-35])"
      ]
     },
     "execution_count": 38,
     "metadata": {},
     "output_type": "execute_result"
    }
   ],
   "source": [
    "arr = np.array([10, 15, 25, 5])\n",
    "\n",
    "np.diff(arr, n=3)"
   ]
  },
  {
   "cell_type": "code",
   "execution_count": 48,
   "id": "7bd3eb6b-bd02-48b0-bf5c-12eddd69a8c1",
   "metadata": {},
   "outputs": [
    {
     "data": {
      "text/plain": [
       "3"
      ]
     },
     "execution_count": 48,
     "metadata": {},
     "output_type": "execute_result"
    }
   ],
   "source": [
    "\n",
    "num1 = 6\n",
    "num2 = 9\n",
    "\n",
    "np.gcd(num1, num2)"
   ]
  },
  {
   "cell_type": "code",
   "execution_count": 56,
   "id": "04ad9aa5-07ef-4fa1-839b-0264e94763bd",
   "metadata": {},
   "outputs": [
    {
     "data": {
      "text/plain": [
       "array([0.5, 1. , 1.5, 2. ])"
      ]
     },
     "execution_count": 56,
     "metadata": {},
     "output_type": "execute_result"
    }
   ],
   "source": [
    "\n",
    "arr = np.array([90, 180, 270, 360])\n",
    "\n",
    "np.deg2rad(arr)/np.pi"
   ]
  },
  {
   "cell_type": "code",
   "execution_count": 57,
   "id": "e12ddf0d-5a46-4e3e-b77a-2dd4912e1752",
   "metadata": {},
   "outputs": [
    {
     "data": {
      "text/plain": [
       "array([1, 2, 3, 4, 5, 6, 7])"
      ]
     },
     "execution_count": 57,
     "metadata": {},
     "output_type": "execute_result"
    }
   ],
   "source": [
    "\n",
    "arr = np.array([1, 1, 1, 2, 3, 4, 5, 5, 6, 7])\n",
    "np.unique(arr)"
   ]
  },
  {
   "cell_type": "code",
   "execution_count": 60,
   "id": "781c8cb7-fb2f-43f9-ab8b-1a8f33f7a747",
   "metadata": {},
   "outputs": [
    {
     "data": {
      "text/plain": [
       "array([3, 4])"
      ]
     },
     "execution_count": 60,
     "metadata": {},
     "output_type": "execute_result"
    }
   ],
   "source": [
    "arr1 = np.array([1, 2, 3, 4])\n",
    "arr2 = np.array([3, 4, 5, 6])\n",
    "\n",
    "np.intersect1d(arr1, arr2, assume_unique=True)"
   ]
  },
  {
   "cell_type": "code",
   "execution_count": 78,
   "id": "9eac6bc3-fc55-468c-86b3-5f4e7d2f7c1d",
   "metadata": {},
   "outputs": [
    {
     "data": {
      "text/plain": [
       "array([[1, 4]])"
      ]
     },
     "execution_count": 78,
     "metadata": {},
     "output_type": "execute_result"
    }
   ],
   "source": [
    "\n",
    "A = np.array([[1,4],\n",
    "              [2,5],\n",
    "              [3,65]])\n",
    "\n",
    "B = np.array([[1,4],\n",
    "              [3,6],\n",
    "              [7,8]])\n",
    "\n",
    "nrows, ncols = A.shape\n",
    "dtype={'names':['f{}'.format(i) for i in range(ncols)],\n",
    "       'formats':ncols * [A.dtype]}\n",
    "\n",
    "C = np.intersect1d(A.view(dtype), B.view(dtype))\n",
    "\n",
    "# This last bit is optional if you're okay with \"C\" being a structured array...\n",
    "C = C.view(A.dtype).reshape(-1, ncols)\n",
    "C"
   ]
  },
  {
   "cell_type": "code",
   "execution_count": 69,
   "id": "d38fbd3d-0f1d-45ce-b62f-51a9e02ec69c",
   "metadata": {},
   "outputs": [
    {
     "data": {
      "text/plain": [
       "{'names': ['f0', 'f1'], 'formats': [dtype('int32'), dtype('int32')]}"
      ]
     },
     "execution_count": 69,
     "metadata": {},
     "output_type": "execute_result"
    }
   ],
   "source": [
    "dtype={'names':['f{}'.format(i) for i in range(ncols)],\n",
    "       'formats':ncols * [A.dtype]}\n",
    "dtype"
   ]
  },
  {
   "cell_type": "code",
   "execution_count": 82,
   "id": "b31d3625-f5df-4130-8027-5a504fe23e5b",
   "metadata": {},
   "outputs": [
    {
     "data": {
      "text/plain": [
       "[4, 5]"
      ]
     },
     "execution_count": 82,
     "metadata": {},
     "output_type": "execute_result"
    }
   ],
   "source": [
    "a = np.array([1,2,3,4,5])\n",
    "b = np.array([4,5,6,7,8])\n",
    "\n",
    "aset = set([x for x in a])\n",
    "bset = set([x for x in b])\n",
    "\n",
    "c = [x for x in aset & bset]\n",
    "c"
   ]
  },
  {
   "cell_type": "code",
   "execution_count": 84,
   "id": "81470d80-c43c-4b71-8f96-67769cb806a3",
   "metadata": {},
   "outputs": [
    {
     "name": "stdout",
     "output_type": "stream",
     "text": [
      "f2\n"
     ]
    }
   ],
   "source": [
    "a = 2\n",
    "\n",
    "print('f{}'.format(a))"
   ]
  },
  {
   "cell_type": "code",
   "execution_count": 85,
   "id": "5ec9579e-e87c-476b-a101-a6b871cc199f",
   "metadata": {},
   "outputs": [
    {
     "name": "stdout",
     "output_type": "stream",
     "text": [
      "hello there 2 \n"
     ]
    }
   ],
   "source": [
    "print(f\"hello there {a} \")"
   ]
  },
  {
   "cell_type": "code",
   "execution_count": null,
   "id": "8a4418f4-5fa8-4f63-a8a1-68744be264ee",
   "metadata": {},
   "outputs": [],
   "source": []
  }
 ],
 "metadata": {
  "kernelspec": {
   "display_name": "Python 3 (ipykernel)",
   "language": "python",
   "name": "python3"
  },
  "language_info": {
   "codemirror_mode": {
    "name": "ipython",
    "version": 3
   },
   "file_extension": ".py",
   "mimetype": "text/x-python",
   "name": "python",
   "nbconvert_exporter": "python",
   "pygments_lexer": "ipython3",
   "version": "3.9.13"
  }
 },
 "nbformat": 4,
 "nbformat_minor": 5
}
