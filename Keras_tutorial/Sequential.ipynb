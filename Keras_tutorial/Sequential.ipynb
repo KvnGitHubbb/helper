{
 "cells": [
  {
   "cell_type": "markdown",
   "id": "fd288806-5ac6-4247-999f-2718d70fb29b",
   "metadata": {
    "tags": []
   },
   "source": [
    "<h1>Data processing</h1>"
   ]
  },
  {
   "cell_type": "code",
   "execution_count": 2,
   "id": "cf1f1441-0926-4814-b2c6-173388f497e1",
   "metadata": {},
   "outputs": [],
   "source": [
    "import pandas as pd\n",
    "import numpy as np\n",
    "from random import randint\n",
    "from sklearn.utils import shuffle\n",
    "from sklearn.preprocessing import MinMaxScaler"
   ]
  },
  {
   "cell_type": "code",
   "execution_count": 3,
   "id": "9c17b0be-7ca3-4a6f-bfa7-f94e1943b13e",
   "metadata": {
    "collapsed": true,
    "jupyter": {
     "outputs_hidden": true
    },
    "tags": []
   },
   "outputs": [
    {
     "data": {
      "text/plain": [
       "array([1, 2, 3])"
      ]
     },
     "execution_count": 3,
     "metadata": {},
     "output_type": "execute_result"
    }
   ],
   "source": [
    "# Zowel de inputs als de outputs moeten in de vorm zijn van een numpy array\n",
    "test = np.array([1,2,3])\n",
    "test"
   ]
  },
  {
   "cell_type": "code",
   "execution_count": null,
   "id": "cd3847da-0999-45b0-bab3-5b3f464e780d",
   "metadata": {},
   "outputs": [],
   "source": []
  },
  {
   "cell_type": "code",
   "execution_count": 4,
   "id": "91ad38bf-ae4a-4278-b985-cfd1ef4e15ac",
   "metadata": {},
   "outputs": [],
   "source": [
    "train_labels = []\n",
    "train_samples = []"
   ]
  },
  {
   "cell_type": "code",
   "execution_count": 5,
   "id": "cf75278b-63c3-4f33-a5f3-0b172b236b2b",
   "metadata": {},
   "outputs": [],
   "source": [
    "# Data creation\n",
    "for i in range(50):\n",
    "    random_younger = randint(13,64)\n",
    "    train_samples.append(random_younger)\n",
    "    train_labels.append(1)\n",
    "    \n",
    "    random_older = randint(65,100)\n",
    "    train_samples.append(random_older)\n",
    "    train_labels.append(0)\n",
    "    \n",
    "    \n",
    "for i in range(1000):\n",
    "    random_younger = randint(13,64)\n",
    "    train_samples.append(random_younger)\n",
    "    train_labels.append(0)\n",
    "    \n",
    "    random_older = randint(65,100)\n",
    "    train_samples.append(random_older)\n",
    "    train_labels.append(1)\n",
    "    "
   ]
  },
  {
   "cell_type": "code",
   "execution_count": 6,
   "id": "d8a5a507-2fc6-44ad-910d-88537e5a8583",
   "metadata": {
    "tags": []
   },
   "outputs": [],
   "source": [
    "# convert to np.array\n",
    "train_labels = np.array(train_labels)\n",
    "train_samples = np.array(train_samples)\n",
    "train_labels, train_samples = shuffle(train_labels, train_samples)"
   ]
  },
  {
   "cell_type": "code",
   "execution_count": 7,
   "id": "40fe80dc-5e55-46dc-88e9-70faf991114c",
   "metadata": {},
   "outputs": [],
   "source": [
    "# scaling\n",
    "scaler = MinMaxScaler(feature_range=(0,1))\n",
    "scaled_train_samples = scaler.fit_transform(train_samples.reshape(-1,1))"
   ]
  },
  {
   "cell_type": "code",
   "execution_count": 8,
   "id": "aa929f22-dded-4d53-83e2-6e643a8aea22",
   "metadata": {
    "collapsed": true,
    "jupyter": {
     "outputs_hidden": true
    },
    "tags": []
   },
   "outputs": [
    {
     "data": {
      "text/plain": [
       "array([[0.66666667],\n",
       "       [0.06896552],\n",
       "       [0.64367816],\n",
       "       ...,\n",
       "       [0.40229885],\n",
       "       [0.12643678],\n",
       "       [0.36781609]])"
      ]
     },
     "execution_count": 8,
     "metadata": {},
     "output_type": "execute_result"
    }
   ],
   "source": [
    "scaled_train_samples"
   ]
  },
  {
   "cell_type": "markdown",
   "id": "4acb0b3d-160c-4c6b-b399-c9a70ccb31f8",
   "metadata": {},
   "source": [
    "<h1>First Neural Network</h1>"
   ]
  },
  {
   "cell_type": "code",
   "execution_count": 9,
   "id": "f871622a-3f2a-4c25-b932-39b95693e7c8",
   "metadata": {},
   "outputs": [],
   "source": [
    "import tensorflow as tf\n",
    "from tensorflow import keras\n",
    "from tensorflow.keras.models import Sequential\n",
    "from tensorflow.keras.layers import Activation, Dense\n",
    "from tensorflow.keras.optimizers import Adam\n",
    "from tensorflow.keras.metrics import categorical_crossentropy"
   ]
  },
  {
   "cell_type": "code",
   "execution_count": 15,
   "id": "e78f6e1f-0f11-4f70-8fb0-510d4765620b",
   "metadata": {},
   "outputs": [],
   "source": [
    "# nu maak je de model, dit is nog niet ensambling\n",
    "model = Sequential([\n",
    "    Dense(units=16, input_shape=(1,), activation='relu'),          # dit is de 2e layer, geef alleen het aantal features als input\n",
    "    Dense(units=32, activation='relu'),\n",
    "    Dense(units=2, activation='softmax')                         # output layer\n",
    "])\n",
    "model._name = \"newname\""
   ]
  },
  {
   "cell_type": "code",
   "execution_count": 11,
   "id": "c4611322-e438-4fbb-a8f6-845355e0b58c",
   "metadata": {
    "collapsed": true,
    "jupyter": {
     "outputs_hidden": true
    },
    "tags": []
   },
   "outputs": [
    {
     "name": "stdout",
     "output_type": "stream",
     "text": [
      "Model: \"newname\"\n",
      "_________________________________________________________________\n",
      " Layer (type)                Output Shape              Param #   \n",
      "=================================================================\n",
      " dense (Dense)               (None, 16)                32        \n",
      "                                                                 \n",
      " dense_1 (Dense)             (None, 32)                544       \n",
      "                                                                 \n",
      " dense_2 (Dense)             (None, 2)                 66        \n",
      "                                                                 \n",
      "=================================================================\n",
      "Total params: 642\n",
      "Trainable params: 642\n",
      "Non-trainable params: 0\n",
      "_________________________________________________________________\n"
     ]
    }
   ],
   "source": [
    "model.summary()"
   ]
  },
  {
   "cell_type": "markdown",
   "id": "a0551079-81f3-48d2-999d-3bdf8b1fab97",
   "metadata": {},
   "source": [
    "<h1>Training the Network</h1>"
   ]
  },
  {
   "cell_type": "code",
   "execution_count": 16,
   "id": "6d596c8c-f831-48a0-9a04-79a8ea3a7d24",
   "metadata": {},
   "outputs": [],
   "source": [
    "# nu compile je de model, hierin specificeer je gelijk hoe je deze wilt trainen\n",
    "model.compile(optimizer = Adam(learning_rate=0.0001), loss=\"sparse_categorical_crossentropy\", metrics=[\"accuracy\"])"
   ]
  },
  {
   "cell_type": "code",
   "execution_count": 13,
   "id": "d3dbc9e0-3dcd-46e6-a6a6-31210f630134",
   "metadata": {
    "collapsed": true,
    "jupyter": {
     "outputs_hidden": true
    },
    "tags": []
   },
   "outputs": [
    {
     "name": "stdout",
     "output_type": "stream",
     "text": [
      "Epoch 1/30\n",
      "210/210 - 2s - loss: 0.6657 - accuracy: 0.5471 - 2s/epoch - 10ms/step\n",
      "Epoch 2/30\n",
      "210/210 - 0s - loss: 0.6407 - accuracy: 0.5890 - 455ms/epoch - 2ms/step\n",
      "Epoch 3/30\n",
      "210/210 - 1s - loss: 0.6186 - accuracy: 0.6338 - 503ms/epoch - 2ms/step\n",
      "Epoch 4/30\n",
      "210/210 - 0s - loss: 0.5978 - accuracy: 0.6729 - 456ms/epoch - 2ms/step\n",
      "Epoch 5/30\n",
      "210/210 - 0s - loss: 0.5751 - accuracy: 0.7062 - 486ms/epoch - 2ms/step\n",
      "Epoch 6/30\n",
      "210/210 - 0s - loss: 0.5472 - accuracy: 0.7400 - 410ms/epoch - 2ms/step\n",
      "Epoch 7/30\n",
      "210/210 - 0s - loss: 0.5216 - accuracy: 0.7743 - 392ms/epoch - 2ms/step\n",
      "Epoch 8/30\n",
      "210/210 - 0s - loss: 0.4964 - accuracy: 0.8052 - 330ms/epoch - 2ms/step\n",
      "Epoch 9/30\n",
      "210/210 - 0s - loss: 0.4716 - accuracy: 0.8229 - 377ms/epoch - 2ms/step\n",
      "Epoch 10/30\n",
      "210/210 - 0s - loss: 0.4473 - accuracy: 0.8333 - 392ms/epoch - 2ms/step\n",
      "Epoch 11/30\n",
      "210/210 - 0s - loss: 0.4248 - accuracy: 0.8614 - 361ms/epoch - 2ms/step\n",
      "Epoch 12/30\n",
      "210/210 - 0s - loss: 0.4040 - accuracy: 0.8776 - 361ms/epoch - 2ms/step\n",
      "Epoch 13/30\n",
      "210/210 - 0s - loss: 0.3853 - accuracy: 0.8824 - 439ms/epoch - 2ms/step\n",
      "Epoch 14/30\n",
      "210/210 - 0s - loss: 0.3688 - accuracy: 0.8929 - 409ms/epoch - 2ms/step\n",
      "Epoch 15/30\n",
      "210/210 - 0s - loss: 0.3542 - accuracy: 0.8971 - 376ms/epoch - 2ms/step\n",
      "Epoch 16/30\n",
      "210/210 - 0s - loss: 0.3416 - accuracy: 0.9119 - 439ms/epoch - 2ms/step\n",
      "Epoch 17/30\n",
      "210/210 - 0s - loss: 0.3305 - accuracy: 0.9148 - 455ms/epoch - 2ms/step\n",
      "Epoch 18/30\n",
      "210/210 - 0s - loss: 0.3209 - accuracy: 0.9219 - 377ms/epoch - 2ms/step\n",
      "Epoch 19/30\n",
      "210/210 - 0s - loss: 0.3126 - accuracy: 0.9195 - 392ms/epoch - 2ms/step\n",
      "Epoch 20/30\n",
      "210/210 - 0s - loss: 0.3057 - accuracy: 0.9267 - 360ms/epoch - 2ms/step\n",
      "Epoch 21/30\n",
      "210/210 - 0s - loss: 0.2996 - accuracy: 0.9295 - 377ms/epoch - 2ms/step\n",
      "Epoch 22/30\n",
      "210/210 - 0s - loss: 0.2946 - accuracy: 0.9262 - 345ms/epoch - 2ms/step\n",
      "Epoch 23/30\n",
      "210/210 - 0s - loss: 0.2897 - accuracy: 0.9319 - 361ms/epoch - 2ms/step\n",
      "Epoch 24/30\n",
      "210/210 - 0s - loss: 0.2855 - accuracy: 0.9319 - 345ms/epoch - 2ms/step\n",
      "Epoch 25/30\n",
      "210/210 - 0s - loss: 0.2824 - accuracy: 0.9319 - 408ms/epoch - 2ms/step\n",
      "Epoch 26/30\n",
      "210/210 - 0s - loss: 0.2793 - accuracy: 0.9338 - 439ms/epoch - 2ms/step\n",
      "Epoch 27/30\n",
      "210/210 - 0s - loss: 0.2768 - accuracy: 0.9319 - 486ms/epoch - 2ms/step\n",
      "Epoch 28/30\n",
      "210/210 - 0s - loss: 0.2747 - accuracy: 0.9386 - 392ms/epoch - 2ms/step\n",
      "Epoch 29/30\n",
      "210/210 - 0s - loss: 0.2726 - accuracy: 0.9357 - 376ms/epoch - 2ms/step\n",
      "Epoch 30/30\n",
      "210/210 - 0s - loss: 0.2709 - accuracy: 0.9343 - 377ms/epoch - 2ms/step\n"
     ]
    },
    {
     "data": {
      "text/plain": [
       "<keras.callbacks.History at 0x1e31b37c790>"
      ]
     },
     "execution_count": 13,
     "metadata": {},
     "output_type": "execute_result"
    }
   ],
   "source": [
    "# nu train je de model\n",
    "model.fit(x = scaled_train_samples, y=train_labels, batch_size=10, epochs=30, shuffle=True, verbose=2)"
   ]
  },
  {
   "cell_type": "markdown",
   "id": "5ae119c5-3244-4fe6-8836-31224aed8ad5",
   "metadata": {},
   "source": [
    "- eerst model maken\n",
    "- daarna compilen met training methodes\n",
    "- dan fitten"
   ]
  },
  {
   "cell_type": "markdown",
   "id": "8b82a721-dab1-41fb-92ef-185592235510",
   "metadata": {},
   "source": [
    "<h1>Validation Set</h1>"
   ]
  },
  {
   "cell_type": "code",
   "execution_count": 17,
   "id": "9fcfea80-cd2f-49ed-af12-5b334e065492",
   "metadata": {
    "collapsed": true,
    "jupyter": {
     "outputs_hidden": true
    },
    "tags": []
   },
   "outputs": [
    {
     "name": "stdout",
     "output_type": "stream",
     "text": [
      "Epoch 1/30\n",
      "189/189 - 1s - loss: 0.6488 - accuracy: 0.5402 - val_loss: 0.6456 - val_accuracy: 0.5190 - 879ms/epoch - 5ms/step\n",
      "Epoch 2/30\n",
      "189/189 - 0s - loss: 0.6280 - accuracy: 0.6169 - val_loss: 0.6216 - val_accuracy: 0.6571 - 251ms/epoch - 1ms/step\n",
      "Epoch 3/30\n",
      "189/189 - 0s - loss: 0.6028 - accuracy: 0.6894 - val_loss: 0.5938 - val_accuracy: 0.7048 - 251ms/epoch - 1ms/step\n",
      "Epoch 4/30\n",
      "189/189 - 0s - loss: 0.5741 - accuracy: 0.7376 - val_loss: 0.5604 - val_accuracy: 0.7429 - 272ms/epoch - 1ms/step\n",
      "Epoch 5/30\n",
      "189/189 - 0s - loss: 0.5421 - accuracy: 0.7825 - val_loss: 0.5291 - val_accuracy: 0.7952 - 276ms/epoch - 1ms/step\n",
      "Epoch 6/30\n",
      "189/189 - 0s - loss: 0.5122 - accuracy: 0.8212 - val_loss: 0.4981 - val_accuracy: 0.8000 - 251ms/epoch - 1ms/step\n",
      "Epoch 7/30\n",
      "189/189 - 0s - loss: 0.4826 - accuracy: 0.8503 - val_loss: 0.4688 - val_accuracy: 0.8048 - 251ms/epoch - 1ms/step\n",
      "Epoch 8/30\n",
      "189/189 - 0s - loss: 0.4545 - accuracy: 0.8608 - val_loss: 0.4387 - val_accuracy: 0.8381 - 243ms/epoch - 1ms/step\n",
      "Epoch 9/30\n",
      "189/189 - 0s - loss: 0.4279 - accuracy: 0.8778 - val_loss: 0.4127 - val_accuracy: 0.8476 - 258ms/epoch - 1ms/step\n",
      "Epoch 10/30\n",
      "189/189 - 0s - loss: 0.4038 - accuracy: 0.8926 - val_loss: 0.3894 - val_accuracy: 0.8571 - 244ms/epoch - 1ms/step\n",
      "Epoch 11/30\n",
      "189/189 - 0s - loss: 0.3827 - accuracy: 0.8947 - val_loss: 0.3692 - val_accuracy: 0.8762 - 257ms/epoch - 1ms/step\n",
      "Epoch 12/30\n",
      "189/189 - 0s - loss: 0.3643 - accuracy: 0.9063 - val_loss: 0.3527 - val_accuracy: 0.8905 - 245ms/epoch - 1ms/step\n",
      "Epoch 13/30\n",
      "189/189 - 0s - loss: 0.3486 - accuracy: 0.9185 - val_loss: 0.3386 - val_accuracy: 0.8905 - 267ms/epoch - 1ms/step\n",
      "Epoch 14/30\n",
      "189/189 - 0s - loss: 0.3355 - accuracy: 0.9132 - val_loss: 0.3249 - val_accuracy: 0.9000 - 266ms/epoch - 1ms/step\n",
      "Epoch 15/30\n",
      "189/189 - 0s - loss: 0.3247 - accuracy: 0.9265 - val_loss: 0.3169 - val_accuracy: 0.9000 - 251ms/epoch - 1ms/step\n",
      "Epoch 16/30\n",
      "189/189 - 0s - loss: 0.3159 - accuracy: 0.9212 - val_loss: 0.3083 - val_accuracy: 0.9095 - 314ms/epoch - 2ms/step\n",
      "Epoch 17/30\n",
      "189/189 - 0s - loss: 0.3085 - accuracy: 0.9275 - val_loss: 0.3027 - val_accuracy: 0.9000 - 260ms/epoch - 1ms/step\n",
      "Epoch 18/30\n",
      "189/189 - 0s - loss: 0.3023 - accuracy: 0.9265 - val_loss: 0.2967 - val_accuracy: 0.9095 - 250ms/epoch - 1ms/step\n",
      "Epoch 19/30\n",
      "189/189 - 0s - loss: 0.2970 - accuracy: 0.9280 - val_loss: 0.2923 - val_accuracy: 0.9095 - 267ms/epoch - 1ms/step\n",
      "Epoch 20/30\n",
      "189/189 - 0s - loss: 0.2926 - accuracy: 0.9280 - val_loss: 0.2878 - val_accuracy: 0.9095 - 267ms/epoch - 1ms/step\n",
      "Epoch 21/30\n",
      "189/189 - 0s - loss: 0.2887 - accuracy: 0.9286 - val_loss: 0.2841 - val_accuracy: 0.9190 - 266ms/epoch - 1ms/step\n",
      "Epoch 22/30\n",
      "189/189 - 0s - loss: 0.2855 - accuracy: 0.9323 - val_loss: 0.2824 - val_accuracy: 0.9095 - 282ms/epoch - 1ms/step\n",
      "Epoch 23/30\n",
      "189/189 - 0s - loss: 0.2826 - accuracy: 0.9323 - val_loss: 0.2810 - val_accuracy: 0.9095 - 314ms/epoch - 2ms/step\n",
      "Epoch 24/30\n",
      "189/189 - 0s - loss: 0.2801 - accuracy: 0.9307 - val_loss: 0.2788 - val_accuracy: 0.9095 - 298ms/epoch - 2ms/step\n",
      "Epoch 25/30\n",
      "189/189 - 0s - loss: 0.2780 - accuracy: 0.9296 - val_loss: 0.2765 - val_accuracy: 0.9190 - 298ms/epoch - 2ms/step\n",
      "Epoch 26/30\n",
      "189/189 - 0s - loss: 0.2760 - accuracy: 0.9323 - val_loss: 0.2742 - val_accuracy: 0.9190 - 314ms/epoch - 2ms/step\n",
      "Epoch 27/30\n",
      "189/189 - 0s - loss: 0.2743 - accuracy: 0.9323 - val_loss: 0.2739 - val_accuracy: 0.9190 - 282ms/epoch - 1ms/step\n",
      "Epoch 28/30\n",
      "189/189 - 0s - loss: 0.2726 - accuracy: 0.9333 - val_loss: 0.2728 - val_accuracy: 0.9190 - 267ms/epoch - 1ms/step\n",
      "Epoch 29/30\n",
      "189/189 - 0s - loss: 0.2711 - accuracy: 0.9333 - val_loss: 0.2722 - val_accuracy: 0.9190 - 251ms/epoch - 1ms/step\n",
      "Epoch 30/30\n",
      "189/189 - 0s - loss: 0.2697 - accuracy: 0.9333 - val_loss: 0.2713 - val_accuracy: 0.9190 - 251ms/epoch - 1ms/step\n"
     ]
    },
    {
     "data": {
      "text/plain": [
       "<keras.callbacks.History at 0x1e31e3b8070>"
      ]
     },
     "execution_count": 17,
     "metadata": {},
     "output_type": "execute_result"
    }
   ],
   "source": [
    "# let op de validation_set, want deze gaat voor de shuffling\n",
    "# dus maak eerst de training en valadation sets\n",
    "model.fit(x = scaled_train_samples, y=train_labels, validation_split=0.1, batch_size=10, epochs=30, shuffle=True, verbose=2)"
   ]
  },
  {
   "cell_type": "markdown",
   "id": "b979a4e0-6935-467b-b50e-4114dc053216",
   "metadata": {},
   "source": [
    "<h1>Test set</h1>"
   ]
  },
  {
   "cell_type": "code",
   "execution_count": 18,
   "id": "777f00f1-9a22-4f35-af9c-aad905176474",
   "metadata": {},
   "outputs": [],
   "source": [
    "test_labels = []\n",
    "test_samples = []"
   ]
  },
  {
   "cell_type": "code",
   "execution_count": 20,
   "id": "54fc4d6f-34d5-464b-a14a-bc82b8fa04a6",
   "metadata": {},
   "outputs": [],
   "source": [
    "# Data creation\n",
    "for i in range(10):\n",
    "    random_younger = randint(13,64)\n",
    "    test_samples.append(random_younger)\n",
    "    test_labels.append(1)\n",
    "    \n",
    "    random_older = randint(65,100)\n",
    "    test_samples.append(random_older)\n",
    "    test_labels.append(0)\n",
    "    \n",
    "    \n",
    "for i in range(200):\n",
    "    random_younger = randint(13,64)\n",
    "    test_samples.append(random_younger)\n",
    "    test_labels.append(0)\n",
    "    \n",
    "    random_older = randint(65,100)\n",
    "    test_samples.append(random_older)\n",
    "    test_labels.append(1)\n",
    "    "
   ]
  },
  {
   "cell_type": "code",
   "execution_count": 21,
   "id": "1b6e5520-68fa-4a66-80ac-1358244d3153",
   "metadata": {},
   "outputs": [],
   "source": [
    "test_labels = np.array(test_labels)\n",
    "test_samples = np.array(test_samples)\n",
    "test_labels, test_samples = shuffle(test_labels, test_samples)"
   ]
  },
  {
   "cell_type": "code",
   "execution_count": 22,
   "id": "7991c232-1acd-4d38-91c3-81c723d80aee",
   "metadata": {},
   "outputs": [],
   "source": [
    "scaler = MinMaxScaler(feature_range=(0,1))\n",
    "scaled_test_samples = scaler.fit_transform(test_samples.reshape(-1,1))"
   ]
  },
  {
   "cell_type": "code",
   "execution_count": 23,
   "id": "2879b34a-dc08-4e0a-b028-b138ae919e66",
   "metadata": {},
   "outputs": [],
   "source": [
    "# nu maken we voorspellingen ermee\n",
    "predictions = model.predict(x = scaled_test_samples, batch_size=10, verbose=0)"
   ]
  },
  {
   "cell_type": "code",
   "execution_count": 24,
   "id": "78b9cb35-7b61-4b3a-b193-b6b44b049476",
   "metadata": {},
   "outputs": [],
   "source": [
    "rounded_predictions = np.argmax(predictions, axis=-1)"
   ]
  },
  {
   "cell_type": "code",
   "execution_count": 26,
   "id": "06477ed5-7080-4c4a-b098-be85a530bcef",
   "metadata": {
    "collapsed": true,
    "jupyter": {
     "outputs_hidden": true
    },
    "tags": []
   },
   "outputs": [
    {
     "name": "stdout",
     "output_type": "stream",
     "text": [
      "1\n",
      "1\n",
      "1\n",
      "0\n",
      "0\n",
      "0\n",
      "1\n",
      "1\n",
      "0\n",
      "1\n",
      "0\n",
      "0\n",
      "0\n",
      "0\n",
      "1\n",
      "0\n",
      "1\n",
      "0\n",
      "0\n",
      "0\n",
      "0\n",
      "1\n",
      "0\n",
      "1\n",
      "1\n",
      "1\n",
      "1\n",
      "1\n",
      "0\n",
      "0\n",
      "1\n",
      "1\n",
      "1\n",
      "1\n",
      "1\n",
      "1\n",
      "1\n",
      "1\n",
      "0\n",
      "0\n",
      "0\n",
      "1\n",
      "1\n",
      "0\n",
      "0\n",
      "1\n",
      "0\n",
      "1\n",
      "1\n",
      "1\n",
      "1\n",
      "1\n",
      "1\n",
      "1\n",
      "1\n",
      "1\n",
      "1\n",
      "0\n",
      "1\n",
      "0\n",
      "1\n",
      "1\n",
      "0\n",
      "1\n",
      "1\n",
      "0\n",
      "1\n",
      "0\n",
      "0\n",
      "0\n",
      "0\n",
      "0\n",
      "0\n",
      "1\n",
      "1\n",
      "1\n",
      "0\n",
      "0\n",
      "0\n",
      "1\n",
      "1\n",
      "1\n",
      "0\n",
      "1\n",
      "1\n",
      "1\n",
      "1\n",
      "0\n",
      "1\n",
      "0\n",
      "0\n",
      "0\n",
      "0\n",
      "1\n",
      "1\n",
      "1\n",
      "1\n",
      "1\n",
      "1\n",
      "0\n",
      "1\n",
      "1\n",
      "0\n",
      "1\n",
      "1\n",
      "1\n",
      "1\n",
      "0\n",
      "0\n",
      "1\n",
      "0\n",
      "0\n",
      "0\n",
      "1\n",
      "0\n",
      "1\n",
      "1\n",
      "1\n",
      "1\n",
      "0\n",
      "1\n",
      "1\n",
      "0\n",
      "1\n",
      "0\n",
      "1\n",
      "1\n",
      "1\n",
      "0\n",
      "0\n",
      "1\n",
      "0\n",
      "1\n",
      "0\n",
      "1\n",
      "0\n",
      "0\n",
      "1\n",
      "0\n",
      "0\n",
      "1\n",
      "1\n",
      "0\n",
      "1\n",
      "0\n",
      "1\n",
      "1\n",
      "0\n",
      "0\n",
      "1\n",
      "1\n",
      "0\n",
      "0\n",
      "1\n",
      "1\n",
      "0\n",
      "1\n",
      "1\n",
      "0\n",
      "1\n",
      "0\n",
      "1\n",
      "1\n",
      "0\n",
      "1\n",
      "1\n",
      "0\n",
      "0\n",
      "0\n",
      "1\n",
      "0\n",
      "0\n",
      "1\n",
      "1\n",
      "0\n",
      "0\n",
      "0\n",
      "1\n",
      "0\n",
      "1\n",
      "1\n",
      "0\n",
      "0\n",
      "1\n",
      "0\n",
      "0\n",
      "1\n",
      "0\n",
      "0\n",
      "1\n",
      "1\n",
      "0\n",
      "1\n",
      "1\n",
      "0\n",
      "0\n",
      "0\n",
      "0\n",
      "1\n",
      "1\n",
      "0\n",
      "1\n",
      "0\n",
      "1\n",
      "0\n",
      "1\n",
      "0\n",
      "1\n",
      "0\n",
      "0\n",
      "0\n",
      "1\n",
      "1\n",
      "1\n",
      "0\n",
      "0\n",
      "0\n",
      "1\n",
      "1\n",
      "1\n",
      "1\n",
      "0\n",
      "1\n",
      "1\n",
      "1\n",
      "1\n",
      "0\n",
      "0\n",
      "1\n",
      "0\n",
      "1\n",
      "1\n",
      "0\n",
      "1\n",
      "0\n",
      "0\n",
      "0\n",
      "1\n",
      "1\n",
      "1\n",
      "1\n",
      "1\n",
      "1\n",
      "1\n",
      "1\n",
      "1\n",
      "0\n",
      "0\n",
      "0\n",
      "1\n",
      "0\n",
      "0\n",
      "1\n",
      "0\n",
      "1\n",
      "0\n",
      "0\n",
      "0\n",
      "1\n",
      "1\n",
      "1\n",
      "1\n",
      "0\n",
      "0\n",
      "0\n",
      "0\n",
      "0\n",
      "0\n",
      "1\n",
      "0\n",
      "1\n",
      "0\n",
      "0\n",
      "0\n",
      "1\n",
      "1\n",
      "0\n",
      "1\n",
      "0\n",
      "0\n",
      "1\n",
      "0\n",
      "1\n",
      "0\n",
      "1\n",
      "1\n",
      "0\n",
      "1\n",
      "0\n",
      "0\n",
      "1\n",
      "1\n",
      "1\n",
      "1\n",
      "0\n",
      "0\n",
      "0\n",
      "0\n",
      "0\n",
      "1\n",
      "1\n",
      "0\n",
      "1\n",
      "0\n",
      "1\n",
      "1\n",
      "1\n",
      "0\n",
      "0\n",
      "1\n",
      "0\n",
      "0\n",
      "0\n",
      "1\n",
      "1\n",
      "0\n",
      "1\n",
      "0\n",
      "1\n",
      "1\n",
      "1\n",
      "1\n",
      "0\n",
      "0\n",
      "0\n",
      "0\n",
      "0\n",
      "0\n",
      "1\n",
      "0\n",
      "1\n",
      "1\n",
      "0\n",
      "1\n",
      "0\n",
      "1\n",
      "1\n",
      "0\n",
      "0\n",
      "1\n",
      "1\n",
      "0\n",
      "0\n",
      "1\n",
      "0\n",
      "1\n",
      "0\n",
      "0\n",
      "1\n",
      "0\n",
      "1\n",
      "0\n",
      "0\n",
      "1\n",
      "0\n",
      "1\n",
      "0\n",
      "1\n",
      "1\n",
      "0\n",
      "0\n",
      "0\n",
      "1\n",
      "0\n",
      "1\n",
      "0\n",
      "0\n",
      "1\n",
      "1\n",
      "1\n",
      "1\n",
      "0\n",
      "0\n",
      "0\n",
      "1\n",
      "0\n",
      "1\n",
      "0\n",
      "1\n",
      "0\n",
      "0\n",
      "0\n",
      "0\n",
      "1\n",
      "0\n",
      "1\n",
      "0\n",
      "0\n",
      "1\n",
      "1\n",
      "0\n",
      "1\n",
      "0\n",
      "0\n",
      "0\n",
      "0\n",
      "0\n",
      "1\n",
      "0\n",
      "1\n",
      "0\n",
      "0\n",
      "0\n",
      "1\n",
      "1\n",
      "1\n",
      "0\n",
      "1\n",
      "1\n",
      "0\n",
      "0\n",
      "1\n",
      "1\n",
      "0\n",
      "0\n",
      "1\n",
      "0\n",
      "1\n",
      "1\n",
      "1\n"
     ]
    }
   ],
   "source": [
    "for i in rounded_predictions:\n",
    "    print(i)"
   ]
  },
  {
   "cell_type": "code",
   "execution_count": 27,
   "id": "ae586495-16b7-4f41-a5c5-e6052b1cbee8",
   "metadata": {},
   "outputs": [],
   "source": [
    "# confusion matrix\n",
    "%matplotlib inline\n",
    "from sklearn.metrics import confusion_matrix\n",
    "import itertools\n",
    "import matplotlib.pyplot as plt"
   ]
  },
  {
   "cell_type": "code",
   "execution_count": null,
   "id": "9198cc88-8e30-497e-bfb2-18a0f0019d9a",
   "metadata": {},
   "outputs": [],
   "source": [
    "cm = confusion_matrix(y_true=test_labels, y_pred=rounded_predictions)"
   ]
  },
  {
   "cell_type": "markdown",
   "id": "4e19a1d6-22da-4651-b8a1-ff6fb86862f5",
   "metadata": {},
   "source": [
    "<h1>Load and Save models</h1>"
   ]
  },
  {
   "cell_type": "code",
   "execution_count": 28,
   "id": "229cdb9c-1937-4117-a95e-85927c1805b9",
   "metadata": {},
   "outputs": [],
   "source": [
    "# saving\n",
    "model.save('models/medical_trail_model.h5') "
   ]
  },
  {
   "cell_type": "code",
   "execution_count": 29,
   "id": "0e6aee98-5336-4446-a942-a0187b634702",
   "metadata": {},
   "outputs": [
    {
     "name": "stdout",
     "output_type": "stream",
     "text": [
      "Model: \"newname\"\n",
      "_________________________________________________________________\n",
      " Layer (type)                Output Shape              Param #   \n",
      "=================================================================\n",
      " dense_3 (Dense)             (None, 16)                32        \n",
      "                                                                 \n",
      " dense_4 (Dense)             (None, 32)                544       \n",
      "                                                                 \n",
      " dense_5 (Dense)             (None, 2)                 66        \n",
      "                                                                 \n",
      "=================================================================\n",
      "Total params: 642\n",
      "Trainable params: 642\n",
      "Non-trainable params: 0\n",
      "_________________________________________________________________\n"
     ]
    }
   ],
   "source": [
    "# loading\n",
    "from tensorflow.keras.models import load_model\n",
    "new_model = load_model('models/medical_trail_model.h5') \n",
    "new_model.summary()"
   ]
  },
  {
   "cell_type": "code",
   "execution_count": null,
   "id": "3bef40eb-11b4-4492-a6e4-1be70648e9c9",
   "metadata": {},
   "outputs": [],
   "source": []
  }
 ],
 "metadata": {
  "kernelspec": {
   "display_name": "Python 3 (ipykernel)",
   "language": "python",
   "name": "python3"
  },
  "language_info": {
   "codemirror_mode": {
    "name": "ipython",
    "version": 3
   },
   "file_extension": ".py",
   "mimetype": "text/x-python",
   "name": "python",
   "nbconvert_exporter": "python",
   "pygments_lexer": "ipython3",
   "version": "3.9.13"
  }
 },
 "nbformat": 4,
 "nbformat_minor": 5
}
